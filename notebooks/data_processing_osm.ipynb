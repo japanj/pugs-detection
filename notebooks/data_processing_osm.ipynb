{
 "cells": [
  {
   "cell_type": "markdown",
   "metadata": {},
   "source": [
    "# Import library"
   ]
  },
  {
   "cell_type": "code",
   "execution_count": 146,
   "metadata": {},
   "outputs": [],
   "source": [
    "import osmnx as ox\n",
    "import geopandas as gpd\n",
    "import matplotlib.pyplot as plt\n",
    "import pandas as pd"
   ]
  },
  {
   "cell_type": "markdown",
   "metadata": {},
   "source": [
    "# Import data"
   ]
  },
  {
   "cell_type": "markdown",
   "metadata": {},
   "source": [
    "## Green space from landuse key"
   ]
  },
  {
   "cell_type": "code",
   "execution_count": 147,
   "metadata": {},
   "outputs": [],
   "source": [
    "green_landuse_area = gpd.read_file('../data/raw/osm/green space/green_landuse_area.geojson')"
   ]
  },
  {
   "cell_type": "code",
   "execution_count": 148,
   "metadata": {},
   "outputs": [],
   "source": [
    "green_landuse_area = green_landuse_area.to_crs(epsg=32633)"
   ]
  },
  {
   "cell_type": "code",
   "execution_count": 149,
   "metadata": {},
   "outputs": [
    {
     "data": {
      "text/plain": [
       "Index(['element', 'id', 'landuse', 'name', 'area:highway', 'old_name',\n",
       "       'source', 'addr:city', 'addr:country', 'addr:housenumber',\n",
       "       'addr:postcode', 'addr:street', 'email', 'website', 'barrier',\n",
       "       'operator', 'phone', 'sport', 'created_by', 'note', 'opening_hours',\n",
       "       'wikidata', 'check_date', 'access', 'description', 'leisure',\n",
       "       'contact:email', 'contact:phone', 'contact:website', 'start_date',\n",
       "       'disused:leisure', 'leaf_type', 'toilets:wheelchair', 'tourism',\n",
       "       'wheelchair', 'height', 'surface', 'leaf_cycle', 'comment:history',\n",
       "       'alt_name', 'kerb', 'produce', 'trees', 'name:signed', 'description:de',\n",
       "       'embankment', 'building:levels', 'landcover', 'image', 'noname',\n",
       "       'amenity', 'lit', 'parking', 'smoothness', 'meadow', 'wikipedia',\n",
       "       'genus:de', 'natural', 'species', 'boundary', 'protect_class',\n",
       "       'protection_title', 'ref', 'short_protection_title', 'crop', 'fixme',\n",
       "       'level', 'type', 'name:hsb', 'layer', 'geometry'],\n",
       "      dtype='object')"
      ]
     },
     "execution_count": 149,
     "metadata": {},
     "output_type": "execute_result"
    }
   ],
   "source": [
    "green_landuse_area.columns"
   ]
  },
  {
   "cell_type": "code",
   "execution_count": 150,
   "metadata": {},
   "outputs": [],
   "source": [
    "green_landuse_area = green_landuse_area[['element', 'id', 'landuse', \n",
    "                                         'name', 'barrier', 'note', \n",
    "                                         'opening_hours', 'access', 'description', \n",
    "                                         'leisure', 'tourism', 'surface', \n",
    "                                         'landcover', 'amenity', 'natural', \n",
    "                                         'type', 'geometry']]"
   ]
  },
  {
   "cell_type": "code",
   "execution_count": 151,
   "metadata": {},
   "outputs": [],
   "source": [
    "green_landuse_area['area'] = green_landuse_area['geometry'].area"
   ]
  },
  {
   "cell_type": "code",
   "execution_count": 152,
   "metadata": {},
   "outputs": [
    {
     "data": {
      "text/plain": [
       "array([None, 'yes', 'private'], dtype=object)"
      ]
     },
     "execution_count": 152,
     "metadata": {},
     "output_type": "execute_result"
    }
   ],
   "source": [
    "green_landuse_area['access'].unique()"
   ]
  },
  {
   "cell_type": "code",
   "execution_count": 153,
   "metadata": {},
   "outputs": [
    {
     "name": "stdout",
     "output_type": "stream",
     "text": [
      "total rows: 2352\n",
      "access is None: 2340\n",
      "access is yes : 1\n",
      "access is private : 11\n"
     ]
    }
   ],
   "source": [
    "print('total rows:', green_landuse_area.shape[0])  # number of rows\n",
    "for i in green_landuse_area['access'].unique():\n",
    "    if i == None:\n",
    "        print('access is None:', green_landuse_area[green_landuse_area['access'].isnull()].shape[0])\n",
    "    else:\n",
    "        # print number of rows that has access e.g. private,yes,none or others\n",
    "        print('access is', i , ':', green_landuse_area[green_landuse_area['access']==i].shape[0])"
   ]
  },
  {
   "cell_type": "code",
   "execution_count": 154,
   "metadata": {},
   "outputs": [
    {
     "data": {
      "text/plain": [
       "array(['multipolygon', None], dtype=object)"
      ]
     },
     "execution_count": 154,
     "metadata": {},
     "output_type": "execute_result"
    }
   ],
   "source": [
    "green_landuse_area['type'].unique()"
   ]
  },
  {
   "cell_type": "code",
   "execution_count": 155,
   "metadata": {},
   "outputs": [
    {
     "data": {
      "text/plain": [
       "array(['MultiPolygon', 'Polygon'], dtype=object)"
      ]
     },
     "execution_count": 155,
     "metadata": {},
     "output_type": "execute_result"
    }
   ],
   "source": [
    "green_landuse_area['geometry'].type.unique()"
   ]
  },
  {
   "cell_type": "markdown",
   "metadata": {},
   "source": [
    "## Green space from leisure key"
   ]
  },
  {
   "cell_type": "code",
   "execution_count": 156,
   "metadata": {},
   "outputs": [],
   "source": [
    "green_leisure_area = gpd.read_file('../data/raw/osm/green space/green_leisure_area.geojson')"
   ]
  },
  {
   "cell_type": "code",
   "execution_count": 157,
   "metadata": {},
   "outputs": [],
   "source": [
    "green_leisure_area = green_leisure_area.to_crs(epsg=32633)"
   ]
  },
  {
   "cell_type": "code",
   "execution_count": 158,
   "metadata": {},
   "outputs": [
    {
     "data": {
      "text/plain": [
       "Index(['element', 'id', 'access', 'leisure', 'name', 'opening_hours',\n",
       "       'operator', 'wheelchair', 'sport', 'description', 'layer', 'check_date',\n",
       "       'playground', 'source', 'lit', 'max_age', 'min_age', 'addr:city',\n",
       "       'addr:housenumber', 'addr:postcode', 'addr:street', 'note', 'surface',\n",
       "       'indoor', 'check_date:opening_hours', 'cn_tud:token', 'fee', 'website',\n",
       "       'garden:type', 'operator:type', 'reservation', 'email', 'old_name',\n",
       "       'old_name:1897', 'alt_name', 'loc_name', 'wikidata', 'wikipedia',\n",
       "       'heritage', 'name:etymology:wikidata', 'created_by', 'addr:country',\n",
       "       'barrier', 'dog', 'playground:theme', 'toilets:wheelchair',\n",
       "       'contact:email', 'contact:fax', 'contact:phone', 'contact:website',\n",
       "       'attraction', 'name:cs', 'species:wikidata', 'landuse', 'image', 'ref',\n",
       "       'phone', 'natural', 'area', 'bicycle', 'service', 'vehicle', 'hoops',\n",
       "       'height', 'place', 'operator:wikidata', 'start_date', 'species:de',\n",
       "       'description:de', 'charge', 'athletics', 'landcover', 'capacity',\n",
       "       'fence_type', 'strapline', 'network', 'fixme', 'contact:mobile',\n",
       "       'level', 'wall', 'garden:style', 'name:de', 'material', 'pitch:net',\n",
       "       'pitch:net:material', 'pitch:net:overhang', 'operator:short', 'type',\n",
       "       'contact:facebook', 'name:fr', 'geometry'],\n",
       "      dtype='object')"
      ]
     },
     "execution_count": 158,
     "metadata": {},
     "output_type": "execute_result"
    }
   ],
   "source": [
    "green_leisure_area.columns"
   ]
  },
  {
   "cell_type": "code",
   "execution_count": 159,
   "metadata": {},
   "outputs": [
    {
     "data": {
      "text/plain": [
       "array([None, '8-14€ pro Stunde und Feld'], dtype=object)"
      ]
     },
     "execution_count": 159,
     "metadata": {},
     "output_type": "execute_result"
    }
   ],
   "source": [
    "green_leisure_area['charge'].unique()"
   ]
  },
  {
   "cell_type": "code",
   "execution_count": 160,
   "metadata": {},
   "outputs": [],
   "source": [
    "green_leisure_area = green_leisure_area[['element', 'id', 'access', \n",
    "                                         'leisure', 'name', 'opening_hours', 'indoor',\n",
    "                                         'operator', 'description', 'playground',\n",
    "                                         'note', 'surface', 'fee', \n",
    "                                         'barrier', 'landuse', 'natural',\n",
    "                                         'charge', 'landcover', 'fence_type', \n",
    "                                         'wall', 'type', 'geometry']]"
   ]
  },
  {
   "cell_type": "code",
   "execution_count": 161,
   "metadata": {},
   "outputs": [],
   "source": [
    "green_leisure_area['area'] = green_leisure_area['geometry'].area"
   ]
  },
  {
   "cell_type": "code",
   "execution_count": 162,
   "metadata": {},
   "outputs": [
    {
     "data": {
      "text/plain": [
       "array(['yes', 'private', None, 'customers', 'permissive', 'permit'],\n",
       "      dtype=object)"
      ]
     },
     "execution_count": 162,
     "metadata": {},
     "output_type": "execute_result"
    }
   ],
   "source": [
    "green_leisure_area['access'].unique()"
   ]
  },
  {
   "cell_type": "code",
   "execution_count": 163,
   "metadata": {},
   "outputs": [
    {
     "name": "stdout",
     "output_type": "stream",
     "text": [
      "total rows: 1136\n",
      "access is yes : 253\n",
      "access is private : 138\n",
      "access is None: 696\n",
      "access is customers : 27\n",
      "access is permissive : 19\n",
      "access is permit : 3\n"
     ]
    }
   ],
   "source": [
    "print('total rows:', green_leisure_area.shape[0])  # number of rows\n",
    "for i in green_leisure_area['access'].unique():\n",
    "    if i == None:\n",
    "        print('access is None:', green_leisure_area[green_leisure_area['access'].isnull()].shape[0])\n",
    "    else:\n",
    "        # print number of rows that has access e.g. private,yes,none or others\n",
    "        print('access is', i , ':', green_leisure_area[green_leisure_area['access']==i].shape[0])"
   ]
  },
  {
   "cell_type": "markdown",
   "metadata": {},
   "source": [
    "## Green space from nature key"
   ]
  },
  {
   "cell_type": "code",
   "execution_count": 164,
   "metadata": {},
   "outputs": [],
   "source": [
    "green_natural_area = gpd.read_file('../data/raw/osm/green space/green_natural_area.geojson')"
   ]
  },
  {
   "cell_type": "code",
   "execution_count": 165,
   "metadata": {},
   "outputs": [],
   "source": [
    "green_natural_area = green_natural_area.to_crs(epsg=32633)"
   ]
  },
  {
   "cell_type": "code",
   "execution_count": 166,
   "metadata": {},
   "outputs": [
    {
     "data": {
      "text/plain": [
       "Index(['element', 'id', 'natural', 'attraction', 'name', 'name:cs',\n",
       "       'species:de', 'species:wikidata', 'wheelchair', 'leaf_type', 'fixme',\n",
       "       'note', 'leisure', 'leaf_cycle', 'description', 'embankment', 'barrier',\n",
       "       'landuse', 'source', 'height', 'old_name:cs', 'level', 'man_made',\n",
       "       'description:de', 'image', 'landcover', 'comment', 'access', 'fee',\n",
       "       'species:wikipedia', 'type', 'geometry'],\n",
       "      dtype='object')"
      ]
     },
     "execution_count": 166,
     "metadata": {},
     "output_type": "execute_result"
    }
   ],
   "source": [
    "green_natural_area.columns"
   ]
  },
  {
   "cell_type": "code",
   "execution_count": 167,
   "metadata": {},
   "outputs": [
    {
     "data": {
      "text/plain": [
       "array([None,\n",
       "       'Mitte November 2018 startete eine heftige Baggeraktivität hier'],\n",
       "      dtype=object)"
      ]
     },
     "execution_count": 167,
     "metadata": {},
     "output_type": "execute_result"
    }
   ],
   "source": [
    "green_natural_area['comment'].unique()"
   ]
  },
  {
   "cell_type": "code",
   "execution_count": 168,
   "metadata": {},
   "outputs": [],
   "source": [
    "green_natural_area = green_natural_area[['element', 'id', 'natural', \n",
    "                                         'name', 'note', 'leisure',\n",
    "                                         'description', 'barrier', 'landuse',\n",
    "                                         'landcover', 'access', 'fee', 'type', 'geometry']]"
   ]
  },
  {
   "cell_type": "code",
   "execution_count": 169,
   "metadata": {},
   "outputs": [],
   "source": [
    "green_natural_area['area'] = green_natural_area['geometry'].area"
   ]
  },
  {
   "cell_type": "code",
   "execution_count": 170,
   "metadata": {},
   "outputs": [
    {
     "data": {
      "text/plain": [
       "array([None, 'yes'], dtype=object)"
      ]
     },
     "execution_count": 170,
     "metadata": {},
     "output_type": "execute_result"
    }
   ],
   "source": [
    "green_natural_area['access'].unique()"
   ]
  },
  {
   "cell_type": "code",
   "execution_count": 171,
   "metadata": {},
   "outputs": [
    {
     "name": "stdout",
     "output_type": "stream",
     "text": [
      "total rows: 529\n",
      "access is None: 526\n",
      "access is yes : 3\n"
     ]
    }
   ],
   "source": [
    "print('total rows:', green_natural_area.shape[0])  # number of rows\n",
    "for i in green_natural_area['access'].unique():\n",
    "    if i == None:\n",
    "        print('access is None:', green_natural_area[green_natural_area['access'].isnull()].shape[0])\n",
    "    else:\n",
    "        # print number of rows that has access e.g. private,yes,none or others\n",
    "        print('access is', i , ':', green_natural_area[green_natural_area['access']==i].shape[0])"
   ]
  },
  {
   "cell_type": "markdown",
   "metadata": {},
   "source": [
    "## Green space from camp site"
   ]
  },
  {
   "cell_type": "code",
   "execution_count": 172,
   "metadata": {},
   "outputs": [],
   "source": [
    "green_campsite_area = gpd.read_file('../data/raw/osm/green space/green_campsite_area.geojson')"
   ]
  },
  {
   "cell_type": "code",
   "execution_count": 173,
   "metadata": {},
   "outputs": [],
   "source": [
    "green_campsite_area = green_campsite_area.to_crs(epsg=32633)"
   ]
  },
  {
   "cell_type": "code",
   "execution_count": 174,
   "metadata": {},
   "outputs": [
    {
     "data": {
      "text/html": [
       "<div>\n",
       "<style scoped>\n",
       "    .dataframe tbody tr th:only-of-type {\n",
       "        vertical-align: middle;\n",
       "    }\n",
       "\n",
       "    .dataframe tbody tr th {\n",
       "        vertical-align: top;\n",
       "    }\n",
       "\n",
       "    .dataframe thead th {\n",
       "        text-align: right;\n",
       "    }\n",
       "</style>\n",
       "<table border=\"1\" class=\"dataframe\">\n",
       "  <thead>\n",
       "    <tr style=\"text-align: right;\">\n",
       "      <th></th>\n",
       "      <th>element</th>\n",
       "      <th>id</th>\n",
       "      <th>tourism</th>\n",
       "      <th>shelter</th>\n",
       "      <th>seats</th>\n",
       "      <th>covered</th>\n",
       "      <th>access</th>\n",
       "      <th>addr:city</th>\n",
       "      <th>addr:housenumber</th>\n",
       "      <th>addr:postcode</th>\n",
       "      <th>addr:street</th>\n",
       "      <th>geometry</th>\n",
       "    </tr>\n",
       "  </thead>\n",
       "  <tbody>\n",
       "    <tr>\n",
       "      <th>0</th>\n",
       "      <td>node</td>\n",
       "      <td>3128780402</td>\n",
       "      <td>picnic_site</td>\n",
       "      <td>None</td>\n",
       "      <td>None</td>\n",
       "      <td>None</td>\n",
       "      <td>None</td>\n",
       "      <td>None</td>\n",
       "      <td>None</td>\n",
       "      <td>None</td>\n",
       "      <td>None</td>\n",
       "      <td>POINT (412264.551 5653901.83)</td>\n",
       "    </tr>\n",
       "    <tr>\n",
       "      <th>1</th>\n",
       "      <td>node</td>\n",
       "      <td>3163118403</td>\n",
       "      <td>picnic_site</td>\n",
       "      <td>no</td>\n",
       "      <td>None</td>\n",
       "      <td>None</td>\n",
       "      <td>None</td>\n",
       "      <td>None</td>\n",
       "      <td>None</td>\n",
       "      <td>None</td>\n",
       "      <td>None</td>\n",
       "      <td>POINT (410834.202 5654098.847)</td>\n",
       "    </tr>\n",
       "    <tr>\n",
       "      <th>2</th>\n",
       "      <td>node</td>\n",
       "      <td>3806645587</td>\n",
       "      <td>picnic_site</td>\n",
       "      <td>no</td>\n",
       "      <td>None</td>\n",
       "      <td>None</td>\n",
       "      <td>None</td>\n",
       "      <td>None</td>\n",
       "      <td>None</td>\n",
       "      <td>None</td>\n",
       "      <td>None</td>\n",
       "      <td>POINT (410891.184 5653950.093)</td>\n",
       "    </tr>\n",
       "    <tr>\n",
       "      <th>3</th>\n",
       "      <td>node</td>\n",
       "      <td>4352882229</td>\n",
       "      <td>picnic_site</td>\n",
       "      <td>None</td>\n",
       "      <td>None</td>\n",
       "      <td>None</td>\n",
       "      <td>None</td>\n",
       "      <td>None</td>\n",
       "      <td>None</td>\n",
       "      <td>None</td>\n",
       "      <td>None</td>\n",
       "      <td>POINT (409894.214 5653944.981)</td>\n",
       "    </tr>\n",
       "    <tr>\n",
       "      <th>4</th>\n",
       "      <td>node</td>\n",
       "      <td>4888415416</td>\n",
       "      <td>picnic_site</td>\n",
       "      <td>None</td>\n",
       "      <td>20</td>\n",
       "      <td>None</td>\n",
       "      <td>None</td>\n",
       "      <td>None</td>\n",
       "      <td>None</td>\n",
       "      <td>None</td>\n",
       "      <td>None</td>\n",
       "      <td>POINT (410702.148 5653820.301)</td>\n",
       "    </tr>\n",
       "  </tbody>\n",
       "</table>\n",
       "</div>"
      ],
      "text/plain": [
       "  element          id      tourism shelter seats covered access addr:city  \\\n",
       "0    node  3128780402  picnic_site    None  None    None   None      None   \n",
       "1    node  3163118403  picnic_site      no  None    None   None      None   \n",
       "2    node  3806645587  picnic_site      no  None    None   None      None   \n",
       "3    node  4352882229  picnic_site    None  None    None   None      None   \n",
       "4    node  4888415416  picnic_site    None    20    None   None      None   \n",
       "\n",
       "  addr:housenumber addr:postcode addr:street                        geometry  \n",
       "0             None          None        None   POINT (412264.551 5653901.83)  \n",
       "1             None          None        None  POINT (410834.202 5654098.847)  \n",
       "2             None          None        None  POINT (410891.184 5653950.093)  \n",
       "3             None          None        None  POINT (409894.214 5653944.981)  \n",
       "4             None          None        None  POINT (410702.148 5653820.301)  "
      ]
     },
     "execution_count": 174,
     "metadata": {},
     "output_type": "execute_result"
    }
   ],
   "source": [
    "green_campsite_area.head()"
   ]
  },
  {
   "cell_type": "code",
   "execution_count": 175,
   "metadata": {},
   "outputs": [],
   "source": [
    "green_campsite_area['area'] = green_campsite_area['geometry'].area"
   ]
  },
  {
   "cell_type": "code",
   "execution_count": 176,
   "metadata": {},
   "outputs": [
    {
     "name": "stdout",
     "output_type": "stream",
     "text": [
      "total rows: 11\n",
      "access is None: 9\n",
      "access is private : 2\n"
     ]
    }
   ],
   "source": [
    "print('total rows:', green_campsite_area.shape[0])  # number of rows\n",
    "for i in green_campsite_area['access'].unique():\n",
    "    if i == None:\n",
    "        print('access is None:', green_campsite_area[green_campsite_area['access'].isnull()].shape[0])\n",
    "    else:\n",
    "        # print number of rows that has access e.g. private,yes,none or others\n",
    "        print('access is', i , ':', green_campsite_area[green_campsite_area['access']==i].shape[0])"
   ]
  },
  {
   "cell_type": "markdown",
   "metadata": {},
   "source": [
    "## Spatial join green space polygons (within)\n",
    "If small polygon is in larger polygon, only keep the larger polygon"
   ]
  },
  {
   "cell_type": "code",
   "execution_count": 179,
   "metadata": {},
   "outputs": [
    {
     "name": "stdout",
     "output_type": "stream",
     "text": [
      "i: 0 j: 1 row: 2352\n",
      "i: 0 j: 2 row: 2352\n",
      "i: 0 j: 3 row: 2352\n",
      "i: 1 j: 0 row: 1136\n",
      "i: 1 j: 2 row: 1136\n",
      "i: 1 j: 3 row: 1136\n",
      "i: 2 j: 0 row: 529\n",
      "i: 2 j: 1 row: 529\n",
      "i: 2 j: 3 row: 529\n",
      "i: 3 j: 0 row: 11\n",
      "i: 3 j: 1 row: 11\n",
      "i: 3 j: 2 row: 11\n"
     ]
    }
   ],
   "source": [
    "gdf_list = [green_landuse_area, green_leisure_area, green_natural_area, green_campsite_area]\n",
    "count = 0\n",
    "for i in range(len(gdf_list)):\n",
    "    for j in range(len(gdf_list)):\n",
    "        if i != j:\n",
    "            temp_gdf = gdf_list[i].sjoin(gdf_list[j], how='left', predicate='within')\n",
    "            print('i:', i, 'j:', j, 'row:', temp_gdf.shape[0])\n",
    "            if count == 0:\n",
    "                joined_green_space = temp_gdf\n",
    "            else:\n",
    "                joined_green_space = pd.concat([joined_green_space, temp_gdf], ignore_index=True)\n",
    "            count += 1"
   ]
  },
  {
   "cell_type": "code",
   "execution_count": 198,
   "metadata": {},
   "outputs": [],
   "source": [
    "# Remove rows where `id_right` exists in `id_left`\n",
    "clean_joined_green_space = joined_green_space[~joined_green_space['id_right'].isin(joined_green_space['id_left'])]"
   ]
  },
  {
   "cell_type": "code",
   "execution_count": 199,
   "metadata": {},
   "outputs": [
    {
     "data": {
      "text/html": [
       "<div>\n",
       "<style scoped>\n",
       "    .dataframe tbody tr th:only-of-type {\n",
       "        vertical-align: middle;\n",
       "    }\n",
       "\n",
       "    .dataframe tbody tr th {\n",
       "        vertical-align: top;\n",
       "    }\n",
       "\n",
       "    .dataframe thead th {\n",
       "        text-align: right;\n",
       "    }\n",
       "</style>\n",
       "<table border=\"1\" class=\"dataframe\">\n",
       "  <thead>\n",
       "    <tr style=\"text-align: right;\">\n",
       "      <th></th>\n",
       "      <th>element_left</th>\n",
       "      <th>id_left</th>\n",
       "      <th>landuse_left</th>\n",
       "      <th>name_left</th>\n",
       "      <th>barrier_left</th>\n",
       "      <th>note_left</th>\n",
       "      <th>opening_hours_left</th>\n",
       "      <th>access_left</th>\n",
       "      <th>description_left</th>\n",
       "      <th>leisure_left</th>\n",
       "      <th>...</th>\n",
       "      <th>tourism_right</th>\n",
       "      <th>shelter</th>\n",
       "      <th>seats</th>\n",
       "      <th>covered</th>\n",
       "      <th>addr:city</th>\n",
       "      <th>addr:housenumber</th>\n",
       "      <th>addr:postcode</th>\n",
       "      <th>addr:street</th>\n",
       "      <th>fee_left</th>\n",
       "      <th>fee_right</th>\n",
       "    </tr>\n",
       "  </thead>\n",
       "  <tbody>\n",
       "    <tr>\n",
       "      <th>0</th>\n",
       "      <td>relation</td>\n",
       "      <td>6128</td>\n",
       "      <td>forest</td>\n",
       "      <td>Dresdner Heide</td>\n",
       "      <td>None</td>\n",
       "      <td>None</td>\n",
       "      <td>None</td>\n",
       "      <td>None</td>\n",
       "      <td>None</td>\n",
       "      <td>None</td>\n",
       "      <td>...</td>\n",
       "      <td>NaN</td>\n",
       "      <td>NaN</td>\n",
       "      <td>NaN</td>\n",
       "      <td>NaN</td>\n",
       "      <td>NaN</td>\n",
       "      <td>NaN</td>\n",
       "      <td>NaN</td>\n",
       "      <td>NaN</td>\n",
       "      <td>NaN</td>\n",
       "      <td>NaN</td>\n",
       "    </tr>\n",
       "    <tr>\n",
       "      <th>6</th>\n",
       "      <td>relation</td>\n",
       "      <td>1561653</td>\n",
       "      <td>grass</td>\n",
       "      <td>None</td>\n",
       "      <td>None</td>\n",
       "      <td>None</td>\n",
       "      <td>None</td>\n",
       "      <td>None</td>\n",
       "      <td>None</td>\n",
       "      <td>None</td>\n",
       "      <td>...</td>\n",
       "      <td>NaN</td>\n",
       "      <td>NaN</td>\n",
       "      <td>NaN</td>\n",
       "      <td>NaN</td>\n",
       "      <td>NaN</td>\n",
       "      <td>NaN</td>\n",
       "      <td>NaN</td>\n",
       "      <td>NaN</td>\n",
       "      <td>NaN</td>\n",
       "      <td>NaN</td>\n",
       "    </tr>\n",
       "    <tr>\n",
       "      <th>7</th>\n",
       "      <td>relation</td>\n",
       "      <td>1561655</td>\n",
       "      <td>grass</td>\n",
       "      <td>None</td>\n",
       "      <td>None</td>\n",
       "      <td>None</td>\n",
       "      <td>None</td>\n",
       "      <td>None</td>\n",
       "      <td>None</td>\n",
       "      <td>None</td>\n",
       "      <td>...</td>\n",
       "      <td>NaN</td>\n",
       "      <td>NaN</td>\n",
       "      <td>NaN</td>\n",
       "      <td>NaN</td>\n",
       "      <td>NaN</td>\n",
       "      <td>NaN</td>\n",
       "      <td>NaN</td>\n",
       "      <td>NaN</td>\n",
       "      <td>NaN</td>\n",
       "      <td>NaN</td>\n",
       "    </tr>\n",
       "    <tr>\n",
       "      <th>9</th>\n",
       "      <td>relation</td>\n",
       "      <td>2971984</td>\n",
       "      <td>grass</td>\n",
       "      <td>None</td>\n",
       "      <td>None</td>\n",
       "      <td>None</td>\n",
       "      <td>None</td>\n",
       "      <td>None</td>\n",
       "      <td>None</td>\n",
       "      <td>None</td>\n",
       "      <td>...</td>\n",
       "      <td>NaN</td>\n",
       "      <td>NaN</td>\n",
       "      <td>NaN</td>\n",
       "      <td>NaN</td>\n",
       "      <td>NaN</td>\n",
       "      <td>NaN</td>\n",
       "      <td>NaN</td>\n",
       "      <td>NaN</td>\n",
       "      <td>NaN</td>\n",
       "      <td>NaN</td>\n",
       "    </tr>\n",
       "    <tr>\n",
       "      <th>10</th>\n",
       "      <td>relation</td>\n",
       "      <td>3250751</td>\n",
       "      <td>grass</td>\n",
       "      <td>None</td>\n",
       "      <td>None</td>\n",
       "      <td>None</td>\n",
       "      <td>None</td>\n",
       "      <td>None</td>\n",
       "      <td>None</td>\n",
       "      <td>None</td>\n",
       "      <td>...</td>\n",
       "      <td>NaN</td>\n",
       "      <td>NaN</td>\n",
       "      <td>NaN</td>\n",
       "      <td>NaN</td>\n",
       "      <td>NaN</td>\n",
       "      <td>NaN</td>\n",
       "      <td>NaN</td>\n",
       "      <td>NaN</td>\n",
       "      <td>NaN</td>\n",
       "      <td>NaN</td>\n",
       "    </tr>\n",
       "    <tr>\n",
       "      <th>...</th>\n",
       "      <td>...</td>\n",
       "      <td>...</td>\n",
       "      <td>...</td>\n",
       "      <td>...</td>\n",
       "      <td>...</td>\n",
       "      <td>...</td>\n",
       "      <td>...</td>\n",
       "      <td>...</td>\n",
       "      <td>...</td>\n",
       "      <td>...</td>\n",
       "      <td>...</td>\n",
       "      <td>...</td>\n",
       "      <td>...</td>\n",
       "      <td>...</td>\n",
       "      <td>...</td>\n",
       "      <td>...</td>\n",
       "      <td>...</td>\n",
       "      <td>...</td>\n",
       "      <td>...</td>\n",
       "      <td>...</td>\n",
       "      <td>...</td>\n",
       "    </tr>\n",
       "    <tr>\n",
       "      <th>12079</th>\n",
       "      <td>node</td>\n",
       "      <td>6591319651</td>\n",
       "      <td>NaN</td>\n",
       "      <td>NaN</td>\n",
       "      <td>NaN</td>\n",
       "      <td>NaN</td>\n",
       "      <td>NaN</td>\n",
       "      <td>None</td>\n",
       "      <td>NaN</td>\n",
       "      <td>NaN</td>\n",
       "      <td>...</td>\n",
       "      <td>NaN</td>\n",
       "      <td>None</td>\n",
       "      <td>None</td>\n",
       "      <td>no</td>\n",
       "      <td>None</td>\n",
       "      <td>None</td>\n",
       "      <td>None</td>\n",
       "      <td>None</td>\n",
       "      <td>NaN</td>\n",
       "      <td>NaN</td>\n",
       "    </tr>\n",
       "    <tr>\n",
       "      <th>12080</th>\n",
       "      <td>node</td>\n",
       "      <td>12213145709</td>\n",
       "      <td>NaN</td>\n",
       "      <td>NaN</td>\n",
       "      <td>NaN</td>\n",
       "      <td>NaN</td>\n",
       "      <td>NaN</td>\n",
       "      <td>None</td>\n",
       "      <td>NaN</td>\n",
       "      <td>NaN</td>\n",
       "      <td>...</td>\n",
       "      <td>NaN</td>\n",
       "      <td>None</td>\n",
       "      <td>None</td>\n",
       "      <td>None</td>\n",
       "      <td>None</td>\n",
       "      <td>None</td>\n",
       "      <td>None</td>\n",
       "      <td>None</td>\n",
       "      <td>NaN</td>\n",
       "      <td>NaN</td>\n",
       "    </tr>\n",
       "    <tr>\n",
       "      <th>12081</th>\n",
       "      <td>way</td>\n",
       "      <td>998771902</td>\n",
       "      <td>NaN</td>\n",
       "      <td>NaN</td>\n",
       "      <td>NaN</td>\n",
       "      <td>NaN</td>\n",
       "      <td>NaN</td>\n",
       "      <td>private</td>\n",
       "      <td>NaN</td>\n",
       "      <td>NaN</td>\n",
       "      <td>...</td>\n",
       "      <td>NaN</td>\n",
       "      <td>None</td>\n",
       "      <td>None</td>\n",
       "      <td>None</td>\n",
       "      <td>None</td>\n",
       "      <td>None</td>\n",
       "      <td>None</td>\n",
       "      <td>None</td>\n",
       "      <td>NaN</td>\n",
       "      <td>NaN</td>\n",
       "    </tr>\n",
       "    <tr>\n",
       "      <th>12082</th>\n",
       "      <td>way</td>\n",
       "      <td>1009950825</td>\n",
       "      <td>NaN</td>\n",
       "      <td>NaN</td>\n",
       "      <td>NaN</td>\n",
       "      <td>NaN</td>\n",
       "      <td>NaN</td>\n",
       "      <td>private</td>\n",
       "      <td>NaN</td>\n",
       "      <td>NaN</td>\n",
       "      <td>...</td>\n",
       "      <td>NaN</td>\n",
       "      <td>None</td>\n",
       "      <td>None</td>\n",
       "      <td>None</td>\n",
       "      <td>Dresden</td>\n",
       "      <td>3</td>\n",
       "      <td>01159</td>\n",
       "      <td>Saalhausener Straße</td>\n",
       "      <td>NaN</td>\n",
       "      <td>NaN</td>\n",
       "    </tr>\n",
       "    <tr>\n",
       "      <th>12083</th>\n",
       "      <td>way</td>\n",
       "      <td>1314627716</td>\n",
       "      <td>NaN</td>\n",
       "      <td>NaN</td>\n",
       "      <td>NaN</td>\n",
       "      <td>NaN</td>\n",
       "      <td>NaN</td>\n",
       "      <td>None</td>\n",
       "      <td>NaN</td>\n",
       "      <td>NaN</td>\n",
       "      <td>...</td>\n",
       "      <td>NaN</td>\n",
       "      <td>None</td>\n",
       "      <td>None</td>\n",
       "      <td>None</td>\n",
       "      <td>None</td>\n",
       "      <td>None</td>\n",
       "      <td>None</td>\n",
       "      <td>None</td>\n",
       "      <td>NaN</td>\n",
       "      <td>NaN</td>\n",
       "    </tr>\n",
       "  </tbody>\n",
       "</table>\n",
       "<p>11745 rows × 63 columns</p>\n",
       "</div>"
      ],
      "text/plain": [
       "      element_left      id_left landuse_left       name_left barrier_left  \\\n",
       "0         relation         6128       forest  Dresdner Heide         None   \n",
       "6         relation      1561653        grass            None         None   \n",
       "7         relation      1561655        grass            None         None   \n",
       "9         relation      2971984        grass            None         None   \n",
       "10        relation      3250751        grass            None         None   \n",
       "...            ...          ...          ...             ...          ...   \n",
       "12079         node   6591319651          NaN             NaN          NaN   \n",
       "12080         node  12213145709          NaN             NaN          NaN   \n",
       "12081          way    998771902          NaN             NaN          NaN   \n",
       "12082          way   1009950825          NaN             NaN          NaN   \n",
       "12083          way   1314627716          NaN             NaN          NaN   \n",
       "\n",
       "      note_left opening_hours_left access_left description_left leisure_left  \\\n",
       "0          None               None        None             None         None   \n",
       "6          None               None        None             None         None   \n",
       "7          None               None        None             None         None   \n",
       "9          None               None        None             None         None   \n",
       "10         None               None        None             None         None   \n",
       "...         ...                ...         ...              ...          ...   \n",
       "12079       NaN                NaN        None              NaN          NaN   \n",
       "12080       NaN                NaN        None              NaN          NaN   \n",
       "12081       NaN                NaN     private              NaN          NaN   \n",
       "12082       NaN                NaN     private              NaN          NaN   \n",
       "12083       NaN                NaN        None              NaN          NaN   \n",
       "\n",
       "       ... tourism_right shelter seats covered addr:city addr:housenumber  \\\n",
       "0      ...           NaN     NaN   NaN     NaN       NaN              NaN   \n",
       "6      ...           NaN     NaN   NaN     NaN       NaN              NaN   \n",
       "7      ...           NaN     NaN   NaN     NaN       NaN              NaN   \n",
       "9      ...           NaN     NaN   NaN     NaN       NaN              NaN   \n",
       "10     ...           NaN     NaN   NaN     NaN       NaN              NaN   \n",
       "...    ...           ...     ...   ...     ...       ...              ...   \n",
       "12079  ...           NaN    None  None      no      None             None   \n",
       "12080  ...           NaN    None  None    None      None             None   \n",
       "12081  ...           NaN    None  None    None      None             None   \n",
       "12082  ...           NaN    None  None    None   Dresden                3   \n",
       "12083  ...           NaN    None  None    None      None             None   \n",
       "\n",
       "      addr:postcode          addr:street  fee_left fee_right  \n",
       "0               NaN                  NaN       NaN       NaN  \n",
       "6               NaN                  NaN       NaN       NaN  \n",
       "7               NaN                  NaN       NaN       NaN  \n",
       "9               NaN                  NaN       NaN       NaN  \n",
       "10              NaN                  NaN       NaN       NaN  \n",
       "...             ...                  ...       ...       ...  \n",
       "12079          None                 None       NaN       NaN  \n",
       "12080          None                 None       NaN       NaN  \n",
       "12081          None                 None       NaN       NaN  \n",
       "12082         01159  Saalhausener Straße       NaN       NaN  \n",
       "12083          None                 None       NaN       NaN  \n",
       "\n",
       "[11745 rows x 63 columns]"
      ]
     },
     "execution_count": 199,
     "metadata": {},
     "output_type": "execute_result"
    }
   ],
   "source": [
    "clean_joined_green_space"
   ]
  },
  {
   "cell_type": "code",
   "execution_count": 222,
   "metadata": {},
   "outputs": [],
   "source": [
    "# joined_green_space[joined_green_space['id_left'] == joined_green_space['id_right']][['id_left', 'id_right', 'area_left', 'area_right']]"
   ]
  },
  {
   "cell_type": "code",
   "execution_count": 223,
   "metadata": {},
   "outputs": [],
   "source": [
    "# clean_joined_green_space[clean_joined_green_space['id_left'] == 43919862]"
   ]
  },
  {
   "cell_type": "code",
   "execution_count": 224,
   "metadata": {},
   "outputs": [],
   "source": [
    "final_joined_green_space = clean_joined_green_space.sort_values(by='name_left', ascending=True).drop_duplicates(subset=['id_left', 'element_left', 'area_left'])"
   ]
  },
  {
   "cell_type": "code",
   "execution_count": 225,
   "metadata": {},
   "outputs": [
    {
     "data": {
      "text/html": [
       "<div>\n",
       "<style scoped>\n",
       "    .dataframe tbody tr th:only-of-type {\n",
       "        vertical-align: middle;\n",
       "    }\n",
       "\n",
       "    .dataframe tbody tr th {\n",
       "        vertical-align: top;\n",
       "    }\n",
       "\n",
       "    .dataframe thead th {\n",
       "        text-align: right;\n",
       "    }\n",
       "</style>\n",
       "<table border=\"1\" class=\"dataframe\">\n",
       "  <thead>\n",
       "    <tr style=\"text-align: right;\">\n",
       "      <th></th>\n",
       "      <th>element_left</th>\n",
       "      <th>id_left</th>\n",
       "      <th>landuse_left</th>\n",
       "      <th>name_left</th>\n",
       "      <th>barrier_left</th>\n",
       "      <th>note_left</th>\n",
       "      <th>opening_hours_left</th>\n",
       "      <th>access_left</th>\n",
       "      <th>description_left</th>\n",
       "      <th>leisure_left</th>\n",
       "      <th>...</th>\n",
       "      <th>tourism_right</th>\n",
       "      <th>shelter</th>\n",
       "      <th>seats</th>\n",
       "      <th>covered</th>\n",
       "      <th>addr:city</th>\n",
       "      <th>addr:housenumber</th>\n",
       "      <th>addr:postcode</th>\n",
       "      <th>addr:street</th>\n",
       "      <th>fee_left</th>\n",
       "      <th>fee_right</th>\n",
       "    </tr>\n",
       "  </thead>\n",
       "  <tbody>\n",
       "    <tr>\n",
       "      <th>8882</th>\n",
       "      <td>way</td>\n",
       "      <td>307673236</td>\n",
       "      <td>None</td>\n",
       "      <td>1</td>\n",
       "      <td>None</td>\n",
       "      <td>None</td>\n",
       "      <td>NaN</td>\n",
       "      <td>None</td>\n",
       "      <td>None</td>\n",
       "      <td>pitch</td>\n",
       "      <td>...</td>\n",
       "      <td>NaN</td>\n",
       "      <td>NaN</td>\n",
       "      <td>NaN</td>\n",
       "      <td>NaN</td>\n",
       "      <td>NaN</td>\n",
       "      <td>NaN</td>\n",
       "      <td>NaN</td>\n",
       "      <td>NaN</td>\n",
       "      <td>yes</td>\n",
       "      <td>NaN</td>\n",
       "    </tr>\n",
       "    <tr>\n",
       "      <th>9009</th>\n",
       "      <td>way</td>\n",
       "      <td>713111867</td>\n",
       "      <td>None</td>\n",
       "      <td>1</td>\n",
       "      <td>None</td>\n",
       "      <td>None</td>\n",
       "      <td>NaN</td>\n",
       "      <td>None</td>\n",
       "      <td>None</td>\n",
       "      <td>pitch</td>\n",
       "      <td>...</td>\n",
       "      <td>NaN</td>\n",
       "      <td>NaN</td>\n",
       "      <td>NaN</td>\n",
       "      <td>NaN</td>\n",
       "      <td>NaN</td>\n",
       "      <td>NaN</td>\n",
       "      <td>NaN</td>\n",
       "      <td>NaN</td>\n",
       "      <td>None</td>\n",
       "      <td>NaN</td>\n",
       "    </tr>\n",
       "    <tr>\n",
       "      <th>9007</th>\n",
       "      <td>way</td>\n",
       "      <td>713111865</td>\n",
       "      <td>None</td>\n",
       "      <td>2</td>\n",
       "      <td>None</td>\n",
       "      <td>None</td>\n",
       "      <td>NaN</td>\n",
       "      <td>None</td>\n",
       "      <td>None</td>\n",
       "      <td>pitch</td>\n",
       "      <td>...</td>\n",
       "      <td>NaN</td>\n",
       "      <td>NaN</td>\n",
       "      <td>NaN</td>\n",
       "      <td>NaN</td>\n",
       "      <td>NaN</td>\n",
       "      <td>NaN</td>\n",
       "      <td>NaN</td>\n",
       "      <td>NaN</td>\n",
       "      <td>None</td>\n",
       "      <td>NaN</td>\n",
       "    </tr>\n",
       "    <tr>\n",
       "      <th>9270</th>\n",
       "      <td>way</td>\n",
       "      <td>1219826678</td>\n",
       "      <td>None</td>\n",
       "      <td>2</td>\n",
       "      <td>None</td>\n",
       "      <td>None</td>\n",
       "      <td>NaN</td>\n",
       "      <td>None</td>\n",
       "      <td>None</td>\n",
       "      <td>pitch</td>\n",
       "      <td>...</td>\n",
       "      <td>NaN</td>\n",
       "      <td>NaN</td>\n",
       "      <td>NaN</td>\n",
       "      <td>NaN</td>\n",
       "      <td>NaN</td>\n",
       "      <td>NaN</td>\n",
       "      <td>NaN</td>\n",
       "      <td>NaN</td>\n",
       "      <td>yes</td>\n",
       "      <td>NaN</td>\n",
       "    </tr>\n",
       "    <tr>\n",
       "      <th>9005</th>\n",
       "      <td>way</td>\n",
       "      <td>713111863</td>\n",
       "      <td>None</td>\n",
       "      <td>3</td>\n",
       "      <td>None</td>\n",
       "      <td>None</td>\n",
       "      <td>NaN</td>\n",
       "      <td>None</td>\n",
       "      <td>None</td>\n",
       "      <td>pitch</td>\n",
       "      <td>...</td>\n",
       "      <td>NaN</td>\n",
       "      <td>NaN</td>\n",
       "      <td>NaN</td>\n",
       "      <td>NaN</td>\n",
       "      <td>NaN</td>\n",
       "      <td>NaN</td>\n",
       "      <td>NaN</td>\n",
       "      <td>NaN</td>\n",
       "      <td>None</td>\n",
       "      <td>NaN</td>\n",
       "    </tr>\n",
       "    <tr>\n",
       "      <th>...</th>\n",
       "      <td>...</td>\n",
       "      <td>...</td>\n",
       "      <td>...</td>\n",
       "      <td>...</td>\n",
       "      <td>...</td>\n",
       "      <td>...</td>\n",
       "      <td>...</td>\n",
       "      <td>...</td>\n",
       "      <td>...</td>\n",
       "      <td>...</td>\n",
       "      <td>...</td>\n",
       "      <td>...</td>\n",
       "      <td>...</td>\n",
       "      <td>...</td>\n",
       "      <td>...</td>\n",
       "      <td>...</td>\n",
       "      <td>...</td>\n",
       "      <td>...</td>\n",
       "      <td>...</td>\n",
       "      <td>...</td>\n",
       "      <td>...</td>\n",
       "    </tr>\n",
       "    <tr>\n",
       "      <th>12059</th>\n",
       "      <td>way</td>\n",
       "      <td>998771902</td>\n",
       "      <td>NaN</td>\n",
       "      <td>NaN</td>\n",
       "      <td>NaN</td>\n",
       "      <td>NaN</td>\n",
       "      <td>NaN</td>\n",
       "      <td>private</td>\n",
       "      <td>NaN</td>\n",
       "      <td>NaN</td>\n",
       "      <td>...</td>\n",
       "      <td>NaN</td>\n",
       "      <td>None</td>\n",
       "      <td>None</td>\n",
       "      <td>None</td>\n",
       "      <td>None</td>\n",
       "      <td>None</td>\n",
       "      <td>None</td>\n",
       "      <td>None</td>\n",
       "      <td>NaN</td>\n",
       "      <td>NaN</td>\n",
       "    </tr>\n",
       "    <tr>\n",
       "      <th>12060</th>\n",
       "      <td>way</td>\n",
       "      <td>1009950825</td>\n",
       "      <td>NaN</td>\n",
       "      <td>NaN</td>\n",
       "      <td>NaN</td>\n",
       "      <td>NaN</td>\n",
       "      <td>NaN</td>\n",
       "      <td>private</td>\n",
       "      <td>NaN</td>\n",
       "      <td>NaN</td>\n",
       "      <td>...</td>\n",
       "      <td>NaN</td>\n",
       "      <td>None</td>\n",
       "      <td>None</td>\n",
       "      <td>None</td>\n",
       "      <td>Dresden</td>\n",
       "      <td>3</td>\n",
       "      <td>01159</td>\n",
       "      <td>Saalhausener Straße</td>\n",
       "      <td>NaN</td>\n",
       "      <td>NaN</td>\n",
       "    </tr>\n",
       "    <tr>\n",
       "      <th>12061</th>\n",
       "      <td>way</td>\n",
       "      <td>1314627716</td>\n",
       "      <td>NaN</td>\n",
       "      <td>NaN</td>\n",
       "      <td>NaN</td>\n",
       "      <td>NaN</td>\n",
       "      <td>NaN</td>\n",
       "      <td>None</td>\n",
       "      <td>NaN</td>\n",
       "      <td>NaN</td>\n",
       "      <td>...</td>\n",
       "      <td>NaN</td>\n",
       "      <td>None</td>\n",
       "      <td>None</td>\n",
       "      <td>None</td>\n",
       "      <td>None</td>\n",
       "      <td>None</td>\n",
       "      <td>None</td>\n",
       "      <td>None</td>\n",
       "      <td>NaN</td>\n",
       "      <td>NaN</td>\n",
       "    </tr>\n",
       "    <tr>\n",
       "      <th>12068</th>\n",
       "      <td>node</td>\n",
       "      <td>6591319651</td>\n",
       "      <td>NaN</td>\n",
       "      <td>NaN</td>\n",
       "      <td>NaN</td>\n",
       "      <td>NaN</td>\n",
       "      <td>NaN</td>\n",
       "      <td>None</td>\n",
       "      <td>NaN</td>\n",
       "      <td>NaN</td>\n",
       "      <td>...</td>\n",
       "      <td>NaN</td>\n",
       "      <td>None</td>\n",
       "      <td>None</td>\n",
       "      <td>no</td>\n",
       "      <td>None</td>\n",
       "      <td>None</td>\n",
       "      <td>None</td>\n",
       "      <td>None</td>\n",
       "      <td>NaN</td>\n",
       "      <td>NaN</td>\n",
       "    </tr>\n",
       "    <tr>\n",
       "      <th>12069</th>\n",
       "      <td>node</td>\n",
       "      <td>12213145709</td>\n",
       "      <td>NaN</td>\n",
       "      <td>NaN</td>\n",
       "      <td>NaN</td>\n",
       "      <td>NaN</td>\n",
       "      <td>NaN</td>\n",
       "      <td>None</td>\n",
       "      <td>NaN</td>\n",
       "      <td>NaN</td>\n",
       "      <td>...</td>\n",
       "      <td>NaN</td>\n",
       "      <td>None</td>\n",
       "      <td>None</td>\n",
       "      <td>None</td>\n",
       "      <td>None</td>\n",
       "      <td>None</td>\n",
       "      <td>None</td>\n",
       "      <td>None</td>\n",
       "      <td>NaN</td>\n",
       "      <td>NaN</td>\n",
       "    </tr>\n",
       "  </tbody>\n",
       "</table>\n",
       "<p>4023 rows × 63 columns</p>\n",
       "</div>"
      ],
      "text/plain": [
       "      element_left      id_left landuse_left name_left barrier_left note_left  \\\n",
       "8882           way    307673236         None         1         None      None   \n",
       "9009           way    713111867         None         1         None      None   \n",
       "9007           way    713111865         None         2         None      None   \n",
       "9270           way   1219826678         None         2         None      None   \n",
       "9005           way    713111863         None         3         None      None   \n",
       "...            ...          ...          ...       ...          ...       ...   \n",
       "12059          way    998771902          NaN       NaN          NaN       NaN   \n",
       "12060          way   1009950825          NaN       NaN          NaN       NaN   \n",
       "12061          way   1314627716          NaN       NaN          NaN       NaN   \n",
       "12068         node   6591319651          NaN       NaN          NaN       NaN   \n",
       "12069         node  12213145709          NaN       NaN          NaN       NaN   \n",
       "\n",
       "      opening_hours_left access_left description_left leisure_left  ...  \\\n",
       "8882                 NaN        None             None        pitch  ...   \n",
       "9009                 NaN        None             None        pitch  ...   \n",
       "9007                 NaN        None             None        pitch  ...   \n",
       "9270                 NaN        None             None        pitch  ...   \n",
       "9005                 NaN        None             None        pitch  ...   \n",
       "...                  ...         ...              ...          ...  ...   \n",
       "12059                NaN     private              NaN          NaN  ...   \n",
       "12060                NaN     private              NaN          NaN  ...   \n",
       "12061                NaN        None              NaN          NaN  ...   \n",
       "12068                NaN        None              NaN          NaN  ...   \n",
       "12069                NaN        None              NaN          NaN  ...   \n",
       "\n",
       "      tourism_right shelter seats covered addr:city addr:housenumber  \\\n",
       "8882            NaN     NaN   NaN     NaN       NaN              NaN   \n",
       "9009            NaN     NaN   NaN     NaN       NaN              NaN   \n",
       "9007            NaN     NaN   NaN     NaN       NaN              NaN   \n",
       "9270            NaN     NaN   NaN     NaN       NaN              NaN   \n",
       "9005            NaN     NaN   NaN     NaN       NaN              NaN   \n",
       "...             ...     ...   ...     ...       ...              ...   \n",
       "12059           NaN    None  None    None      None             None   \n",
       "12060           NaN    None  None    None   Dresden                3   \n",
       "12061           NaN    None  None    None      None             None   \n",
       "12068           NaN    None  None      no      None             None   \n",
       "12069           NaN    None  None    None      None             None   \n",
       "\n",
       "      addr:postcode          addr:street  fee_left fee_right  \n",
       "8882            NaN                  NaN       yes       NaN  \n",
       "9009            NaN                  NaN      None       NaN  \n",
       "9007            NaN                  NaN      None       NaN  \n",
       "9270            NaN                  NaN       yes       NaN  \n",
       "9005            NaN                  NaN      None       NaN  \n",
       "...             ...                  ...       ...       ...  \n",
       "12059          None                 None       NaN       NaN  \n",
       "12060         01159  Saalhausener Straße       NaN       NaN  \n",
       "12061          None                 None       NaN       NaN  \n",
       "12068          None                 None       NaN       NaN  \n",
       "12069          None                 None       NaN       NaN  \n",
       "\n",
       "[4023 rows x 63 columns]"
      ]
     },
     "execution_count": 225,
     "metadata": {},
     "output_type": "execute_result"
    }
   ],
   "source": [
    "final_joined_green_space"
   ]
  },
  {
   "cell_type": "code",
   "execution_count": 227,
   "metadata": {},
   "outputs": [
    {
     "data": {
      "text/plain": [
       "Index(['element_left', 'id_left', 'landuse_left', 'name_left', 'barrier_left',\n",
       "       'note_left', 'opening_hours_left', 'access_left', 'description_left',\n",
       "       'leisure_left', 'tourism', 'surface_left', 'landcover_left', 'amenity',\n",
       "       'natural_left', 'type_left', 'geometry', 'area_left', 'index_right',\n",
       "       'element_right', 'id_right', 'access_right', 'leisure_right',\n",
       "       'name_right', 'opening_hours_right', 'indoor', 'operator',\n",
       "       'description_right', 'playground', 'note_right', 'surface_right', 'fee',\n",
       "       'barrier_right', 'landuse_right', 'natural_right', 'charge',\n",
       "       'landcover_right', 'fence_type', 'wall', 'type_right', 'area_right',\n",
       "       'opening_hours', 'surface', 'landuse', 'name', 'barrier', 'note',\n",
       "       'description', 'leisure', 'tourism_left', 'landcover', 'natural',\n",
       "       'type', 'tourism_right', 'shelter', 'seats', 'covered', 'addr:city',\n",
       "       'addr:housenumber', 'addr:postcode', 'addr:street', 'fee_left',\n",
       "       'fee_right'],\n",
       "      dtype='object')"
      ]
     },
     "execution_count": 227,
     "metadata": {},
     "output_type": "execute_result"
    }
   ],
   "source": [
    "final_joined_green_space.columns"
   ]
  },
  {
   "cell_type": "code",
   "execution_count": 240,
   "metadata": {},
   "outputs": [
    {
     "data": {
      "text/html": [
       "<div>\n",
       "<style scoped>\n",
       "    .dataframe tbody tr th:only-of-type {\n",
       "        vertical-align: middle;\n",
       "    }\n",
       "\n",
       "    .dataframe tbody tr th {\n",
       "        vertical-align: top;\n",
       "    }\n",
       "\n",
       "    .dataframe thead th {\n",
       "        text-align: right;\n",
       "    }\n",
       "</style>\n",
       "<table border=\"1\" class=\"dataframe\">\n",
       "  <thead>\n",
       "    <tr style=\"text-align: right;\">\n",
       "      <th></th>\n",
       "      <th>fee</th>\n",
       "      <th>charge</th>\n",
       "      <th>access_left</th>\n",
       "      <th>access_right</th>\n",
       "      <th>area_left</th>\n",
       "      <th>area_right</th>\n",
       "    </tr>\n",
       "  </thead>\n",
       "  <tbody>\n",
       "  </tbody>\n",
       "</table>\n",
       "</div>"
      ],
      "text/plain": [
       "Empty DataFrame\n",
       "Columns: [fee, charge, access_left, access_right, area_left, area_right]\n",
       "Index: []"
      ]
     },
     "execution_count": 240,
     "metadata": {},
     "output_type": "execute_result"
    }
   ],
   "source": [
    "clean_joined_green_space[~clean_joined_green_space['area_right'].isna()][['fee', 'charge', 'access_left', 'access_right', 'area_left', 'area_right']]"
   ]
  },
  {
   "cell_type": "code",
   "execution_count": 249,
   "metadata": {},
   "outputs": [
    {
     "data": {
      "text/html": [
       "<div>\n",
       "<style scoped>\n",
       "    .dataframe tbody tr th:only-of-type {\n",
       "        vertical-align: middle;\n",
       "    }\n",
       "\n",
       "    .dataframe tbody tr th {\n",
       "        vertical-align: top;\n",
       "    }\n",
       "\n",
       "    .dataframe thead th {\n",
       "        text-align: right;\n",
       "    }\n",
       "</style>\n",
       "<table border=\"1\" class=\"dataframe\">\n",
       "  <thead>\n",
       "    <tr style=\"text-align: right;\">\n",
       "      <th></th>\n",
       "      <th>id_left</th>\n",
       "      <th>id_right</th>\n",
       "      <th>area_left</th>\n",
       "      <th>area_right</th>\n",
       "    </tr>\n",
       "  </thead>\n",
       "  <tbody>\n",
       "    <tr>\n",
       "      <th>1</th>\n",
       "      <td>157942</td>\n",
       "      <td>365345.0</td>\n",
       "      <td>94969.782463</td>\n",
       "      <td>1.517605e+06</td>\n",
       "    </tr>\n",
       "    <tr>\n",
       "      <th>2353</th>\n",
       "      <td>157942</td>\n",
       "      <td>NaN</td>\n",
       "      <td>94969.782463</td>\n",
       "      <td>NaN</td>\n",
       "    </tr>\n",
       "    <tr>\n",
       "      <th>4705</th>\n",
       "      <td>157942</td>\n",
       "      <td>NaN</td>\n",
       "      <td>94969.782463</td>\n",
       "      <td>NaN</td>\n",
       "    </tr>\n",
       "  </tbody>\n",
       "</table>\n",
       "</div>"
      ],
      "text/plain": [
       "      id_left  id_right     area_left    area_right\n",
       "1      157942  365345.0  94969.782463  1.517605e+06\n",
       "2353   157942       NaN  94969.782463           NaN\n",
       "4705   157942       NaN  94969.782463           NaN"
      ]
     },
     "execution_count": 249,
     "metadata": {},
     "output_type": "execute_result"
    }
   ],
   "source": [
    "joined_green_space[joined_green_space['id_left'] == 157942][['id_left', 'id_right', 'area_left', 'area_right']]"
   ]
  },
  {
   "cell_type": "code",
   "execution_count": 248,
   "metadata": {},
   "outputs": [
    {
     "data": {
      "text/html": [
       "<div>\n",
       "<style scoped>\n",
       "    .dataframe tbody tr th:only-of-type {\n",
       "        vertical-align: middle;\n",
       "    }\n",
       "\n",
       "    .dataframe tbody tr th {\n",
       "        vertical-align: top;\n",
       "    }\n",
       "\n",
       "    .dataframe thead th {\n",
       "        text-align: right;\n",
       "    }\n",
       "</style>\n",
       "<table border=\"1\" class=\"dataframe\">\n",
       "  <thead>\n",
       "    <tr style=\"text-align: right;\">\n",
       "      <th></th>\n",
       "      <th>id_left</th>\n",
       "      <th>id_right</th>\n",
       "      <th>area_left</th>\n",
       "      <th>area_right</th>\n",
       "    </tr>\n",
       "  </thead>\n",
       "  <tbody>\n",
       "    <tr>\n",
       "      <th>2353</th>\n",
       "      <td>157942</td>\n",
       "      <td>NaN</td>\n",
       "      <td>94969.782463</td>\n",
       "      <td>NaN</td>\n",
       "    </tr>\n",
       "    <tr>\n",
       "      <th>4705</th>\n",
       "      <td>157942</td>\n",
       "      <td>NaN</td>\n",
       "      <td>94969.782463</td>\n",
       "      <td>NaN</td>\n",
       "    </tr>\n",
       "  </tbody>\n",
       "</table>\n",
       "</div>"
      ],
      "text/plain": [
       "      id_left  id_right     area_left  area_right\n",
       "2353   157942       NaN  94969.782463         NaN\n",
       "4705   157942       NaN  94969.782463         NaN"
      ]
     },
     "execution_count": 248,
     "metadata": {},
     "output_type": "execute_result"
    }
   ],
   "source": [
    "clean_joined_green_space[clean_joined_green_space['id_left'] == 157942][['id_left', 'id_right', 'area_left', 'area_right']]"
   ]
  },
  {
   "cell_type": "code",
   "execution_count": 252,
   "metadata": {},
   "outputs": [
    {
     "data": {
      "text/plain": [
       "7326    1.517605e+06\n",
       "8462    1.517605e+06\n",
       "9598    1.517605e+06\n",
       "Name: area_left, dtype: float64"
      ]
     },
     "execution_count": 252,
     "metadata": {},
     "output_type": "execute_result"
    }
   ],
   "source": [
    "clean_joined_green_space[clean_joined_green_space['id_left'] == 365345]['area_left']"
   ]
  },
  {
   "cell_type": "code",
   "execution_count": 237,
   "metadata": {},
   "outputs": [],
   "source": [
    "temp = joined_green_space[~joined_green_space['area_right'].isna()][['id_left', 'id_right', 'area_left', 'area_right']]"
   ]
  },
  {
   "cell_type": "code",
   "execution_count": 238,
   "metadata": {},
   "outputs": [
    {
     "data": {
      "text/plain": [
       "array([1.51760534e+06, 4.51385572e+03, 6.33332445e+03, 7.74575604e+03,\n",
       "       6.66928908e+03, 5.10576001e+04, 2.80771471e+03, 1.24377854e+03,\n",
       "       2.94151108e+03, 1.49298877e+04, 8.47215962e+03, 1.04993594e+05,\n",
       "       4.09598753e+04, 2.09745935e+03, 1.79670089e+03, 2.79345008e+03,\n",
       "       7.44093676e+04, 3.63452737e+03, 2.50278384e+04, 5.38435476e+03,\n",
       "       1.54150336e+04, 5.04885962e+03, 3.90068322e+03, 1.12144502e+04,\n",
       "       2.15517879e+03, 2.83585603e+03, 2.62141221e+03, 6.42678666e+03,\n",
       "       4.71043444e+03, 3.50036573e+03, 3.66513690e+03, 3.53441495e+04,\n",
       "       8.04969632e+03, 1.41823028e+04, 1.64443582e+04, 2.01698529e+03,\n",
       "       2.31061338e+03, 8.27314387e+03, 6.74488877e+03, 1.38475459e+04,\n",
       "       4.41414085e+03, 5.48354143e+03, 2.80142266e+03, 3.60409000e+03,\n",
       "       7.48573964e+02, 8.04115917e+03, 2.67120500e+04, 2.76202645e+03,\n",
       "       4.54168210e+03, 3.20478956e+03, 3.23550919e+03, 2.94791253e+03,\n",
       "       1.20105288e+02, 1.94353118e+03, 2.11186821e+02, 3.06434503e+04,\n",
       "       1.40638669e+03, 1.70691663e+04, 1.39663579e+04, 9.85707688e+03,\n",
       "       8.90035401e+02, 1.21635218e+04, 1.98128993e+03, 1.37323304e+03,\n",
       "       4.17104308e+03, 5.58188300e+03, 1.81451350e+05, 2.91164261e+04,\n",
       "       2.21664130e+03, 9.22131451e+03, 2.19777804e+03, 8.62878264e+02,\n",
       "       3.60548285e+03, 6.48032546e+04, 8.62049377e+05, 4.12102791e+03,\n",
       "       2.94321731e+03, 1.48549374e+03, 1.34266617e+03, 3.96510985e+02,\n",
       "       4.53585308e+04, 3.35593576e+03, 1.82971568e+03, 5.30195949e+03,\n",
       "       5.10428713e+04, 6.84041720e+03, 1.03446828e+04, 2.98566890e+02,\n",
       "       3.84602565e+03, 1.80755795e+03, 8.77151186e+03, 4.31812761e+04,\n",
       "       1.17909174e+04, 1.79548915e+03, 1.10742115e+03, 1.24051656e+03,\n",
       "       1.68574101e+03, 4.10798345e+03, 3.55581116e+03, 4.68459725e+03,\n",
       "       1.41297982e+04, 2.92187035e+03, 2.05155345e+03, 9.96168067e+03,\n",
       "       5.05896453e+03, 2.16725982e+04, 4.36881287e+04, 2.20986148e+04,\n",
       "       1.52645958e+04, 7.89697558e+04, 1.47442230e+04, 4.40743425e+03,\n",
       "       1.72948669e+03, 2.57284645e+02, 4.66338486e+03])"
      ]
     },
     "execution_count": 238,
     "metadata": {},
     "output_type": "execute_result"
    }
   ],
   "source": [
    "temp['area_right'].unique()"
   ]
  },
  {
   "cell_type": "code",
   "execution_count": 241,
   "metadata": {},
   "outputs": [
    {
     "data": {
      "text/html": [
       "<div>\n",
       "<style scoped>\n",
       "    .dataframe tbody tr th:only-of-type {\n",
       "        vertical-align: middle;\n",
       "    }\n",
       "\n",
       "    .dataframe tbody tr th {\n",
       "        vertical-align: top;\n",
       "    }\n",
       "\n",
       "    .dataframe thead th {\n",
       "        text-align: right;\n",
       "    }\n",
       "</style>\n",
       "<table border=\"1\" class=\"dataframe\">\n",
       "  <thead>\n",
       "    <tr style=\"text-align: right;\">\n",
       "      <th></th>\n",
       "      <th>id_left</th>\n",
       "      <th>id_right</th>\n",
       "      <th>area_left</th>\n",
       "      <th>area_right</th>\n",
       "    </tr>\n",
       "  </thead>\n",
       "  <tbody>\n",
       "    <tr>\n",
       "      <th>1</th>\n",
       "      <td>157942</td>\n",
       "      <td>3.653450e+05</td>\n",
       "      <td>94969.782463</td>\n",
       "      <td>1.517605e+06</td>\n",
       "    </tr>\n",
       "    <tr>\n",
       "      <th>2</th>\n",
       "      <td>157943</td>\n",
       "      <td>3.653450e+05</td>\n",
       "      <td>100603.258852</td>\n",
       "      <td>1.517605e+06</td>\n",
       "    </tr>\n",
       "    <tr>\n",
       "      <th>3</th>\n",
       "      <td>157944</td>\n",
       "      <td>3.653450e+05</td>\n",
       "      <td>285535.962086</td>\n",
       "      <td>1.517605e+06</td>\n",
       "    </tr>\n",
       "    <tr>\n",
       "      <th>4</th>\n",
       "      <td>396375</td>\n",
       "      <td>3.653450e+05</td>\n",
       "      <td>1493.478101</td>\n",
       "      <td>1.517605e+06</td>\n",
       "    </tr>\n",
       "    <tr>\n",
       "      <th>5</th>\n",
       "      <td>421481</td>\n",
       "      <td>3.653450e+05</td>\n",
       "      <td>181451.349952</td>\n",
       "      <td>1.517605e+06</td>\n",
       "    </tr>\n",
       "    <tr>\n",
       "      <th>...</th>\n",
       "      <td>...</td>\n",
       "      <td>...</td>\n",
       "      <td>...</td>\n",
       "      <td>...</td>\n",
       "    </tr>\n",
       "    <tr>\n",
       "      <th>11450</th>\n",
       "      <td>1079105453</td>\n",
       "      <td>3.006233e+08</td>\n",
       "      <td>24.056225</td>\n",
       "      <td>5.384355e+03</td>\n",
       "    </tr>\n",
       "    <tr>\n",
       "      <th>11487</th>\n",
       "      <td>1185503443</td>\n",
       "      <td>9.858176e+06</td>\n",
       "      <td>546.909172</td>\n",
       "      <td>2.502784e+04</td>\n",
       "    </tr>\n",
       "    <tr>\n",
       "      <th>12057</th>\n",
       "      <td>6591319651</td>\n",
       "      <td>1.024236e+09</td>\n",
       "      <td>0.000000</td>\n",
       "      <td>1.729487e+03</td>\n",
       "    </tr>\n",
       "    <tr>\n",
       "      <th>12058</th>\n",
       "      <td>12213145709</td>\n",
       "      <td>4.199469e+07</td>\n",
       "      <td>0.000000</td>\n",
       "      <td>2.572846e+02</td>\n",
       "    </tr>\n",
       "    <tr>\n",
       "      <th>12065</th>\n",
       "      <td>4352882229</td>\n",
       "      <td>2.451502e+07</td>\n",
       "      <td>0.000000</td>\n",
       "      <td>4.663385e+03</td>\n",
       "    </tr>\n",
       "  </tbody>\n",
       "</table>\n",
       "<p>339 rows × 4 columns</p>\n",
       "</div>"
      ],
      "text/plain": [
       "           id_left      id_right      area_left    area_right\n",
       "1           157942  3.653450e+05   94969.782463  1.517605e+06\n",
       "2           157943  3.653450e+05  100603.258852  1.517605e+06\n",
       "3           157944  3.653450e+05  285535.962086  1.517605e+06\n",
       "4           396375  3.653450e+05    1493.478101  1.517605e+06\n",
       "5           421481  3.653450e+05  181451.349952  1.517605e+06\n",
       "...            ...           ...            ...           ...\n",
       "11450   1079105453  3.006233e+08      24.056225  5.384355e+03\n",
       "11487   1185503443  9.858176e+06     546.909172  2.502784e+04\n",
       "12057   6591319651  1.024236e+09       0.000000  1.729487e+03\n",
       "12058  12213145709  4.199469e+07       0.000000  2.572846e+02\n",
       "12065   4352882229  2.451502e+07       0.000000  4.663385e+03\n",
       "\n",
       "[339 rows x 4 columns]"
      ]
     },
     "execution_count": 241,
     "metadata": {},
     "output_type": "execute_result"
    }
   ],
   "source": [
    "temp"
   ]
  },
  {
   "cell_type": "code",
   "execution_count": null,
   "metadata": {},
   "outputs": [],
   "source": []
  }
 ],
 "metadata": {
  "kernelspec": {
   "display_name": "pugs-detection",
   "language": "python",
   "name": "python3"
  },
  "language_info": {
   "codemirror_mode": {
    "name": "ipython",
    "version": 3
   },
   "file_extension": ".py",
   "mimetype": "text/x-python",
   "name": "python",
   "nbconvert_exporter": "python",
   "pygments_lexer": "ipython3",
   "version": "3.13.1"
  }
 },
 "nbformat": 4,
 "nbformat_minor": 2
}
