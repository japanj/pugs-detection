{
 "cells": [
  {
   "cell_type": "markdown",
   "metadata": {},
   "source": [
    "# Try OpenEO API\n",
    "\n",
    "- 11/02/2025: get timeout when using download() (need to check again)\n",
    "- 12/02/2025: download() works normally -> it took around 2-3 mins to download the image (4 bands), around 4-5 mins (all bands)"
   ]
  },
  {
   "cell_type": "code",
   "execution_count": 69,
   "metadata": {},
   "outputs": [],
   "source": [
    "import openeo"
   ]
  },
  {
   "cell_type": "code",
   "execution_count": 70,
   "metadata": {},
   "outputs": [],
   "source": [
    "connection = openeo.connect(\"openeo.dataspace.copernicus.eu\")\n",
    "# connection = openeo.connect(\"openeofed.dataspace.copernicus.eu\")"
   ]
  },
  {
   "cell_type": "code",
   "execution_count": 71,
   "metadata": {},
   "outputs": [
    {
     "data": {
      "text/plain": [
       "<Connection to 'https://openeo.dataspace.copernicus.eu/openeo/1.2/' with NullAuth>"
      ]
     },
     "execution_count": 71,
     "metadata": {},
     "output_type": "execute_result"
    }
   ],
   "source": [
    "connection"
   ]
  },
  {
   "cell_type": "code",
   "execution_count": 72,
   "metadata": {},
   "outputs": [
    {
     "name": "stdout",
     "output_type": "stream",
     "text": [
      "Authenticated using refresh token.\n"
     ]
    },
    {
     "data": {
      "text/plain": [
       "<Connection to 'https://openeo.dataspace.copernicus.eu/openeo/1.2/' with OidcBearerAuth>"
      ]
     },
     "execution_count": 72,
     "metadata": {},
     "output_type": "execute_result"
    }
   ],
   "source": [
    "connection.authenticate_oidc()"
   ]
  },
  {
   "cell_type": "markdown",
   "metadata": {},
   "source": [
    "bbox of Altstadt, Dresden, Germany\n",
    "- [13.6864402, 51.0280799, 13.7872926, 51.0766681] (minx, miny, maxx, maxy)\n",
    "\n",
    "bbox of Dresden, Germany\n",
    "- [13.5793237, 50.974937 , 13.9660626, 51.1777202] "
   ]
  },
  {
   "cell_type": "code",
   "execution_count": 73,
   "metadata": {},
   "outputs": [],
   "source": [
    "sentinel2_cube = connection.load_collection(\n",
    "    \"SENTINEL2_L2A\",\n",
    "    spatial_extent={\"west\": 13.5793237, \"south\": 50.974937, \"east\": 13.9660626, \"north\": 51.1777202},\n",
    "    temporal_extent=[\"2024-05-01\", \"2024-08-31\"],\n",
    "    max_cloud_cover=5\n",
    ")\n",
    "\n",
    "# sentinel2_cube = connection.load_collection(\n",
    "#     \"SENTINEL2_L2A\",\n",
    "#     spatial_extent={\"west\": 13.6864402, \"south\": 51.0280799, \"east\": 13.7872926, \"north\": 51.0766681},\n",
    "#     temporal_extent=[\"2024-05-01\", \"2024-08-31\"],\n",
    "#     max_cloud_cover=5,\n",
    "#     bands=[\"B02\", \"B03\", \"B04\", \"B08\", \"B11\"]\n",
    "# )"
   ]
  },
  {
   "cell_type": "code",
   "execution_count": 74,
   "metadata": {},
   "outputs": [
    {
     "name": "stdout",
     "output_type": "stream",
     "text": [
      "{\n",
      "  \"process_graph\": {\n",
      "    \"loadcollection1\": {\n",
      "      \"process_id\": \"load_collection\",\n",
      "      \"arguments\": {\n",
      "        \"id\": \"SENTINEL2_L2A\",\n",
      "        \"properties\": {\n",
      "          \"eo:cloud_cover\": {\n",
      "            \"process_graph\": {\n",
      "              \"lte1\": {\n",
      "                \"process_id\": \"lte\",\n",
      "                \"arguments\": {\n",
      "                  \"x\": {\n",
      "                    \"from_parameter\": \"value\"\n",
      "                  },\n",
      "                  \"y\": 5\n",
      "                },\n",
      "                \"result\": true\n",
      "              }\n",
      "            }\n",
      "          }\n",
      "        },\n",
      "        \"spatial_extent\": {\n",
      "          \"west\": 13.5793237,\n",
      "          \"south\": 50.974937,\n",
      "          \"east\": 13.9660626,\n",
      "          \"north\": 51.1777202\n",
      "        },\n",
      "        \"temporal_extent\": [\n",
      "          \"2024-05-01\",\n",
      "          \"2024-08-31\"\n",
      "        ]\n",
      "      },\n",
      "      \"result\": true\n",
      "    }\n",
      "  }\n",
      "}\n"
     ]
    }
   ],
   "source": [
    "sentinel2_cube.print_json()"
   ]
  },
  {
   "cell_type": "code",
   "execution_count": 75,
   "metadata": {},
   "outputs": [],
   "source": [
    "sentinel2_cube_latest = sentinel2_cube.max_time()"
   ]
  },
  {
   "cell_type": "code",
   "execution_count": 76,
   "metadata": {},
   "outputs": [
    {
     "data": {
      "text/plain": [
       "'{\\n  \"process_graph\": {\\n    \"loadcollection1\": {\\n      \"process_id\": \"load_collection\",\\n      \"arguments\": {\\n        \"id\": \"SENTINEL2_L2A\",\\n        \"properties\": {\\n          \"eo:cloud_cover\": {\\n            \"process_graph\": {\\n              \"lte1\": {\\n                \"process_id\": \"lte\",\\n                \"arguments\": {\\n                  \"x\": {\\n                    \"from_parameter\": \"value\"\\n                  },\\n                  \"y\": 5\\n                },\\n                \"result\": true\\n              }\\n            }\\n          }\\n        },\\n        \"spatial_extent\": {\\n          \"west\": 13.5793237,\\n          \"south\": 50.974937,\\n          \"east\": 13.9660626,\\n          \"north\": 51.1777202\\n        },\\n        \"temporal_extent\": [\\n          \"2024-05-01\",\\n          \"2024-08-31\"\\n        ]\\n      }\\n    },\\n    \"reducedimension1\": {\\n      \"process_id\": \"reduce_dimension\",\\n      \"arguments\": {\\n        \"data\": {\\n          \"from_node\": \"loadcollection1\"\\n        },\\n        \"dimension\": \"t\",\\n        \"reducer\": {\\n          \"process_graph\": {\\n            \"max1\": {\\n              \"process_id\": \"max\",\\n              \"arguments\": {\\n                \"data\": {\\n                  \"from_parameter\": \"data\"\\n                }\\n              },\\n              \"result\": true\\n            }\\n          }\\n        }\\n      },\\n      \"result\": true\\n    }\\n  }\\n}'"
      ]
     },
     "execution_count": 76,
     "metadata": {},
     "output_type": "execute_result"
    }
   ],
   "source": [
    "sentinel2_cube_latest.to_json()"
   ]
  },
  {
   "cell_type": "code",
   "execution_count": 77,
   "metadata": {},
   "outputs": [],
   "source": [
    "sentinel2_cube_med = sentinel2_cube.reduce_dimension(dimension='t', reducer='median')"
   ]
  },
  {
   "cell_type": "code",
   "execution_count": 78,
   "metadata": {},
   "outputs": [],
   "source": [
    "# sentinel2_cube_latest.download(\"../data/raw/sentinel-2/sentinel2_openeo.geotiff\", format=\"GTiff\")\n",
    "sentinel2_cube_latest.download(\"../data/raw/sentinel-2/sentinel2_openeo_dresden.geotiff\", format=\"GTiff\")"
   ]
  },
  {
   "cell_type": "code",
   "execution_count": 79,
   "metadata": {},
   "outputs": [],
   "source": [
    "# sentinel2_cube_med.download(\"../data/raw/sentinel-2/sentinel2_openeo_med_3months.geotiff\", format=\"GTiff\")\n",
    "# sentinel2_cube_med.download(\"../data/raw/sentinel-2/sentinel2_openeo_med_3months_dresden.geotiff\", format=\"GTiff\")\n",
    "sentinel2_cube_med.download(\"../data/raw/sentinel-2/sentinel2_openeo_med_4months_dresden.geotiff\", format=\"GTiff\")"
   ]
  },
  {
   "cell_type": "markdown",
   "metadata": {},
   "source": [
    "# Try with STAC"
   ]
  },
  {
   "cell_type": "code",
   "execution_count": null,
   "metadata": {},
   "outputs": [],
   "source": [
    "from pystac_client import Client"
   ]
  },
  {
   "cell_type": "code",
   "execution_count": null,
   "metadata": {},
   "outputs": [],
   "source": [
    "api_url = \"https://earth-search.aws.element84.com/v1\""
   ]
  },
  {
   "cell_type": "code",
   "execution_count": null,
   "metadata": {},
   "outputs": [],
   "source": [
    "client = Client.open(api_url)"
   ]
  },
  {
   "cell_type": "code",
   "execution_count": null,
   "metadata": {},
   "outputs": [],
   "source": [
    "collections = client.get_collections()"
   ]
  },
  {
   "cell_type": "code",
   "execution_count": null,
   "metadata": {},
   "outputs": [],
   "source": [
    "for collection in collections:\n",
    "    print(collection)"
   ]
  },
  {
   "cell_type": "code",
   "execution_count": null,
   "metadata": {},
   "outputs": [],
   "source": [
    "s2_search = client.search(\n",
    "    collections=[\"sentinel-2-l2a\"],\n",
    "    bbox=[13.6864402, 51.0280799, 13.7872926, 51.0766681],\n",
    "    query=[\"eo:cloud_cover<10\"],\n",
    "    sortby=[\"-properties.eo:cloud_cover\"],\n",
    "    datetime=\"2024-05-01/2024-08-31\"\n",
    ")"
   ]
  },
  {
   "cell_type": "code",
   "execution_count": null,
   "metadata": {},
   "outputs": [],
   "source": [
    "s2_items = s2_search.item_collection()\n",
    "for item in s2_items:\n",
    "    print(item.properties[\"eo:cloud_cover\"])"
   ]
  },
  {
   "cell_type": "code",
   "execution_count": null,
   "metadata": {},
   "outputs": [],
   "source": [
    "selected_item = s2_items[7]"
   ]
  },
  {
   "cell_type": "code",
   "execution_count": null,
   "metadata": {},
   "outputs": [],
   "source": [
    "assets = selected_item.assets\n",
    "print(assets.keys())"
   ]
  },
  {
   "cell_type": "code",
   "execution_count": null,
   "metadata": {},
   "outputs": [],
   "source": [
    "for key, asset in assets.items():\n",
    "    print(f\"{key}:{asset.title}\")"
   ]
  },
  {
   "cell_type": "code",
   "execution_count": null,
   "metadata": {},
   "outputs": [],
   "source": [
    "print(assets[\"thumbnail\"].href)"
   ]
  },
  {
   "cell_type": "code",
   "execution_count": null,
   "metadata": {},
   "outputs": [],
   "source": [
    "import rioxarray\n",
    "import matplotlib.pyplot as plt"
   ]
  },
  {
   "cell_type": "code",
   "execution_count": null,
   "metadata": {},
   "outputs": [],
   "source": [
    "nir_href = assets[\"nir\"].href\n",
    "nir = rioxarray.open_rasterio(nir_href)\n",
    "nir"
   ]
  },
  {
   "cell_type": "code",
   "execution_count": null,
   "metadata": {},
   "outputs": [],
   "source": [
    "nir.rio.crs"
   ]
  },
  {
   "cell_type": "code",
   "execution_count": null,
   "metadata": {},
   "outputs": [],
   "source": [
    "nir_reprojected = nir.rio.reproject(\"EPSG:4326\")\n",
    "print(nir_reprojected.rio.crs)"
   ]
  },
  {
   "cell_type": "code",
   "execution_count": null,
   "metadata": {},
   "outputs": [],
   "source": [
    "city_bbox = [13.6864402, 51.0280799, 13.7872926, 51.0766681]\n",
    "raster_clip_box = nir_reprojected.rio.clip_box(*city_bbox)\n",
    "print(raster_clip_box.shape)"
   ]
  },
  {
   "cell_type": "code",
   "execution_count": null,
   "metadata": {},
   "outputs": [],
   "source": [
    "%%timeit -n 5 -r 1\n",
    "plt.imshow(raster_clip_box[0, :, :], cmap='gray')\n",
    "plt.clim(vmin=10, vmax=5000)"
   ]
  },
  {
   "cell_type": "markdown",
   "metadata": {},
   "source": [
    "# Try GEE"
   ]
  },
  {
   "cell_type": "code",
   "execution_count": null,
   "metadata": {},
   "outputs": [],
   "source": [
    "import ee\n",
    "\n",
    "ee.Authenticate()"
   ]
  },
  {
   "cell_type": "code",
   "execution_count": null,
   "metadata": {},
   "outputs": [],
   "source": [
    "ee.Initialize(project='ee-japanpitchaporn')"
   ]
  },
  {
   "cell_type": "code",
   "execution_count": null,
   "metadata": {},
   "outputs": [],
   "source": [
    "bbox = ee.Geometry.BBox(13.6864402, 51.0280799, 13.7872926, 51.0766681)"
   ]
  },
  {
   "cell_type": "code",
   "execution_count": null,
   "metadata": {},
   "outputs": [],
   "source": [
    "s2_collection = (ee.ImageCollection('COPERNICUS/S2_SR_HARMONIZED')\n",
    "                 .filterDate('2024-05-01', '2024-08-31')\n",
    "                 .filter(ee.Filter.lt('CLOUDY_PIXEL_PERCENTAGE', 5))\n",
    "                 .filter(ee.Filter.bounds(bbox))\n",
    "                )"
   ]
  },
  {
   "cell_type": "code",
   "execution_count": null,
   "metadata": {},
   "outputs": [],
   "source": [
    "s2_collection.getInfo()"
   ]
  },
  {
   "cell_type": "code",
   "execution_count": null,
   "metadata": {},
   "outputs": [],
   "source": [
    "med_s2_img = s2_collection.median().clip(bbox)"
   ]
  },
  {
   "cell_type": "code",
   "execution_count": null,
   "metadata": {},
   "outputs": [],
   "source": [
    "import geemap"
   ]
  },
  {
   "cell_type": "code",
   "execution_count": null,
   "metadata": {},
   "outputs": [],
   "source": [
    "geemap.ee_initialize()"
   ]
  },
  {
   "cell_type": "code",
   "execution_count": null,
   "metadata": {},
   "outputs": [],
   "source": [
    "Map = geemap.Map()"
   ]
  },
  {
   "cell_type": "code",
   "execution_count": null,
   "metadata": {},
   "outputs": [],
   "source": [
    "vis = {\n",
    "    'min': 0.0,\n",
    "    'max': 3000,\n",
    "    'bands': ['B4', 'B3', 'B2'],\n",
    "}\n",
    "\n",
    "Map.setCenter(13.6864402, 51.0280799, 12)\n",
    "Map.addLayer(med_s2_img, vis, 'Sentinel-2')\n",
    "Map.addLayer(bbox, {}, 'Polygon')\n",
    "Map"
   ]
  },
  {
   "cell_type": "code",
   "execution_count": null,
   "metadata": {},
   "outputs": [],
   "source": [
    "# Retrieve the projection information from a band of the original image.\n",
    "# Call getInfo() on the projection to request a client-side object containing\n",
    "# the crs and transform information needed for the client-side Export function.\n",
    "# projection = med_s2_img.select('B2').projection().getInfo()"
   ]
  },
  {
   "cell_type": "code",
   "execution_count": null,
   "metadata": {},
   "outputs": [],
   "source": [
    "med_s2_img = med_s2_img.setDefaultProjection('EPSG:32633')"
   ]
  },
  {
   "cell_type": "code",
   "execution_count": null,
   "metadata": {},
   "outputs": [],
   "source": [
    "# geemap.download_ee_image(med_s2_img, filename='test.tif', crs='EPSG:32633', region=bbox)\n",
    "geemap.download_ee_image(med_s2_img, filename='test.tif', crs='EPSG:32633')"
   ]
  },
  {
   "cell_type": "code",
   "execution_count": null,
   "metadata": {},
   "outputs": [],
   "source": []
  },
  {
   "cell_type": "markdown",
   "metadata": {},
   "source": [
    "# Try earthaccess"
   ]
  },
  {
   "cell_type": "code",
   "execution_count": null,
   "metadata": {},
   "outputs": [],
   "source": [
    "import json\n",
    "\n",
    "from odc.stac import configure_rio, load\n",
    "from pystac_client import Client as PystacClient\n",
    "import geopandas as gpd\n",
    "import numpy as np\n",
    "\n",
    "from utils import hls_config"
   ]
  },
  {
   "cell_type": "code",
   "execution_count": null,
   "metadata": {},
   "outputs": [],
   "source": [
    "# from dask.distributed import Client as DaskClient\n",
    "\n",
    "# dask_client = DaskClient()\n",
    "# dask_client"
   ]
  },
  {
   "cell_type": "code",
   "execution_count": null,
   "metadata": {},
   "outputs": [],
   "source": [
    "# The catalog URL for the Earthdata STAC containing HLS\n",
    "catalog = \"https://cmr.earthdata.nasa.gov/cloudstac/LPCLOUD/\"\n",
    "\n",
    "# pystac_client is used to connect to the catalog\n",
    "stac_client = PystacClient.open(catalog)"
   ]
  },
  {
   "cell_type": "code",
   "execution_count": null,
   "metadata": {},
   "outputs": [],
   "source": [
    "# Specify both Landsat and Sentinel-2 HLS collections for the query\n",
    "collections = [\"HLSS30.v2.0\"]"
   ]
  },
  {
   "cell_type": "code",
   "execution_count": null,
   "metadata": {},
   "outputs": [],
   "source": [
    "# Set the start date and end date\n",
    "start_date = \"2024-05-01\"\n",
    "end_date = \"2024-08-31\"\n",
    "\n",
    "# Format the date range for the query\n",
    "date_range = f\"{start_date}/{end_date}\""
   ]
  },
  {
   "cell_type": "code",
   "execution_count": null,
   "metadata": {},
   "outputs": [],
   "source": [
    "# Search for items in the collection\n",
    "items = list(\n",
    "    stac_client.search(\n",
    "        collections=collections, bbox=[13.6864402, 51.0280799, 13.7872926, 51.0766681], datetime=date_range\n",
    "    ).items()\n",
    ")\n",
    "\n",
    "print(f\"Found {len(items)} items\")"
   ]
  },
  {
   "cell_type": "code",
   "execution_count": null,
   "metadata": {},
   "outputs": [],
   "source": [
    "import earthaccess\n",
    "\n",
    "earthaccess.login()"
   ]
  },
  {
   "cell_type": "code",
   "execution_count": null,
   "metadata": {},
   "outputs": [],
   "source": [
    "# This code will be wrapped by `get_edl_token` in the next earthaccess release\n",
    "token = earthaccess.__auth__.token[\"access_token\"]\n",
    "\n",
    "# Configure rasterio to use cloud defaults, and GDAL to use the authorization token\n",
    "header_string = f\"Authorization: Bearer {token}\"\n",
    "configure_rio(cloud_defaults=True, GDAL_HTTP_HEADERS=header_string)"
   ]
  },
  {
   "cell_type": "code",
   "execution_count": null,
   "metadata": {},
   "outputs": [],
   "source": [
    "data = load(\n",
    "    items,\n",
    "    resolution=30,\n",
    "    crs=\"EPSG:32633\",\n",
    "    chunks={},\n",
    "    groupby=\"solar_day\",\n",
    "    # stac_cfg=hls_config,\n",
    "    bands=[\"B02\", \"B03\", \"B04\", \"B08\", \"B11\"],\n",
    "    bbox=[13.6864402, 51.0280799, 13.7872926, 51.0766681]\n",
    ")\n",
    "\n",
    "data"
   ]
  },
  {
   "cell_type": "code",
   "execution_count": null,
   "metadata": {},
   "outputs": [],
   "source": [
    "from osgeo import gdal\n",
    "# GDAL configurations used to successfully access LP DAAC Cloud Assets via vsicurl \n",
    "gdal.SetConfigOption('GDAL_HTTP_COOKIEFILE','~/cookies.txt')\n",
    "gdal.SetConfigOption('GDAL_HTTP_COOKIEJAR', '~/cookies.txt')\n",
    "gdal.SetConfigOption('GDAL_DISABLE_READDIR_ON_OPEN','EMPTY_DIR')\n",
    "gdal.SetConfigOption('CPL_VSIL_CURL_ALLOWED_EXTENSIONS','TIF')\n",
    "gdal.SetConfigOption('GDAL_HTTP_UNSAFESSL', 'YES')\n",
    "gdal.SetConfigOption('GDAL_HTTP_MAX_RETRY', '10')\n",
    "gdal.SetConfigOption('GDAL_HTTP_RETRY_DELAY', '0.5')"
   ]
  },
  {
   "cell_type": "code",
   "execution_count": null,
   "metadata": {},
   "outputs": [],
   "source": [
    "# # Define a simple plotting function to reuse\n",
    "# def plot_rgb(data):\n",
    "#     # Select the red green and blue bands\n",
    "#     rgb = data[[\"B04\", \"B03\", \"B02\"]]\n",
    "#     print(rgb)\n",
    "#     # Select a subset of images that show clear and cloudy images\n",
    "#     rgb_subset = rgb.isel(time=slice(4, 7)).to_array()\n",
    "#     print(rgb_subset)\n",
    "    \n",
    "#     # Display the image\n",
    "#     rgb_subset.plot.imshow()\n",
    "\n",
    "\n",
    "# plot_rgb(data)"
   ]
  },
  {
   "cell_type": "code",
   "execution_count": null,
   "metadata": {},
   "outputs": [],
   "source": []
  }
 ],
 "metadata": {
  "kernelspec": {
   "display_name": "pugs-detection-new",
   "language": "python",
   "name": "python3"
  },
  "language_info": {
   "codemirror_mode": {
    "name": "ipython",
    "version": 3
   },
   "file_extension": ".py",
   "mimetype": "text/x-python",
   "name": "python",
   "nbconvert_exporter": "python",
   "pygments_lexer": "ipython3",
   "version": "3.12.8"
  }
 },
 "nbformat": 4,
 "nbformat_minor": 2
}
