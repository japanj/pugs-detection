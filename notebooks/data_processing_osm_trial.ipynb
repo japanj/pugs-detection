{
 "cells": [
  {
   "cell_type": "markdown",
   "metadata": {},
   "source": [
    "# Import library"
   ]
  },
  {
   "cell_type": "code",
   "execution_count": 98,
   "metadata": {},
   "outputs": [],
   "source": [
    "import osmnx as ox\n",
    "import geopandas as gpd\n",
    "import matplotlib.pyplot as plt\n",
    "import pandas as pd\n",
    "import numpy as np"
   ]
  },
  {
   "cell_type": "markdown",
   "metadata": {},
   "source": [
    "# Import data"
   ]
  },
  {
   "cell_type": "markdown",
   "metadata": {},
   "source": [
    "## Green space from landuse key"
   ]
  },
  {
   "cell_type": "code",
   "execution_count": 99,
   "metadata": {},
   "outputs": [],
   "source": [
    "# green_landuse_area = gpd.read_file('../data/raw/osm/green space/green_landuse_area.geojson')\n",
    "green_landuse_area = gpd.read_file('../data/raw/osm/green space/green_landuse_area_dresden.geojson')"
   ]
  },
  {
   "cell_type": "code",
   "execution_count": 100,
   "metadata": {},
   "outputs": [],
   "source": [
    "green_landuse_area = green_landuse_area.to_crs(epsg=32633)"
   ]
  },
  {
   "cell_type": "code",
   "execution_count": 101,
   "metadata": {},
   "outputs": [
    {
     "data": {
      "text/plain": [
       "Index(['element', 'id', 'landuse', 'name', 'denomination', 'religion',\n",
       "       'wikidata', 'check_date:opening_hours', 'opening_hours', 'website',\n",
       "       ...\n",
       "       'substance', 'utility', 'was:man_made', 'name:en', 'level', 'material',\n",
       "       'type', 'name:hsb', 'source:outline', 'geometry'],\n",
       "      dtype='object', length=127)"
      ]
     },
     "execution_count": 101,
     "metadata": {},
     "output_type": "execute_result"
    }
   ],
   "source": [
    "green_landuse_area.columns"
   ]
  },
  {
   "cell_type": "code",
   "execution_count": 102,
   "metadata": {},
   "outputs": [],
   "source": [
    "green_landuse_area = green_landuse_area[['element', 'id', 'landuse', \n",
    "                                         'name', 'barrier', 'note', \n",
    "                                         'opening_hours', 'access', 'description', \n",
    "                                         'leisure', 'tourism', 'surface', \n",
    "                                         'landcover', 'amenity', 'natural', \n",
    "                                         'type', 'geometry']]"
   ]
  },
  {
   "cell_type": "code",
   "execution_count": 103,
   "metadata": {},
   "outputs": [],
   "source": [
    "green_landuse_area['area'] = green_landuse_area['geometry'].area"
   ]
  },
  {
   "cell_type": "code",
   "execution_count": 104,
   "metadata": {},
   "outputs": [
    {
     "data": {
      "text/plain": [
       "array([None, 'private', 'yes', 'no'], dtype=object)"
      ]
     },
     "execution_count": 104,
     "metadata": {},
     "output_type": "execute_result"
    }
   ],
   "source": [
    "green_landuse_area['access'].unique()"
   ]
  },
  {
   "cell_type": "code",
   "execution_count": 105,
   "metadata": {},
   "outputs": [
    {
     "name": "stdout",
     "output_type": "stream",
     "text": [
      "total rows: 13757\n",
      "access is None: 13718\n",
      "access is private : 26\n",
      "access is yes : 1\n",
      "access is no : 12\n"
     ]
    }
   ],
   "source": [
    "print('total rows:', green_landuse_area.shape[0])  # number of rows\n",
    "for i in green_landuse_area['access'].unique():\n",
    "    if i == None:\n",
    "        print('access is None:', green_landuse_area[green_landuse_area['access'].isnull()].shape[0])\n",
    "    else:\n",
    "        # print number of rows that has access e.g. private,yes,none or others\n",
    "        print('access is', i , ':', green_landuse_area[green_landuse_area['access']==i].shape[0])"
   ]
  },
  {
   "cell_type": "code",
   "execution_count": 106,
   "metadata": {},
   "outputs": [
    {
     "data": {
      "text/plain": [
       "array([None, 'multipolygon'], dtype=object)"
      ]
     },
     "execution_count": 106,
     "metadata": {},
     "output_type": "execute_result"
    }
   ],
   "source": [
    "green_landuse_area['type'].unique()"
   ]
  },
  {
   "cell_type": "code",
   "execution_count": 107,
   "metadata": {},
   "outputs": [
    {
     "data": {
      "text/plain": [
       "array(['Point', 'MultiPolygon', 'Polygon'], dtype=object)"
      ]
     },
     "execution_count": 107,
     "metadata": {},
     "output_type": "execute_result"
    }
   ],
   "source": [
    "green_landuse_area['geometry'].type.unique()"
   ]
  },
  {
   "cell_type": "markdown",
   "metadata": {},
   "source": [
    "## Green space from leisure key"
   ]
  },
  {
   "cell_type": "code",
   "execution_count": 108,
   "metadata": {},
   "outputs": [],
   "source": [
    "# green_leisure_area = gpd.read_file('../data/raw/osm/green space/green_leisure_area.geojson')\n",
    "green_leisure_area = gpd.read_file('../data/raw/osm/green space/green_leisure_area_dresden.geojson')"
   ]
  },
  {
   "cell_type": "code",
   "execution_count": 109,
   "metadata": {},
   "outputs": [],
   "source": [
    "green_leisure_area = green_leisure_area.to_crs(epsg=32633)"
   ]
  },
  {
   "cell_type": "code",
   "execution_count": 110,
   "metadata": {},
   "outputs": [
    {
     "data": {
      "text/plain": [
       "Index(['element', 'id', 'created_by', 'leisure', 'wheelchair', 'access',\n",
       "       'name', 'opening_hours', 'operator', 'sport',\n",
       "       ...\n",
       "       'noname', 'name:de', 'pitch:net', 'pitch:net:material',\n",
       "       'pitch:net:overhang', 'construction', 'operator:short', 'type',\n",
       "       'name:fr', 'geometry'],\n",
       "      dtype='object', length=146)"
      ]
     },
     "execution_count": 110,
     "metadata": {},
     "output_type": "execute_result"
    }
   ],
   "source": [
    "green_leisure_area.columns"
   ]
  },
  {
   "cell_type": "code",
   "execution_count": 111,
   "metadata": {},
   "outputs": [
    {
     "data": {
      "text/plain": [
       "array([None, '8-14€ pro Stunde und Feld'], dtype=object)"
      ]
     },
     "execution_count": 111,
     "metadata": {},
     "output_type": "execute_result"
    }
   ],
   "source": [
    "green_leisure_area['charge'].unique()"
   ]
  },
  {
   "cell_type": "code",
   "execution_count": 112,
   "metadata": {},
   "outputs": [],
   "source": [
    "green_leisure_area = green_leisure_area[['element', 'id', 'access', \n",
    "                                         'leisure', 'name', 'opening_hours', 'indoor',\n",
    "                                         'operator', 'description', 'playground',\n",
    "                                         'note', 'surface', 'fee', \n",
    "                                         'barrier', 'landuse', 'natural',\n",
    "                                         'charge', 'landcover', 'fence_type', 'garden:type',\n",
    "                                         'wall', 'type', 'geometry']]"
   ]
  },
  {
   "cell_type": "code",
   "execution_count": 113,
   "metadata": {},
   "outputs": [],
   "source": [
    "green_leisure_area['area'] = green_leisure_area['geometry'].area"
   ]
  },
  {
   "cell_type": "code",
   "execution_count": 114,
   "metadata": {},
   "outputs": [
    {
     "data": {
      "text/plain": [
       "array([None, 'yes', 'private', 'customers', 'permissive', 'no', 'unknown',\n",
       "       'permit', 'school'], dtype=object)"
      ]
     },
     "execution_count": 114,
     "metadata": {},
     "output_type": "execute_result"
    }
   ],
   "source": [
    "green_leisure_area['access'].unique()"
   ]
  },
  {
   "cell_type": "code",
   "execution_count": 115,
   "metadata": {},
   "outputs": [
    {
     "name": "stdout",
     "output_type": "stream",
     "text": [
      "total rows: 3959\n",
      "access is None: 2662\n",
      "access is yes : 679\n",
      "access is private : 458\n",
      "access is customers : 103\n",
      "access is permissive : 37\n",
      "access is no : 8\n",
      "access is unknown : 1\n",
      "access is permit : 10\n",
      "access is school : 1\n"
     ]
    }
   ],
   "source": [
    "print('total rows:', green_leisure_area.shape[0])  # number of rows\n",
    "for i in green_leisure_area['access'].unique():\n",
    "    if i == None:\n",
    "        print('access is None:', green_leisure_area[green_leisure_area['access'].isnull()].shape[0])\n",
    "    else:\n",
    "        # print number of rows that has access e.g. private,yes,none or others\n",
    "        print('access is', i , ':', green_leisure_area[green_leisure_area['access']==i].shape[0])"
   ]
  },
  {
   "cell_type": "markdown",
   "metadata": {},
   "source": [
    "### Separate playground out as we will use it to map PUGS (Probably no need)\n",
    "\n",
    "Playground also have access tag which might help classify green space"
   ]
  },
  {
   "cell_type": "code",
   "execution_count": 116,
   "metadata": {},
   "outputs": [],
   "source": [
    "# # filter playgrounds that are indoor -> probably don't need this\n",
    "# playground_gdf = green_leisure_area[(green_leisure_area['leisure']=='playground') & (green_leisure_area['indoor']!='yes') & (green_leisure_area['element']!='node')]"
   ]
  },
  {
   "cell_type": "code",
   "execution_count": 117,
   "metadata": {},
   "outputs": [],
   "source": [
    "# green_leisure_area_new = green_leisure_area[~((green_leisure_area['leisure']=='playground')&(green_leisure_area['element']=='node')) | (green_leisure_area['indoor']!='yes')]"
   ]
  },
  {
   "cell_type": "code",
   "execution_count": 118,
   "metadata": {},
   "outputs": [],
   "source": [
    "green_leisure_area_new = green_leisure_area[green_leisure_area['indoor']!='yes']"
   ]
  },
  {
   "cell_type": "markdown",
   "metadata": {},
   "source": [
    "## Green space from nature key"
   ]
  },
  {
   "cell_type": "code",
   "execution_count": 119,
   "metadata": {},
   "outputs": [],
   "source": [
    "# green_natural_area = gpd.read_file('../data/raw/osm/green space/green_natural_area.geojson')\n",
    "green_natural_area = gpd.read_file('../data/raw/osm/green space/green_natural_area_dresden.geojson')"
   ]
  },
  {
   "cell_type": "code",
   "execution_count": 120,
   "metadata": {},
   "outputs": [],
   "source": [
    "green_natural_area = green_natural_area.to_crs(epsg=32633)"
   ]
  },
  {
   "cell_type": "code",
   "execution_count": 121,
   "metadata": {},
   "outputs": [
    {
     "data": {
      "text/plain": [
       "Index(['element', 'id', 'natural', 'wetland', 'name', 'source:name',\n",
       "       'old_name', 'source', 'boundary', 'denotation', 'protect_class',\n",
       "       'protection_title', 'wikidata', 'wikipedia', 'leaf_type', 'landuse',\n",
       "       'note', 'image', 'created_by', 'alt_name', 'intermittent', 'salt',\n",
       "       'leisure', 'leaf_cycle', 'fenced', 'fruit', 'trees', 'description:de',\n",
       "       'attraction', 'name:cs', 'species:de', 'species:wikidata', 'wheelchair',\n",
       "       'fixme', 'tourism', 'barrier', 'fence_type', 'ref', 'start_date',\n",
       "       'description', 'FIXME', 'historic', 'resource', 'place', 'tidal',\n",
       "       'survey:date', 'addr:city', 'addr:country', 'addr:housenumber',\n",
       "       'addr:postcode', 'addr:street', 'abandoned:landuse',\n",
       "       'short_protection_title', 'basin', 'embankment', 'landcover',\n",
       "       'operator', 'height', 'disused', 'disused:leisure', 'surface',\n",
       "       'old_name:cs', 'fence', 'level', 'operator:wikidata', 'man_made',\n",
       "       'layer', 'seasonal', 'meadow', 'access', 'comment', 'area',\n",
       "       'check_date', 'area:highway', 'fee', 'species:wikipedia', 'type',\n",
       "       'nature', 'protected_area', 'geometry'],\n",
       "      dtype='object')"
      ]
     },
     "execution_count": 121,
     "metadata": {},
     "output_type": "execute_result"
    }
   ],
   "source": [
    "green_natural_area.columns"
   ]
  },
  {
   "cell_type": "code",
   "execution_count": 122,
   "metadata": {},
   "outputs": [
    {
     "data": {
      "text/plain": [
       "array([None,\n",
       "       'Mitte November 2018 startete eine heftige Baggeraktivität hier'],\n",
       "      dtype=object)"
      ]
     },
     "execution_count": 122,
     "metadata": {},
     "output_type": "execute_result"
    }
   ],
   "source": [
    "green_natural_area['comment'].unique()"
   ]
  },
  {
   "cell_type": "code",
   "execution_count": 123,
   "metadata": {},
   "outputs": [],
   "source": [
    "green_natural_area = green_natural_area[['element', 'id', 'natural', \n",
    "                                         'name', 'note', 'leisure',\n",
    "                                         'description', 'barrier', 'landuse',\n",
    "                                         'landcover', 'access', 'fee', 'type', 'geometry']]"
   ]
  },
  {
   "cell_type": "code",
   "execution_count": 124,
   "metadata": {},
   "outputs": [],
   "source": [
    "green_natural_area['area'] = green_natural_area['geometry'].area"
   ]
  },
  {
   "cell_type": "code",
   "execution_count": 125,
   "metadata": {},
   "outputs": [
    {
     "data": {
      "text/plain": [
       "array([None, 'private', 'yes'], dtype=object)"
      ]
     },
     "execution_count": 125,
     "metadata": {},
     "output_type": "execute_result"
    }
   ],
   "source": [
    "green_natural_area['access'].unique()"
   ]
  },
  {
   "cell_type": "code",
   "execution_count": 126,
   "metadata": {},
   "outputs": [
    {
     "name": "stdout",
     "output_type": "stream",
     "text": [
      "total rows: 4610\n",
      "access is None: 4606\n",
      "access is private : 1\n",
      "access is yes : 3\n"
     ]
    }
   ],
   "source": [
    "print('total rows:', green_natural_area.shape[0])  # number of rows\n",
    "for i in green_natural_area['access'].unique():\n",
    "    if i == None:\n",
    "        print('access is None:', green_natural_area[green_natural_area['access'].isnull()].shape[0])\n",
    "    else:\n",
    "        # print number of rows that has access e.g. private,yes,none or others\n",
    "        print('access is', i , ':', green_natural_area[green_natural_area['access']==i].shape[0])"
   ]
  },
  {
   "cell_type": "markdown",
   "metadata": {},
   "source": [
    "## Green space from camp site"
   ]
  },
  {
   "cell_type": "code",
   "execution_count": 127,
   "metadata": {},
   "outputs": [],
   "source": [
    "# green_campsite_area = gpd.read_file('../data/raw/osm/green space/green_campsite_area.geojson')\n",
    "green_campsite_area = gpd.read_file('../data/raw/osm/green space/green_campsite_area_dresden.geojson')"
   ]
  },
  {
   "cell_type": "code",
   "execution_count": 128,
   "metadata": {},
   "outputs": [],
   "source": [
    "green_campsite_area = green_campsite_area.to_crs(epsg=32633)"
   ]
  },
  {
   "cell_type": "code",
   "execution_count": 129,
   "metadata": {},
   "outputs": [
    {
     "data": {
      "text/html": [
       "<div>\n",
       "<style scoped>\n",
       "    .dataframe tbody tr th:only-of-type {\n",
       "        vertical-align: middle;\n",
       "    }\n",
       "\n",
       "    .dataframe tbody tr th {\n",
       "        vertical-align: top;\n",
       "    }\n",
       "\n",
       "    .dataframe thead th {\n",
       "        text-align: right;\n",
       "    }\n",
       "</style>\n",
       "<table border=\"1\" class=\"dataframe\">\n",
       "  <thead>\n",
       "    <tr style=\"text-align: right;\">\n",
       "      <th></th>\n",
       "      <th>element</th>\n",
       "      <th>id</th>\n",
       "      <th>created_by</th>\n",
       "      <th>tourism</th>\n",
       "      <th>access</th>\n",
       "      <th>addr:city</th>\n",
       "      <th>addr:country</th>\n",
       "      <th>addr:housenumber</th>\n",
       "      <th>addr:postcode</th>\n",
       "      <th>addr:street</th>\n",
       "      <th>...</th>\n",
       "      <th>motor_vehicle</th>\n",
       "      <th>beds</th>\n",
       "      <th>group_only</th>\n",
       "      <th>guest_house</th>\n",
       "      <th>rooms</th>\n",
       "      <th>attraction</th>\n",
       "      <th>capacity:disabled</th>\n",
       "      <th>seasonal</th>\n",
       "      <th>socket:cee_blue</th>\n",
       "      <th>geometry</th>\n",
       "    </tr>\n",
       "  </thead>\n",
       "  <tbody>\n",
       "    <tr>\n",
       "      <th>0</th>\n",
       "      <td>node</td>\n",
       "      <td>257564076</td>\n",
       "      <td>JOSM</td>\n",
       "      <td>picnic_site</td>\n",
       "      <td>None</td>\n",
       "      <td>None</td>\n",
       "      <td>None</td>\n",
       "      <td>None</td>\n",
       "      <td>None</td>\n",
       "      <td>None</td>\n",
       "      <td>...</td>\n",
       "      <td>None</td>\n",
       "      <td>None</td>\n",
       "      <td>None</td>\n",
       "      <td>None</td>\n",
       "      <td>None</td>\n",
       "      <td>None</td>\n",
       "      <td>None</td>\n",
       "      <td>None</td>\n",
       "      <td>None</td>\n",
       "      <td>POINT (411597.918 5665030.941)</td>\n",
       "    </tr>\n",
       "    <tr>\n",
       "      <th>1</th>\n",
       "      <td>node</td>\n",
       "      <td>257564078</td>\n",
       "      <td>JOSM</td>\n",
       "      <td>picnic_site</td>\n",
       "      <td>None</td>\n",
       "      <td>None</td>\n",
       "      <td>None</td>\n",
       "      <td>None</td>\n",
       "      <td>None</td>\n",
       "      <td>None</td>\n",
       "      <td>...</td>\n",
       "      <td>None</td>\n",
       "      <td>None</td>\n",
       "      <td>None</td>\n",
       "      <td>None</td>\n",
       "      <td>None</td>\n",
       "      <td>None</td>\n",
       "      <td>None</td>\n",
       "      <td>None</td>\n",
       "      <td>None</td>\n",
       "      <td>POINT (411626.748 5664796.911)</td>\n",
       "    </tr>\n",
       "    <tr>\n",
       "      <th>2</th>\n",
       "      <td>node</td>\n",
       "      <td>257922815</td>\n",
       "      <td>JOSM</td>\n",
       "      <td>picnic_site</td>\n",
       "      <td>None</td>\n",
       "      <td>None</td>\n",
       "      <td>None</td>\n",
       "      <td>None</td>\n",
       "      <td>None</td>\n",
       "      <td>None</td>\n",
       "      <td>...</td>\n",
       "      <td>None</td>\n",
       "      <td>None</td>\n",
       "      <td>None</td>\n",
       "      <td>None</td>\n",
       "      <td>None</td>\n",
       "      <td>None</td>\n",
       "      <td>None</td>\n",
       "      <td>None</td>\n",
       "      <td>None</td>\n",
       "      <td>POINT (411564.728 5665084.269)</td>\n",
       "    </tr>\n",
       "    <tr>\n",
       "      <th>3</th>\n",
       "      <td>node</td>\n",
       "      <td>257923367</td>\n",
       "      <td>None</td>\n",
       "      <td>picnic_site</td>\n",
       "      <td>None</td>\n",
       "      <td>None</td>\n",
       "      <td>None</td>\n",
       "      <td>None</td>\n",
       "      <td>None</td>\n",
       "      <td>None</td>\n",
       "      <td>...</td>\n",
       "      <td>None</td>\n",
       "      <td>None</td>\n",
       "      <td>None</td>\n",
       "      <td>None</td>\n",
       "      <td>None</td>\n",
       "      <td>None</td>\n",
       "      <td>None</td>\n",
       "      <td>None</td>\n",
       "      <td>None</td>\n",
       "      <td>POINT (411586.657 5667217.952)</td>\n",
       "    </tr>\n",
       "    <tr>\n",
       "      <th>4</th>\n",
       "      <td>node</td>\n",
       "      <td>258326088</td>\n",
       "      <td>None</td>\n",
       "      <td>camp_site</td>\n",
       "      <td>private</td>\n",
       "      <td>Dresden</td>\n",
       "      <td>DE</td>\n",
       "      <td>81</td>\n",
       "      <td>01277</td>\n",
       "      <td>Tolkewitzer Straße</td>\n",
       "      <td>...</td>\n",
       "      <td>None</td>\n",
       "      <td>None</td>\n",
       "      <td>None</td>\n",
       "      <td>None</td>\n",
       "      <td>None</td>\n",
       "      <td>None</td>\n",
       "      <td>None</td>\n",
       "      <td>None</td>\n",
       "      <td>None</td>\n",
       "      <td>POINT (417186.97 5654969.5)</td>\n",
       "    </tr>\n",
       "  </tbody>\n",
       "</table>\n",
       "<p>5 rows × 115 columns</p>\n",
       "</div>"
      ],
      "text/plain": [
       "  element         id created_by      tourism   access addr:city addr:country  \\\n",
       "0    node  257564076       JOSM  picnic_site     None      None         None   \n",
       "1    node  257564078       JOSM  picnic_site     None      None         None   \n",
       "2    node  257922815       JOSM  picnic_site     None      None         None   \n",
       "3    node  257923367       None  picnic_site     None      None         None   \n",
       "4    node  258326088       None    camp_site  private   Dresden           DE   \n",
       "\n",
       "  addr:housenumber addr:postcode         addr:street  ... motor_vehicle  beds  \\\n",
       "0             None          None                None  ...          None  None   \n",
       "1             None          None                None  ...          None  None   \n",
       "2             None          None                None  ...          None  None   \n",
       "3             None          None                None  ...          None  None   \n",
       "4               81         01277  Tolkewitzer Straße  ...          None  None   \n",
       "\n",
       "  group_only guest_house rooms attraction capacity:disabled seasonal  \\\n",
       "0       None        None  None       None              None     None   \n",
       "1       None        None  None       None              None     None   \n",
       "2       None        None  None       None              None     None   \n",
       "3       None        None  None       None              None     None   \n",
       "4       None        None  None       None              None     None   \n",
       "\n",
       "  socket:cee_blue                        geometry  \n",
       "0            None  POINT (411597.918 5665030.941)  \n",
       "1            None  POINT (411626.748 5664796.911)  \n",
       "2            None  POINT (411564.728 5665084.269)  \n",
       "3            None  POINT (411586.657 5667217.952)  \n",
       "4            None     POINT (417186.97 5654969.5)  \n",
       "\n",
       "[5 rows x 115 columns]"
      ]
     },
     "execution_count": 129,
     "metadata": {},
     "output_type": "execute_result"
    }
   ],
   "source": [
    "green_campsite_area.head()"
   ]
  },
  {
   "cell_type": "code",
   "execution_count": 130,
   "metadata": {},
   "outputs": [],
   "source": [
    "green_campsite_area['area'] = green_campsite_area['geometry'].area"
   ]
  },
  {
   "cell_type": "code",
   "execution_count": 131,
   "metadata": {},
   "outputs": [
    {
     "name": "stdout",
     "output_type": "stream",
     "text": [
      "total rows: 199\n",
      "access is None: 183\n",
      "access is private : 7\n",
      "access is yes : 3\n",
      "access is customers : 5\n",
      "access is permit : 1\n"
     ]
    }
   ],
   "source": [
    "print('total rows:', green_campsite_area.shape[0])  # number of rows\n",
    "for i in green_campsite_area['access'].unique():\n",
    "    if i == None:\n",
    "        print('access is None:', green_campsite_area[green_campsite_area['access'].isnull()].shape[0])\n",
    "    else:\n",
    "        # print number of rows that has access e.g. private,yes,none or others\n",
    "        print('access is', i , ':', green_campsite_area[green_campsite_area['access']==i].shape[0])"
   ]
  },
  {
   "cell_type": "code",
   "execution_count": 132,
   "metadata": {},
   "outputs": [],
   "source": [
    "# filter node out\n",
    "green_campsite_area = green_campsite_area[green_campsite_area['element']!='node']"
   ]
  },
  {
   "cell_type": "markdown",
   "metadata": {},
   "source": [
    "## POI/Amenity from amenity "
   ]
  },
  {
   "cell_type": "code",
   "execution_count": 133,
   "metadata": {},
   "outputs": [],
   "source": [
    "# poi_amenity = gpd.read_file('../data/raw/osm/amenity/poi_amenity.geojson')\n",
    "poi_amenity = gpd.read_file('../data/raw/osm/amenity/poi_amenity_dresden.geojson')"
   ]
  },
  {
   "cell_type": "code",
   "execution_count": 134,
   "metadata": {},
   "outputs": [],
   "source": [
    "poi_amenity = poi_amenity.to_crs(epsg=32633)"
   ]
  },
  {
   "cell_type": "code",
   "execution_count": 135,
   "metadata": {},
   "outputs": [
    {
     "data": {
      "text/html": [
       "<div>\n",
       "<style scoped>\n",
       "    .dataframe tbody tr th:only-of-type {\n",
       "        vertical-align: middle;\n",
       "    }\n",
       "\n",
       "    .dataframe tbody tr th {\n",
       "        vertical-align: top;\n",
       "    }\n",
       "\n",
       "    .dataframe thead th {\n",
       "        text-align: right;\n",
       "    }\n",
       "</style>\n",
       "<table border=\"1\" class=\"dataframe\">\n",
       "  <thead>\n",
       "    <tr style=\"text-align: right;\">\n",
       "      <th></th>\n",
       "      <th>element</th>\n",
       "      <th>id</th>\n",
       "      <th>amenity</th>\n",
       "      <th>backrest</th>\n",
       "      <th>description</th>\n",
       "      <th>direction</th>\n",
       "      <th>material</th>\n",
       "      <th>seats</th>\n",
       "      <th>wikimedia_commons</th>\n",
       "      <th>created_by</th>\n",
       "      <th>...</th>\n",
       "      <th>deposit_ring</th>\n",
       "      <th>support</th>\n",
       "      <th>seats:separated</th>\n",
       "      <th>outdoor_seating</th>\n",
       "      <th>leisure</th>\n",
       "      <th>barrier</th>\n",
       "      <th>height</th>\n",
       "      <th>area</th>\n",
       "      <th>man_made</th>\n",
       "      <th>geometry</th>\n",
       "    </tr>\n",
       "  </thead>\n",
       "  <tbody>\n",
       "    <tr>\n",
       "      <th>0</th>\n",
       "      <td>node</td>\n",
       "      <td>251567329</td>\n",
       "      <td>bench</td>\n",
       "      <td>yes</td>\n",
       "      <td>Bank am Zickzack-Weg</td>\n",
       "      <td>100</td>\n",
       "      <td>wood</td>\n",
       "      <td>3</td>\n",
       "      <td>File:Bank am Zickzackweg.jpg</td>\n",
       "      <td>None</td>\n",
       "      <td>...</td>\n",
       "      <td>None</td>\n",
       "      <td>None</td>\n",
       "      <td>None</td>\n",
       "      <td>None</td>\n",
       "      <td>None</td>\n",
       "      <td>None</td>\n",
       "      <td>None</td>\n",
       "      <td>None</td>\n",
       "      <td>None</td>\n",
       "      <td>POINT (403728.926 5649371.357)</td>\n",
       "    </tr>\n",
       "    <tr>\n",
       "      <th>1</th>\n",
       "      <td>node</td>\n",
       "      <td>255298026</td>\n",
       "      <td>bench</td>\n",
       "      <td>yes</td>\n",
       "      <td>None</td>\n",
       "      <td>None</td>\n",
       "      <td>None</td>\n",
       "      <td>None</td>\n",
       "      <td>None</td>\n",
       "      <td>None</td>\n",
       "      <td>...</td>\n",
       "      <td>None</td>\n",
       "      <td>None</td>\n",
       "      <td>None</td>\n",
       "      <td>None</td>\n",
       "      <td>None</td>\n",
       "      <td>None</td>\n",
       "      <td>None</td>\n",
       "      <td>None</td>\n",
       "      <td>None</td>\n",
       "      <td>POINT (415787.203 5655716.144)</td>\n",
       "    </tr>\n",
       "    <tr>\n",
       "      <th>2</th>\n",
       "      <td>node</td>\n",
       "      <td>255925960</td>\n",
       "      <td>waste_basket</td>\n",
       "      <td>None</td>\n",
       "      <td>None</td>\n",
       "      <td>None</td>\n",
       "      <td>None</td>\n",
       "      <td>None</td>\n",
       "      <td>None</td>\n",
       "      <td>None</td>\n",
       "      <td>...</td>\n",
       "      <td>None</td>\n",
       "      <td>None</td>\n",
       "      <td>None</td>\n",
       "      <td>None</td>\n",
       "      <td>None</td>\n",
       "      <td>None</td>\n",
       "      <td>None</td>\n",
       "      <td>None</td>\n",
       "      <td>None</td>\n",
       "      <td>POINT (409010.616 5654975)</td>\n",
       "    </tr>\n",
       "    <tr>\n",
       "      <th>3</th>\n",
       "      <td>node</td>\n",
       "      <td>257567101</td>\n",
       "      <td>bench</td>\n",
       "      <td>None</td>\n",
       "      <td>None</td>\n",
       "      <td>None</td>\n",
       "      <td>None</td>\n",
       "      <td>None</td>\n",
       "      <td>None</td>\n",
       "      <td>JOSM</td>\n",
       "      <td>...</td>\n",
       "      <td>None</td>\n",
       "      <td>None</td>\n",
       "      <td>None</td>\n",
       "      <td>None</td>\n",
       "      <td>None</td>\n",
       "      <td>None</td>\n",
       "      <td>None</td>\n",
       "      <td>None</td>\n",
       "      <td>None</td>\n",
       "      <td>POINT (411676.54 5669898.692)</td>\n",
       "    </tr>\n",
       "    <tr>\n",
       "      <th>4</th>\n",
       "      <td>node</td>\n",
       "      <td>257934358</td>\n",
       "      <td>bench</td>\n",
       "      <td>yes</td>\n",
       "      <td>None</td>\n",
       "      <td>None</td>\n",
       "      <td>None</td>\n",
       "      <td>None</td>\n",
       "      <td>None</td>\n",
       "      <td>JOSM</td>\n",
       "      <td>...</td>\n",
       "      <td>None</td>\n",
       "      <td>None</td>\n",
       "      <td>None</td>\n",
       "      <td>None</td>\n",
       "      <td>None</td>\n",
       "      <td>None</td>\n",
       "      <td>None</td>\n",
       "      <td>None</td>\n",
       "      <td>None</td>\n",
       "      <td>POINT (410258.291 5668038.07)</td>\n",
       "    </tr>\n",
       "  </tbody>\n",
       "</table>\n",
       "<p>5 rows × 83 columns</p>\n",
       "</div>"
      ],
      "text/plain": [
       "  element         id       amenity backrest           description direction  \\\n",
       "0    node  251567329         bench      yes  Bank am Zickzack-Weg       100   \n",
       "1    node  255298026         bench      yes                  None      None   \n",
       "2    node  255925960  waste_basket     None                  None      None   \n",
       "3    node  257567101         bench     None                  None      None   \n",
       "4    node  257934358         bench      yes                  None      None   \n",
       "\n",
       "  material seats             wikimedia_commons created_by  ... deposit_ring  \\\n",
       "0     wood     3  File:Bank am Zickzackweg.jpg       None  ...         None   \n",
       "1     None  None                          None       None  ...         None   \n",
       "2     None  None                          None       None  ...         None   \n",
       "3     None  None                          None       JOSM  ...         None   \n",
       "4     None  None                          None       JOSM  ...         None   \n",
       "\n",
       "  support seats:separated outdoor_seating leisure barrier height  area  \\\n",
       "0    None            None            None    None    None   None  None   \n",
       "1    None            None            None    None    None   None  None   \n",
       "2    None            None            None    None    None   None  None   \n",
       "3    None            None            None    None    None   None  None   \n",
       "4    None            None            None    None    None   None  None   \n",
       "\n",
       "  man_made                        geometry  \n",
       "0     None  POINT (403728.926 5649371.357)  \n",
       "1     None  POINT (415787.203 5655716.144)  \n",
       "2     None      POINT (409010.616 5654975)  \n",
       "3     None   POINT (411676.54 5669898.692)  \n",
       "4     None   POINT (410258.291 5668038.07)  \n",
       "\n",
       "[5 rows x 83 columns]"
      ]
     },
     "execution_count": 135,
     "metadata": {},
     "output_type": "execute_result"
    }
   ],
   "source": [
    "poi_amenity.head()"
   ]
  },
  {
   "cell_type": "markdown",
   "metadata": {},
   "source": [
    "## POI/Amenity from leisure"
   ]
  },
  {
   "cell_type": "code",
   "execution_count": 136,
   "metadata": {},
   "outputs": [],
   "source": [
    "# poi_leisure = gpd.read_file('../data/raw/osm/amenity/poi_leisure.geojson')\n",
    "poi_leisure = gpd.read_file('../data/raw/osm/amenity/poi_leisure_dresden.geojson')"
   ]
  },
  {
   "cell_type": "code",
   "execution_count": 137,
   "metadata": {},
   "outputs": [],
   "source": [
    "poi_leisure = poi_leisure.to_crs(epsg=32633)"
   ]
  },
  {
   "cell_type": "code",
   "execution_count": 138,
   "metadata": {},
   "outputs": [
    {
     "data": {
      "text/html": [
       "<div>\n",
       "<style scoped>\n",
       "    .dataframe tbody tr th:only-of-type {\n",
       "        vertical-align: middle;\n",
       "    }\n",
       "\n",
       "    .dataframe tbody tr th {\n",
       "        vertical-align: top;\n",
       "    }\n",
       "\n",
       "    .dataframe thead th {\n",
       "        text-align: right;\n",
       "    }\n",
       "</style>\n",
       "<table border=\"1\" class=\"dataframe\">\n",
       "  <thead>\n",
       "    <tr style=\"text-align: right;\">\n",
       "      <th></th>\n",
       "      <th>element</th>\n",
       "      <th>id</th>\n",
       "      <th>created_by</th>\n",
       "      <th>leisure</th>\n",
       "      <th>wheelchair</th>\n",
       "      <th>access</th>\n",
       "      <th>name</th>\n",
       "      <th>opening_hours</th>\n",
       "      <th>operator</th>\n",
       "      <th>sport</th>\n",
       "      <th>...</th>\n",
       "      <th>playground:springy</th>\n",
       "      <th>fixme</th>\n",
       "      <th>start_date</th>\n",
       "      <th>contact:email</th>\n",
       "      <th>contact:mobile</th>\n",
       "      <th>contact:website</th>\n",
       "      <th>addr:suburb</th>\n",
       "      <th>construction</th>\n",
       "      <th>type</th>\n",
       "      <th>geometry</th>\n",
       "    </tr>\n",
       "  </thead>\n",
       "  <tbody>\n",
       "    <tr>\n",
       "      <th>0</th>\n",
       "      <td>node</td>\n",
       "      <td>255545201</td>\n",
       "      <td>Potlatch 0.8a</td>\n",
       "      <td>playground</td>\n",
       "      <td>no</td>\n",
       "      <td>None</td>\n",
       "      <td>None</td>\n",
       "      <td>None</td>\n",
       "      <td>None</td>\n",
       "      <td>None</td>\n",
       "      <td>...</td>\n",
       "      <td>None</td>\n",
       "      <td>None</td>\n",
       "      <td>NaT</td>\n",
       "      <td>None</td>\n",
       "      <td>None</td>\n",
       "      <td>None</td>\n",
       "      <td>None</td>\n",
       "      <td>None</td>\n",
       "      <td>None</td>\n",
       "      <td>POINT (409940.451 5652983.729)</td>\n",
       "    </tr>\n",
       "    <tr>\n",
       "      <th>1</th>\n",
       "      <td>node</td>\n",
       "      <td>262693384</td>\n",
       "      <td>JOSM</td>\n",
       "      <td>playground</td>\n",
       "      <td>limited</td>\n",
       "      <td>None</td>\n",
       "      <td>None</td>\n",
       "      <td>None</td>\n",
       "      <td>None</td>\n",
       "      <td>None</td>\n",
       "      <td>...</td>\n",
       "      <td>None</td>\n",
       "      <td>None</td>\n",
       "      <td>NaT</td>\n",
       "      <td>None</td>\n",
       "      <td>None</td>\n",
       "      <td>None</td>\n",
       "      <td>None</td>\n",
       "      <td>None</td>\n",
       "      <td>None</td>\n",
       "      <td>POINT (414361.811 5663180.907)</td>\n",
       "    </tr>\n",
       "    <tr>\n",
       "      <th>2</th>\n",
       "      <td>node</td>\n",
       "      <td>266593887</td>\n",
       "      <td>None</td>\n",
       "      <td>playground</td>\n",
       "      <td>None</td>\n",
       "      <td>yes</td>\n",
       "      <td>Würzburger Straße - Park</td>\n",
       "      <td>Mo-Su 08:00-22:00</td>\n",
       "      <td>Landeshauptstadt Dresden</td>\n",
       "      <td>None</td>\n",
       "      <td>...</td>\n",
       "      <td>None</td>\n",
       "      <td>None</td>\n",
       "      <td>NaT</td>\n",
       "      <td>None</td>\n",
       "      <td>None</td>\n",
       "      <td>None</td>\n",
       "      <td>None</td>\n",
       "      <td>None</td>\n",
       "      <td>None</td>\n",
       "      <td>POINT (409905.579 5653957.552)</td>\n",
       "    </tr>\n",
       "    <tr>\n",
       "      <th>3</th>\n",
       "      <td>node</td>\n",
       "      <td>269751929</td>\n",
       "      <td>None</td>\n",
       "      <td>playground</td>\n",
       "      <td>None</td>\n",
       "      <td>yes</td>\n",
       "      <td>None</td>\n",
       "      <td>None</td>\n",
       "      <td>None</td>\n",
       "      <td>None</td>\n",
       "      <td>...</td>\n",
       "      <td>None</td>\n",
       "      <td>None</td>\n",
       "      <td>NaT</td>\n",
       "      <td>None</td>\n",
       "      <td>None</td>\n",
       "      <td>None</td>\n",
       "      <td>None</td>\n",
       "      <td>None</td>\n",
       "      <td>None</td>\n",
       "      <td>POINT (415406.577 5664375.327)</td>\n",
       "    </tr>\n",
       "    <tr>\n",
       "      <th>4</th>\n",
       "      <td>node</td>\n",
       "      <td>269949803</td>\n",
       "      <td>None</td>\n",
       "      <td>playground</td>\n",
       "      <td>None</td>\n",
       "      <td>None</td>\n",
       "      <td>None</td>\n",
       "      <td>None</td>\n",
       "      <td>None</td>\n",
       "      <td>None</td>\n",
       "      <td>...</td>\n",
       "      <td>None</td>\n",
       "      <td>None</td>\n",
       "      <td>NaT</td>\n",
       "      <td>None</td>\n",
       "      <td>None</td>\n",
       "      <td>None</td>\n",
       "      <td>None</td>\n",
       "      <td>None</td>\n",
       "      <td>None</td>\n",
       "      <td>POINT (400428.614 5648263.427)</td>\n",
       "    </tr>\n",
       "  </tbody>\n",
       "</table>\n",
       "<p>5 rows × 84 columns</p>\n",
       "</div>"
      ],
      "text/plain": [
       "  element         id     created_by     leisure wheelchair access  \\\n",
       "0    node  255545201  Potlatch 0.8a  playground         no   None   \n",
       "1    node  262693384           JOSM  playground    limited   None   \n",
       "2    node  266593887           None  playground       None    yes   \n",
       "3    node  269751929           None  playground       None    yes   \n",
       "4    node  269949803           None  playground       None   None   \n",
       "\n",
       "                       name      opening_hours                  operator  \\\n",
       "0                      None               None                      None   \n",
       "1                      None               None                      None   \n",
       "2  Würzburger Straße - Park  Mo-Su 08:00-22:00  Landeshauptstadt Dresden   \n",
       "3                      None               None                      None   \n",
       "4                      None               None                      None   \n",
       "\n",
       "  sport  ... playground:springy fixme start_date contact:email contact:mobile  \\\n",
       "0  None  ...               None  None        NaT          None           None   \n",
       "1  None  ...               None  None        NaT          None           None   \n",
       "2  None  ...               None  None        NaT          None           None   \n",
       "3  None  ...               None  None        NaT          None           None   \n",
       "4  None  ...               None  None        NaT          None           None   \n",
       "\n",
       "  contact:website addr:suburb construction  type  \\\n",
       "0            None        None         None  None   \n",
       "1            None        None         None  None   \n",
       "2            None        None         None  None   \n",
       "3            None        None         None  None   \n",
       "4            None        None         None  None   \n",
       "\n",
       "                         geometry  \n",
       "0  POINT (409940.451 5652983.729)  \n",
       "1  POINT (414361.811 5663180.907)  \n",
       "2  POINT (409905.579 5653957.552)  \n",
       "3  POINT (415406.577 5664375.327)  \n",
       "4  POINT (400428.614 5648263.427)  \n",
       "\n",
       "[5 rows x 84 columns]"
      ]
     },
     "execution_count": 138,
     "metadata": {},
     "output_type": "execute_result"
    }
   ],
   "source": [
    "poi_leisure.head()"
   ]
  },
  {
   "cell_type": "code",
   "execution_count": 139,
   "metadata": {},
   "outputs": [
    {
     "data": {
      "text/html": [
       "<div>\n",
       "<style scoped>\n",
       "    .dataframe tbody tr th:only-of-type {\n",
       "        vertical-align: middle;\n",
       "    }\n",
       "\n",
       "    .dataframe tbody tr th {\n",
       "        vertical-align: top;\n",
       "    }\n",
       "\n",
       "    .dataframe thead th {\n",
       "        text-align: right;\n",
       "    }\n",
       "</style>\n",
       "<table border=\"1\" class=\"dataframe\">\n",
       "  <thead>\n",
       "    <tr style=\"text-align: right;\">\n",
       "      <th></th>\n",
       "      <th>element</th>\n",
       "      <th>id</th>\n",
       "      <th>created_by</th>\n",
       "      <th>leisure</th>\n",
       "      <th>wheelchair</th>\n",
       "      <th>access</th>\n",
       "      <th>name</th>\n",
       "      <th>opening_hours</th>\n",
       "      <th>operator</th>\n",
       "      <th>sport</th>\n",
       "      <th>...</th>\n",
       "      <th>playground:springy</th>\n",
       "      <th>fixme</th>\n",
       "      <th>start_date</th>\n",
       "      <th>contact:email</th>\n",
       "      <th>contact:mobile</th>\n",
       "      <th>contact:website</th>\n",
       "      <th>addr:suburb</th>\n",
       "      <th>construction</th>\n",
       "      <th>type</th>\n",
       "      <th>geometry</th>\n",
       "    </tr>\n",
       "  </thead>\n",
       "  <tbody>\n",
       "    <tr>\n",
       "      <th>0</th>\n",
       "      <td>node</td>\n",
       "      <td>255545201</td>\n",
       "      <td>Potlatch 0.8a</td>\n",
       "      <td>playground</td>\n",
       "      <td>no</td>\n",
       "      <td>None</td>\n",
       "      <td>None</td>\n",
       "      <td>None</td>\n",
       "      <td>None</td>\n",
       "      <td>None</td>\n",
       "      <td>...</td>\n",
       "      <td>None</td>\n",
       "      <td>None</td>\n",
       "      <td>NaT</td>\n",
       "      <td>None</td>\n",
       "      <td>None</td>\n",
       "      <td>None</td>\n",
       "      <td>None</td>\n",
       "      <td>None</td>\n",
       "      <td>None</td>\n",
       "      <td>POINT (409940.451 5652983.729)</td>\n",
       "    </tr>\n",
       "    <tr>\n",
       "      <th>1</th>\n",
       "      <td>node</td>\n",
       "      <td>262693384</td>\n",
       "      <td>JOSM</td>\n",
       "      <td>playground</td>\n",
       "      <td>limited</td>\n",
       "      <td>None</td>\n",
       "      <td>None</td>\n",
       "      <td>None</td>\n",
       "      <td>None</td>\n",
       "      <td>None</td>\n",
       "      <td>...</td>\n",
       "      <td>None</td>\n",
       "      <td>None</td>\n",
       "      <td>NaT</td>\n",
       "      <td>None</td>\n",
       "      <td>None</td>\n",
       "      <td>None</td>\n",
       "      <td>None</td>\n",
       "      <td>None</td>\n",
       "      <td>None</td>\n",
       "      <td>POINT (414361.811 5663180.907)</td>\n",
       "    </tr>\n",
       "    <tr>\n",
       "      <th>2</th>\n",
       "      <td>node</td>\n",
       "      <td>266593887</td>\n",
       "      <td>None</td>\n",
       "      <td>playground</td>\n",
       "      <td>None</td>\n",
       "      <td>yes</td>\n",
       "      <td>Würzburger Straße - Park</td>\n",
       "      <td>Mo-Su 08:00-22:00</td>\n",
       "      <td>Landeshauptstadt Dresden</td>\n",
       "      <td>None</td>\n",
       "      <td>...</td>\n",
       "      <td>None</td>\n",
       "      <td>None</td>\n",
       "      <td>NaT</td>\n",
       "      <td>None</td>\n",
       "      <td>None</td>\n",
       "      <td>None</td>\n",
       "      <td>None</td>\n",
       "      <td>None</td>\n",
       "      <td>None</td>\n",
       "      <td>POINT (409905.579 5653957.552)</td>\n",
       "    </tr>\n",
       "    <tr>\n",
       "      <th>3</th>\n",
       "      <td>node</td>\n",
       "      <td>269751929</td>\n",
       "      <td>None</td>\n",
       "      <td>playground</td>\n",
       "      <td>None</td>\n",
       "      <td>yes</td>\n",
       "      <td>None</td>\n",
       "      <td>None</td>\n",
       "      <td>None</td>\n",
       "      <td>None</td>\n",
       "      <td>...</td>\n",
       "      <td>None</td>\n",
       "      <td>None</td>\n",
       "      <td>NaT</td>\n",
       "      <td>None</td>\n",
       "      <td>None</td>\n",
       "      <td>None</td>\n",
       "      <td>None</td>\n",
       "      <td>None</td>\n",
       "      <td>None</td>\n",
       "      <td>POINT (415406.577 5664375.327)</td>\n",
       "    </tr>\n",
       "    <tr>\n",
       "      <th>4</th>\n",
       "      <td>node</td>\n",
       "      <td>269949803</td>\n",
       "      <td>None</td>\n",
       "      <td>playground</td>\n",
       "      <td>None</td>\n",
       "      <td>None</td>\n",
       "      <td>None</td>\n",
       "      <td>None</td>\n",
       "      <td>None</td>\n",
       "      <td>None</td>\n",
       "      <td>...</td>\n",
       "      <td>None</td>\n",
       "      <td>None</td>\n",
       "      <td>NaT</td>\n",
       "      <td>None</td>\n",
       "      <td>None</td>\n",
       "      <td>None</td>\n",
       "      <td>None</td>\n",
       "      <td>None</td>\n",
       "      <td>None</td>\n",
       "      <td>POINT (400428.614 5648263.427)</td>\n",
       "    </tr>\n",
       "    <tr>\n",
       "      <th>...</th>\n",
       "      <td>...</td>\n",
       "      <td>...</td>\n",
       "      <td>...</td>\n",
       "      <td>...</td>\n",
       "      <td>...</td>\n",
       "      <td>...</td>\n",
       "      <td>...</td>\n",
       "      <td>...</td>\n",
       "      <td>...</td>\n",
       "      <td>...</td>\n",
       "      <td>...</td>\n",
       "      <td>...</td>\n",
       "      <td>...</td>\n",
       "      <td>...</td>\n",
       "      <td>...</td>\n",
       "      <td>...</td>\n",
       "      <td>...</td>\n",
       "      <td>...</td>\n",
       "      <td>...</td>\n",
       "      <td>...</td>\n",
       "      <td>...</td>\n",
       "    </tr>\n",
       "    <tr>\n",
       "      <th>1606</th>\n",
       "      <td>way</td>\n",
       "      <td>1346758566</td>\n",
       "      <td>None</td>\n",
       "      <td>playground</td>\n",
       "      <td>None</td>\n",
       "      <td>None</td>\n",
       "      <td>None</td>\n",
       "      <td>None</td>\n",
       "      <td>None</td>\n",
       "      <td>None</td>\n",
       "      <td>...</td>\n",
       "      <td>None</td>\n",
       "      <td>None</td>\n",
       "      <td>NaT</td>\n",
       "      <td>None</td>\n",
       "      <td>None</td>\n",
       "      <td>None</td>\n",
       "      <td>None</td>\n",
       "      <td>None</td>\n",
       "      <td>None</td>\n",
       "      <td>POLYGON ((416934.711 5653744.111, 416940.135 5...</td>\n",
       "    </tr>\n",
       "    <tr>\n",
       "      <th>1607</th>\n",
       "      <td>way</td>\n",
       "      <td>1347149587</td>\n",
       "      <td>None</td>\n",
       "      <td>playground</td>\n",
       "      <td>no</td>\n",
       "      <td>yes</td>\n",
       "      <td>Spielplatz Selliner Straße 50</td>\n",
       "      <td>None</td>\n",
       "      <td>Sächsische WOHNUNGSGENOSSENSCHAFT Dresden eG</td>\n",
       "      <td>None</td>\n",
       "      <td>...</td>\n",
       "      <td>None</td>\n",
       "      <td>None</td>\n",
       "      <td>NaT</td>\n",
       "      <td>None</td>\n",
       "      <td>None</td>\n",
       "      <td>None</td>\n",
       "      <td>None</td>\n",
       "      <td>None</td>\n",
       "      <td>None</td>\n",
       "      <td>POLYGON ((414764.098 5664124.394, 414710.627 5...</td>\n",
       "    </tr>\n",
       "    <tr>\n",
       "      <th>1608</th>\n",
       "      <td>way</td>\n",
       "      <td>1350900467</td>\n",
       "      <td>None</td>\n",
       "      <td>playground</td>\n",
       "      <td>None</td>\n",
       "      <td>yes</td>\n",
       "      <td>None</td>\n",
       "      <td>None</td>\n",
       "      <td>None</td>\n",
       "      <td>None</td>\n",
       "      <td>...</td>\n",
       "      <td>None</td>\n",
       "      <td>None</td>\n",
       "      <td>NaT</td>\n",
       "      <td>None</td>\n",
       "      <td>None</td>\n",
       "      <td>None</td>\n",
       "      <td>None</td>\n",
       "      <td>None</td>\n",
       "      <td>None</td>\n",
       "      <td>POLYGON ((411636.37 5653164.516, 411634.334 56...</td>\n",
       "    </tr>\n",
       "    <tr>\n",
       "      <th>1609</th>\n",
       "      <td>way</td>\n",
       "      <td>1351207900</td>\n",
       "      <td>None</td>\n",
       "      <td>playground</td>\n",
       "      <td>None</td>\n",
       "      <td>None</td>\n",
       "      <td>None</td>\n",
       "      <td>None</td>\n",
       "      <td>None</td>\n",
       "      <td>None</td>\n",
       "      <td>...</td>\n",
       "      <td>None</td>\n",
       "      <td>None</td>\n",
       "      <td>NaT</td>\n",
       "      <td>None</td>\n",
       "      <td>None</td>\n",
       "      <td>None</td>\n",
       "      <td>None</td>\n",
       "      <td>None</td>\n",
       "      <td>None</td>\n",
       "      <td>POLYGON ((415350.467 5665466.769, 415347.462 5...</td>\n",
       "    </tr>\n",
       "    <tr>\n",
       "      <th>1610</th>\n",
       "      <td>way</td>\n",
       "      <td>1352072566</td>\n",
       "      <td>None</td>\n",
       "      <td>playground</td>\n",
       "      <td>None</td>\n",
       "      <td>None</td>\n",
       "      <td>None</td>\n",
       "      <td>None</td>\n",
       "      <td>None</td>\n",
       "      <td>None</td>\n",
       "      <td>...</td>\n",
       "      <td>None</td>\n",
       "      <td>None</td>\n",
       "      <td>NaT</td>\n",
       "      <td>None</td>\n",
       "      <td>None</td>\n",
       "      <td>None</td>\n",
       "      <td>None</td>\n",
       "      <td>None</td>\n",
       "      <td>None</td>\n",
       "      <td>POLYGON ((423656.174 5650211.403, 423659.108 5...</td>\n",
       "    </tr>\n",
       "  </tbody>\n",
       "</table>\n",
       "<p>1440 rows × 84 columns</p>\n",
       "</div>"
      ],
      "text/plain": [
       "     element          id     created_by     leisure wheelchair access  \\\n",
       "0       node   255545201  Potlatch 0.8a  playground         no   None   \n",
       "1       node   262693384           JOSM  playground    limited   None   \n",
       "2       node   266593887           None  playground       None    yes   \n",
       "3       node   269751929           None  playground       None    yes   \n",
       "4       node   269949803           None  playground       None   None   \n",
       "...      ...         ...            ...         ...        ...    ...   \n",
       "1606     way  1346758566           None  playground       None   None   \n",
       "1607     way  1347149587           None  playground         no    yes   \n",
       "1608     way  1350900467           None  playground       None    yes   \n",
       "1609     way  1351207900           None  playground       None   None   \n",
       "1610     way  1352072566           None  playground       None   None   \n",
       "\n",
       "                               name      opening_hours  \\\n",
       "0                              None               None   \n",
       "1                              None               None   \n",
       "2          Würzburger Straße - Park  Mo-Su 08:00-22:00   \n",
       "3                              None               None   \n",
       "4                              None               None   \n",
       "...                             ...                ...   \n",
       "1606                           None               None   \n",
       "1607  Spielplatz Selliner Straße 50               None   \n",
       "1608                           None               None   \n",
       "1609                           None               None   \n",
       "1610                           None               None   \n",
       "\n",
       "                                          operator sport  ...  \\\n",
       "0                                             None  None  ...   \n",
       "1                                             None  None  ...   \n",
       "2                         Landeshauptstadt Dresden  None  ...   \n",
       "3                                             None  None  ...   \n",
       "4                                             None  None  ...   \n",
       "...                                            ...   ...  ...   \n",
       "1606                                          None  None  ...   \n",
       "1607  Sächsische WOHNUNGSGENOSSENSCHAFT Dresden eG  None  ...   \n",
       "1608                                          None  None  ...   \n",
       "1609                                          None  None  ...   \n",
       "1610                                          None  None  ...   \n",
       "\n",
       "     playground:springy fixme start_date contact:email contact:mobile  \\\n",
       "0                  None  None        NaT          None           None   \n",
       "1                  None  None        NaT          None           None   \n",
       "2                  None  None        NaT          None           None   \n",
       "3                  None  None        NaT          None           None   \n",
       "4                  None  None        NaT          None           None   \n",
       "...                 ...   ...        ...           ...            ...   \n",
       "1606               None  None        NaT          None           None   \n",
       "1607               None  None        NaT          None           None   \n",
       "1608               None  None        NaT          None           None   \n",
       "1609               None  None        NaT          None           None   \n",
       "1610               None  None        NaT          None           None   \n",
       "\n",
       "     contact:website addr:suburb construction  type  \\\n",
       "0               None        None         None  None   \n",
       "1               None        None         None  None   \n",
       "2               None        None         None  None   \n",
       "3               None        None         None  None   \n",
       "4               None        None         None  None   \n",
       "...              ...         ...          ...   ...   \n",
       "1606            None        None         None  None   \n",
       "1607            None        None         None  None   \n",
       "1608            None        None         None  None   \n",
       "1609            None        None         None  None   \n",
       "1610            None        None         None  None   \n",
       "\n",
       "                                               geometry  \n",
       "0                        POINT (409940.451 5652983.729)  \n",
       "1                        POINT (414361.811 5663180.907)  \n",
       "2                        POINT (409905.579 5653957.552)  \n",
       "3                        POINT (415406.577 5664375.327)  \n",
       "4                        POINT (400428.614 5648263.427)  \n",
       "...                                                 ...  \n",
       "1606  POLYGON ((416934.711 5653744.111, 416940.135 5...  \n",
       "1607  POLYGON ((414764.098 5664124.394, 414710.627 5...  \n",
       "1608  POLYGON ((411636.37 5653164.516, 411634.334 56...  \n",
       "1609  POLYGON ((415350.467 5665466.769, 415347.462 5...  \n",
       "1610  POLYGON ((423656.174 5650211.403, 423659.108 5...  \n",
       "\n",
       "[1440 rows x 84 columns]"
      ]
     },
     "execution_count": 139,
     "metadata": {},
     "output_type": "execute_result"
    }
   ],
   "source": [
    "poi_leisure[poi_leisure['leisure']=='playground']"
   ]
  },
  {
   "cell_type": "markdown",
   "metadata": {},
   "source": [
    "## Barrier"
   ]
  },
  {
   "cell_type": "code",
   "execution_count": 140,
   "metadata": {},
   "outputs": [],
   "source": [
    "# poi_barrier = gpd.read_file('../data/raw/osm/amenity/poi_barrier.geojson')\n",
    "poi_barrier = gpd.read_file('../data/raw/osm/amenity/poi_barrier_dresden.geojson')"
   ]
  },
  {
   "cell_type": "code",
   "execution_count": 141,
   "metadata": {},
   "outputs": [],
   "source": [
    "poi_barrier = poi_barrier.to_crs(epsg=32633)"
   ]
  },
  {
   "cell_type": "code",
   "execution_count": 142,
   "metadata": {},
   "outputs": [
    {
     "data": {
      "text/html": [
       "<div>\n",
       "<style scoped>\n",
       "    .dataframe tbody tr th:only-of-type {\n",
       "        vertical-align: middle;\n",
       "    }\n",
       "\n",
       "    .dataframe tbody tr th {\n",
       "        vertical-align: top;\n",
       "    }\n",
       "\n",
       "    .dataframe thead th {\n",
       "        text-align: right;\n",
       "    }\n",
       "</style>\n",
       "<table border=\"1\" class=\"dataframe\">\n",
       "  <thead>\n",
       "    <tr style=\"text-align: right;\">\n",
       "      <th></th>\n",
       "      <th>element</th>\n",
       "      <th>id</th>\n",
       "      <th>access</th>\n",
       "      <th>barrier</th>\n",
       "      <th>entrance</th>\n",
       "      <th>motor_vehicle</th>\n",
       "      <th>name</th>\n",
       "      <th>description</th>\n",
       "      <th>wheelchair</th>\n",
       "      <th>foot</th>\n",
       "      <th>...</th>\n",
       "      <th>tourism</th>\n",
       "      <th>note:de</th>\n",
       "      <th>note:access</th>\n",
       "      <th>layer</th>\n",
       "      <th>open</th>\n",
       "      <th>fence_type</th>\n",
       "      <th>supervised</th>\n",
       "      <th>disused</th>\n",
       "      <th>check_date</th>\n",
       "      <th>geometry</th>\n",
       "    </tr>\n",
       "  </thead>\n",
       "  <tbody>\n",
       "    <tr>\n",
       "      <th>0</th>\n",
       "      <td>node</td>\n",
       "      <td>21637779</td>\n",
       "      <td>private</td>\n",
       "      <td>gate</td>\n",
       "      <td>None</td>\n",
       "      <td>None</td>\n",
       "      <td>None</td>\n",
       "      <td>None</td>\n",
       "      <td>None</td>\n",
       "      <td>None</td>\n",
       "      <td>...</td>\n",
       "      <td>None</td>\n",
       "      <td>None</td>\n",
       "      <td>None</td>\n",
       "      <td>None</td>\n",
       "      <td>None</td>\n",
       "      <td>None</td>\n",
       "      <td>None</td>\n",
       "      <td>None</td>\n",
       "      <td>NaT</td>\n",
       "      <td>POINT (406183.943 5656047.484)</td>\n",
       "    </tr>\n",
       "    <tr>\n",
       "      <th>1</th>\n",
       "      <td>node</td>\n",
       "      <td>25231936</td>\n",
       "      <td>no</td>\n",
       "      <td>gate</td>\n",
       "      <td>None</td>\n",
       "      <td>None</td>\n",
       "      <td>None</td>\n",
       "      <td>None</td>\n",
       "      <td>None</td>\n",
       "      <td>None</td>\n",
       "      <td>...</td>\n",
       "      <td>None</td>\n",
       "      <td>None</td>\n",
       "      <td>None</td>\n",
       "      <td>None</td>\n",
       "      <td>None</td>\n",
       "      <td>None</td>\n",
       "      <td>None</td>\n",
       "      <td>None</td>\n",
       "      <td>NaT</td>\n",
       "      <td>POINT (405134.039 5654579.647)</td>\n",
       "    </tr>\n",
       "    <tr>\n",
       "      <th>2</th>\n",
       "      <td>node</td>\n",
       "      <td>25693660</td>\n",
       "      <td>private</td>\n",
       "      <td>gate</td>\n",
       "      <td>yes</td>\n",
       "      <td>None</td>\n",
       "      <td>None</td>\n",
       "      <td>None</td>\n",
       "      <td>None</td>\n",
       "      <td>None</td>\n",
       "      <td>...</td>\n",
       "      <td>None</td>\n",
       "      <td>None</td>\n",
       "      <td>None</td>\n",
       "      <td>None</td>\n",
       "      <td>None</td>\n",
       "      <td>None</td>\n",
       "      <td>None</td>\n",
       "      <td>None</td>\n",
       "      <td>NaT</td>\n",
       "      <td>POINT (406232.177 5652902.947)</td>\n",
       "    </tr>\n",
       "    <tr>\n",
       "      <th>3</th>\n",
       "      <td>node</td>\n",
       "      <td>26730567</td>\n",
       "      <td>permissive</td>\n",
       "      <td>gate</td>\n",
       "      <td>None</td>\n",
       "      <td>no</td>\n",
       "      <td>None</td>\n",
       "      <td>None</td>\n",
       "      <td>None</td>\n",
       "      <td>None</td>\n",
       "      <td>...</td>\n",
       "      <td>None</td>\n",
       "      <td>None</td>\n",
       "      <td>None</td>\n",
       "      <td>None</td>\n",
       "      <td>None</td>\n",
       "      <td>None</td>\n",
       "      <td>None</td>\n",
       "      <td>None</td>\n",
       "      <td>NaT</td>\n",
       "      <td>POINT (408924.589 5660739.366)</td>\n",
       "    </tr>\n",
       "    <tr>\n",
       "      <th>4</th>\n",
       "      <td>node</td>\n",
       "      <td>26750550</td>\n",
       "      <td>private</td>\n",
       "      <td>gate</td>\n",
       "      <td>None</td>\n",
       "      <td>None</td>\n",
       "      <td>None</td>\n",
       "      <td>None</td>\n",
       "      <td>None</td>\n",
       "      <td>None</td>\n",
       "      <td>...</td>\n",
       "      <td>None</td>\n",
       "      <td>None</td>\n",
       "      <td>None</td>\n",
       "      <td>None</td>\n",
       "      <td>None</td>\n",
       "      <td>None</td>\n",
       "      <td>None</td>\n",
       "      <td>None</td>\n",
       "      <td>NaT</td>\n",
       "      <td>POINT (413021.647 5658399.619)</td>\n",
       "    </tr>\n",
       "  </tbody>\n",
       "</table>\n",
       "<p>5 rows × 103 columns</p>\n",
       "</div>"
      ],
      "text/plain": [
       "  element        id      access barrier entrance motor_vehicle  name  \\\n",
       "0    node  21637779     private    gate     None          None  None   \n",
       "1    node  25231936          no    gate     None          None  None   \n",
       "2    node  25693660     private    gate      yes          None  None   \n",
       "3    node  26730567  permissive    gate     None            no  None   \n",
       "4    node  26750550     private    gate     None          None  None   \n",
       "\n",
       "  description wheelchair  foot  ... tourism note:de note:access layer  open  \\\n",
       "0        None       None  None  ...    None    None        None  None  None   \n",
       "1        None       None  None  ...    None    None        None  None  None   \n",
       "2        None       None  None  ...    None    None        None  None  None   \n",
       "3        None       None  None  ...    None    None        None  None  None   \n",
       "4        None       None  None  ...    None    None        None  None  None   \n",
       "\n",
       "  fence_type supervised disused check_date                        geometry  \n",
       "0       None       None    None        NaT  POINT (406183.943 5656047.484)  \n",
       "1       None       None    None        NaT  POINT (405134.039 5654579.647)  \n",
       "2       None       None    None        NaT  POINT (406232.177 5652902.947)  \n",
       "3       None       None    None        NaT  POINT (408924.589 5660739.366)  \n",
       "4       None       None    None        NaT  POINT (413021.647 5658399.619)  \n",
       "\n",
       "[5 rows x 103 columns]"
      ]
     },
     "execution_count": 142,
     "metadata": {},
     "output_type": "execute_result"
    }
   ],
   "source": [
    "poi_barrier.head()"
   ]
  },
  {
   "cell_type": "code",
   "execution_count": 143,
   "metadata": {},
   "outputs": [
    {
     "data": {
      "text/plain": [
       "Index(['element', 'id', 'access', 'barrier', 'entrance', 'motor_vehicle',\n",
       "       'name', 'description', 'wheelchair', 'foot',\n",
       "       ...\n",
       "       'tourism', 'note:de', 'note:access', 'layer', 'open', 'fence_type',\n",
       "       'supervised', 'disused', 'check_date', 'geometry'],\n",
       "      dtype='object', length=103)"
      ]
     },
     "execution_count": 143,
     "metadata": {},
     "output_type": "execute_result"
    }
   ],
   "source": [
    "poi_barrier.columns"
   ]
  },
  {
   "cell_type": "code",
   "execution_count": 144,
   "metadata": {},
   "outputs": [
    {
     "data": {
      "text/plain": [
       "array([None, 'yes', 'exit', 'main', 'service', 'emergency'], dtype=object)"
      ]
     },
     "execution_count": 144,
     "metadata": {},
     "output_type": "execute_result"
    }
   ],
   "source": [
    "poi_barrier['entrance'].unique()"
   ]
  },
  {
   "cell_type": "code",
   "execution_count": 145,
   "metadata": {},
   "outputs": [],
   "source": [
    "# poi_barrier[~poi_barrier['name'].isna()].explore()"
   ]
  },
  {
   "cell_type": "markdown",
   "metadata": {},
   "source": [
    "## Road network"
   ]
  },
  {
   "cell_type": "code",
   "execution_count": 146,
   "metadata": {},
   "outputs": [
    {
     "name": "stderr",
     "output_type": "stream",
     "text": [
      "Skipping field highway: unsupported OGR type: 5\n",
      "Skipping field maxspeed: unsupported OGR type: 5\n",
      "Skipping field name: unsupported OGR type: 5\n",
      "Skipping field service: unsupported OGR type: 5\n",
      "Skipping field lanes: unsupported OGR type: 5\n",
      "Skipping field width: unsupported OGR type: 5\n",
      "Skipping field ref: unsupported OGR type: 5\n",
      "Skipping field access: unsupported OGR type: 5\n",
      "Skipping field tunnel: unsupported OGR type: 5\n"
     ]
    }
   ],
   "source": [
    "# road_network_edges = gpd.read_file('../data/raw/osm/network/road network/road_network_edges.geojson')\n",
    "# road_network_nodes = gpd.read_file('../data/raw/osm/network/road network/road_network_nodes.geojson')\n",
    "\n",
    "road_network_edges = gpd.read_file('../data/raw/osm/network/road network/road_network_edges_dresden.geojson')\n",
    "road_network_nodes = gpd.read_file('../data/raw/osm/network/road network/road_network_nodes_dresden.geojson')"
   ]
  },
  {
   "cell_type": "markdown",
   "metadata": {},
   "source": [
    "## Cycle network"
   ]
  },
  {
   "cell_type": "code",
   "execution_count": 147,
   "metadata": {},
   "outputs": [
    {
     "name": "stderr",
     "output_type": "stream",
     "text": [
      "Skipping field highway: unsupported OGR type: 5\n",
      "Skipping field maxspeed: unsupported OGR type: 5\n",
      "Skipping field name: unsupported OGR type: 5\n",
      "Skipping field service: unsupported OGR type: 5\n",
      "Skipping field lanes: unsupported OGR type: 5\n",
      "Skipping field width: unsupported OGR type: 5\n",
      "Skipping field ref: unsupported OGR type: 5\n",
      "Skipping field access: unsupported OGR type: 5\n",
      "Skipping field tunnel: unsupported OGR type: 5\n"
     ]
    }
   ],
   "source": [
    "# cycle_network_edges = gpd.read_file('../data/raw/osm/network/cycle network/cycle_network_edges.geojson')\n",
    "# cycle_network_nodes = gpd.read_file('../data/raw/osm/network/cycle network/cycle_network_nodes.geojson')\n",
    "\n",
    "cycle_network_edges = gpd.read_file('../data/raw/osm/network/cycle network/cycle_network_edges_dresden.geojson')\n",
    "cycle_network_nodes = gpd.read_file('../data/raw/osm/network/cycle network/cycle_network_nodes_dresden.geojson')"
   ]
  },
  {
   "cell_type": "markdown",
   "metadata": {},
   "source": [
    "## Footpath network"
   ]
  },
  {
   "cell_type": "code",
   "execution_count": 148,
   "metadata": {},
   "outputs": [
    {
     "name": "stderr",
     "output_type": "stream",
     "text": [
      "Skipping field highway: unsupported OGR type: 5\n",
      "Skipping field maxspeed: unsupported OGR type: 5\n",
      "Skipping field name: unsupported OGR type: 5\n",
      "Skipping field service: unsupported OGR type: 5\n",
      "Skipping field lanes: unsupported OGR type: 5\n",
      "Skipping field bridge: unsupported OGR type: 5\n",
      "Skipping field access: unsupported OGR type: 5\n",
      "Skipping field width: unsupported OGR type: 5\n",
      "Skipping field ref: unsupported OGR type: 5\n",
      "Skipping field tunnel: unsupported OGR type: 5\n"
     ]
    }
   ],
   "source": [
    "# footpath_network_edges = gpd.read_file('../data/raw/osm/network/footpath network/footpath_network_edges.geojson')\n",
    "# footpath_network_nodes = gpd.read_file('../data/raw/osm/network/footpath network/footpath_network_nodes.geojson')\n",
    "\n",
    "footpath_network_edges = gpd.read_file('../data/raw/osm/network/footpath network/footpath_network_edges_dresden.geojson')\n",
    "footpath_network_nodes = gpd.read_file('../data/raw/osm/network/footpath network/footpath_network_nodes_dresden.geojson')"
   ]
  },
  {
   "cell_type": "markdown",
   "metadata": {},
   "source": [
    "# Explore data"
   ]
  },
  {
   "cell_type": "code",
   "execution_count": 149,
   "metadata": {},
   "outputs": [],
   "source": [
    "all_green_space_gdf = pd.concat([green_landuse_area, green_leisure_area_new, green_natural_area, green_campsite_area], ignore_index=True) "
   ]
  },
  {
   "cell_type": "code",
   "execution_count": 155,
   "metadata": {},
   "outputs": [],
   "source": [
    "clean_all_green_space_gdf = all_green_space_gdf[['element', 'id', 'landuse', 'name', 'barrier', 'note', 'opening_hours',\n",
    "       'access', 'description', 'leisure', 'tourism', 'surface', 'landcover',\n",
    "       'natural', 'type', 'geometry', 'area', 'operator',\n",
    "       'playground', 'fee', 'charge', 'fence_type', 'garden:type']]"
   ]
  },
  {
   "cell_type": "code",
   "execution_count": 159,
   "metadata": {},
   "outputs": [
    {
     "data": {
      "text/plain": [
       "22363"
      ]
     },
     "execution_count": 159,
     "metadata": {},
     "output_type": "execute_result"
    }
   ],
   "source": [
    "clean_all_green_space_gdf.shape[0]"
   ]
  },
  {
   "cell_type": "markdown",
   "metadata": {},
   "source": [
    "## Filter polygon that area < 100m2 out"
   ]
  },
  {
   "cell_type": "code",
   "execution_count": 160,
   "metadata": {},
   "outputs": [],
   "source": [
    "clean_all_green_space_gdf = clean_all_green_space_gdf[clean_all_green_space_gdf['area'] > 100]"
   ]
  },
  {
   "cell_type": "code",
   "execution_count": 161,
   "metadata": {},
   "outputs": [
    {
     "data": {
      "text/plain": [
       "18748"
      ]
     },
     "execution_count": 161,
     "metadata": {},
     "output_type": "execute_result"
    }
   ],
   "source": [
    "clean_all_green_space_gdf.shape[0]"
   ]
  },
  {
   "cell_type": "code",
   "execution_count": 172,
   "metadata": {},
   "outputs": [
    {
     "data": {
      "text/plain": [
       "Index(['element', 'id', 'landuse', 'name', 'barrier', 'note', 'opening_hours',\n",
       "       'access', 'description', 'leisure', 'tourism', 'surface', 'landcover',\n",
       "       'natural', 'type', 'geometry', 'area', 'operator', 'playground', 'fee',\n",
       "       'charge', 'fence_type', 'garden:type', 'is_public'],\n",
       "      dtype='object')"
      ]
     },
     "execution_count": 172,
     "metadata": {},
     "output_type": "execute_result"
    }
   ],
   "source": [
    "clean_all_green_space_gdf.columns"
   ]
  },
  {
   "cell_type": "code",
   "execution_count": 189,
   "metadata": {},
   "outputs": [
    {
     "name": "stdout",
     "output_type": "stream",
     "text": [
      "barrier : [None 'fence' 'wall' 'hedge']\n",
      "access : [None 'private' 'yes' 'no' 'permissive' 'customers' 'permit' 'school']\n",
      "surface : [None 'grass' 'gravel' 'tartan' 'artificial_turf' 'clay' 'sand' 'asphalt'\n",
      " 'ground' 'fine_gravel' 'compacted' 'dirt' 'rubber' 'concrete'\n",
      " 'paving_stones' 'sett' 'unpaved' 'pebblestone' 'wood' 'woodchips'\n",
      " 'decoturf' 'textile' 'dirt/sand' 'acrylic' 'paved' 'textile_chips' nan]\n",
      "landcover : [None 'trees' 'grass' 'bushes' 'scrub' nan]\n",
      "natural : [None 'scrub' 'grassland' 'wetland' 'wood' 'water' 'plant' 'heath']\n",
      "fee : [nan None 'no' 'yes']\n",
      "charge : [nan None '8-14€ pro Stunde und Feld' '25 EUR' '25 EUR/24 hours'\n",
      " '15 EUR/24 hours' '12 EUR/24 hours' '9.80 EUR/24 hours']\n",
      "garden:type : [nan None 'botanical' 'residential' 'community' 'show_garden' 'private']\n"
     ]
    }
   ],
   "source": [
    "for i in clean_all_green_space_gdf.columns:\n",
    "    if(i=='barrier')|(i=='access')|(i=='surface')|(i=='landcover')|(i=='natural')|(i=='fee')|(i=='charge')|(i=='garden:type'):\n",
    "        print(i, \":\", clean_all_green_space_gdf[i].unique())"
   ]
  },
  {
   "cell_type": "code",
   "execution_count": 191,
   "metadata": {},
   "outputs": [
    {
     "name": "stdout",
     "output_type": "stream",
     "text": [
      "natural tag is water: 1\n"
     ]
    }
   ],
   "source": [
    "print(\"natural tag is water:\", clean_all_green_space_gdf[clean_all_green_space_gdf['natural']=='water'].shape[0])"
   ]
  },
  {
   "cell_type": "markdown",
   "metadata": {},
   "source": [
    "## Try spatial join first"
   ]
  },
  {
   "cell_type": "markdown",
   "metadata": {},
   "source": [
    "### Make all gdfs have same columns' name"
   ]
  },
  {
   "cell_type": "code",
   "execution_count": 199,
   "metadata": {},
   "outputs": [
    {
     "name": "stdout",
     "output_type": "stream",
     "text": [
      "['element', 'id', 'landuse', 'name', 'barrier', 'note', 'opening_hours', 'access', 'description', 'leisure', 'tourism', 'surface', 'landcover', 'amenity', 'natural', 'type', 'geometry', 'area', 'indoor', 'operator', 'playground', 'fee', 'charge', 'fence_type', 'garden:type', 'wall', 'created_by', 'addr:city', 'addr:country', 'addr:housenumber', 'addr:postcode', 'addr:street', 'note:de', 'phone', 'tents', 'website', 'capacity', 'covered', 'backrest', 'table', 'layer', 'contact:phone', 'check_date', 'heritage', 'historic', 'material', 'start_date', 'wikimedia_commons', 'addr:suburb', 'source', 'fireplace', 'image', 'seats', 'shelter_type', 'barbecue_grill', 'drinking_water', 'openfire', 'roof', 'shelter', 'wheelchair', 'ele', 'capacity:tents', 'caravans', 'reservation', 'payment:cash', 'sanitary_dump_station', 'benches', 'covered:sides', 'contact:website', 'power_supply', 'water_point', 'toilets', 'nudism', 'static_caravans', 'internet_access', 'contact:email', 'contact:fax', 'building', 'zoo', 'email', 'fixme', 'shower', 'website:en', 'internet_access:fee', 'old_name', 'toilets:wheelchair', 'wikidata', 'wikipedia', 'caravan_site', 'caravan_site:type', 'permanent_camping', 'bakery_service', 'charge:conditional', 'check_out', 'dog', 'power_supply:charge', 'power_supply:fee', 'sanitary_dump_station:chemical_toilet', 'sanitary_dump_station:fee', 'sanitary_dump_station:grey_water', 'water_point:fee', 'contact:mobile', 'check_date:opening_hours', 'contact:facebook', 'name:de', 'name:fr', 'level', 'smoothness', 'capacity:caravans', 'alt_name', 'breakfast', 'mobile', 'motor_vehicle', 'beds', 'group_only', 'guest_house', 'rooms', 'attraction', 'capacity:disabled', 'seasonal', 'socket:cee_blue']\n"
     ]
    }
   ],
   "source": [
    "gdf_list = [green_landuse_area, green_leisure_area_new, green_natural_area, green_campsite_area]\n",
    "columns_list = []\n",
    "for i in gdf_list:\n",
    "    columns_list += i.columns.tolist()\n",
    "\n",
    "# remove duplicate columns' name\n",
    "columns_list = list(dict.fromkeys(columns_list))\n",
    "print(columns_list)"
   ]
  },
  {
   "cell_type": "code",
   "execution_count": 200,
   "metadata": {},
   "outputs": [],
   "source": [
    "for i in gdf_list:\n",
    "    temp_list = i.columns.tolist()\n",
    "    temp_df = pd.DataFrame()\n",
    "    for column in columns_list:\n",
    "        if column not in temp_list:\n",
    "            temp_df[column] = None\n",
    "    i = pd.concat([i, temp_df], axis=1)"
   ]
  },
  {
   "cell_type": "markdown",
   "metadata": {},
   "source": [
    "### Spatial join"
   ]
  },
  {
   "cell_type": "code",
   "execution_count": 218,
   "metadata": {},
   "outputs": [
    {
     "name": "stderr",
     "output_type": "stream",
     "text": [
      "/root/miniforge3/envs/pugs-detection-new/lib/python3.12/site-packages/geopandas/tools/sjoin.py:274: PerformanceWarning: DataFrame is highly fragmented.  This is usually the result of calling `frame.insert` many times, which has poor performance.  Consider joining all columns at once using pd.concat(axis=1) instead. To get a de-fragmented frame, use `newframe = frame.copy()`\n",
      "  df_reset.reset_index(inplace=True)\n",
      "/root/miniforge3/envs/pugs-detection-new/lib/python3.12/site-packages/geopandas/tools/sjoin.py:274: PerformanceWarning: DataFrame is highly fragmented.  This is usually the result of calling `frame.insert` many times, which has poor performance.  Consider joining all columns at once using pd.concat(axis=1) instead. To get a de-fragmented frame, use `newframe = frame.copy()`\n",
      "  df_reset.reset_index(inplace=True)\n"
     ]
    },
    {
     "name": "stdout",
     "output_type": "stream",
     "text": [
      "i: 0 j: 0 row: 13941\n",
      "i: 0 j: 1 row: 4279\n",
      "i: 0 j: 2 row: 4616\n"
     ]
    },
    {
     "name": "stderr",
     "output_type": "stream",
     "text": [
      "/root/miniforge3/envs/pugs-detection-new/lib/python3.12/site-packages/geopandas/tools/sjoin.py:274: PerformanceWarning: DataFrame is highly fragmented.  This is usually the result of calling `frame.insert` many times, which has poor performance.  Consider joining all columns at once using pd.concat(axis=1) instead. To get a de-fragmented frame, use `newframe = frame.copy()`\n",
      "  df_reset.reset_index(inplace=True)\n",
      "/root/miniforge3/envs/pugs-detection-new/lib/python3.12/site-packages/geopandas/tools/sjoin.py:274: PerformanceWarning: DataFrame is highly fragmented.  This is usually the result of calling `frame.insert` many times, which has poor performance.  Consider joining all columns at once using pd.concat(axis=1) instead. To get a de-fragmented frame, use `newframe = frame.copy()`\n",
      "  df_reset.reset_index(inplace=True)\n"
     ]
    },
    {
     "name": "stdout",
     "output_type": "stream",
     "text": [
      "i: 0 j: 3 row: 42\n",
      "i: 1 j: 0 row: 13917\n"
     ]
    },
    {
     "name": "stderr",
     "output_type": "stream",
     "text": [
      "/root/miniforge3/envs/pugs-detection-new/lib/python3.12/site-packages/geopandas/tools/sjoin.py:274: PerformanceWarning: DataFrame is highly fragmented.  This is usually the result of calling `frame.insert` many times, which has poor performance.  Consider joining all columns at once using pd.concat(axis=1) instead. To get a de-fragmented frame, use `newframe = frame.copy()`\n",
      "  df_reset.reset_index(inplace=True)\n",
      "/root/miniforge3/envs/pugs-detection-new/lib/python3.12/site-packages/geopandas/tools/sjoin.py:274: PerformanceWarning: DataFrame is highly fragmented.  This is usually the result of calling `frame.insert` many times, which has poor performance.  Consider joining all columns at once using pd.concat(axis=1) instead. To get a de-fragmented frame, use `newframe = frame.copy()`\n",
      "  df_reset.reset_index(inplace=True)\n",
      "/root/miniforge3/envs/pugs-detection-new/lib/python3.12/site-packages/geopandas/tools/sjoin.py:274: PerformanceWarning: DataFrame is highly fragmented.  This is usually the result of calling `frame.insert` many times, which has poor performance.  Consider joining all columns at once using pd.concat(axis=1) instead. To get a de-fragmented frame, use `newframe = frame.copy()`\n",
      "  df_reset.reset_index(inplace=True)\n"
     ]
    },
    {
     "name": "stdout",
     "output_type": "stream",
     "text": [
      "i: 1 j: 1 row: 4392\n",
      "i: 1 j: 2 row: 4615\n",
      "i: 1 j: 3 row: 54\n",
      "i: 2 j: 0 row: 13952\n",
      "i: 2 j: 1 row: 4016\n"
     ]
    },
    {
     "name": "stderr",
     "output_type": "stream",
     "text": [
      "/root/miniforge3/envs/pugs-detection-new/lib/python3.12/site-packages/geopandas/tools/sjoin.py:274: PerformanceWarning: DataFrame is highly fragmented.  This is usually the result of calling `frame.insert` many times, which has poor performance.  Consider joining all columns at once using pd.concat(axis=1) instead. To get a de-fragmented frame, use `newframe = frame.copy()`\n",
      "  df_reset.reset_index(inplace=True)\n",
      "/root/miniforge3/envs/pugs-detection-new/lib/python3.12/site-packages/geopandas/tools/sjoin.py:274: PerformanceWarning: DataFrame is highly fragmented.  This is usually the result of calling `frame.insert` many times, which has poor performance.  Consider joining all columns at once using pd.concat(axis=1) instead. To get a de-fragmented frame, use `newframe = frame.copy()`\n",
      "  df_reset.reset_index(inplace=True)\n",
      "/root/miniforge3/envs/pugs-detection-new/lib/python3.12/site-packages/geopandas/tools/sjoin.py:274: PerformanceWarning: DataFrame is highly fragmented.  This is usually the result of calling `frame.insert` many times, which has poor performance.  Consider joining all columns at once using pd.concat(axis=1) instead. To get a de-fragmented frame, use `newframe = frame.copy()`\n",
      "  df_reset.reset_index(inplace=True)\n",
      "/root/miniforge3/envs/pugs-detection-new/lib/python3.12/site-packages/geopandas/tools/sjoin.py:274: PerformanceWarning: DataFrame is highly fragmented.  This is usually the result of calling `frame.insert` many times, which has poor performance.  Consider joining all columns at once using pd.concat(axis=1) instead. To get a de-fragmented frame, use `newframe = frame.copy()`\n",
      "  df_reset.reset_index(inplace=True)\n"
     ]
    },
    {
     "name": "stdout",
     "output_type": "stream",
     "text": [
      "i: 2 j: 2 row: 4639\n",
      "i: 2 j: 3 row: 78\n",
      "i: 3 j: 0 row: 13759\n",
      "i: 3 j: 1 row: 3957\n"
     ]
    },
    {
     "name": "stderr",
     "output_type": "stream",
     "text": [
      "/root/miniforge3/envs/pugs-detection-new/lib/python3.12/site-packages/geopandas/tools/sjoin.py:274: PerformanceWarning: DataFrame is highly fragmented.  This is usually the result of calling `frame.insert` many times, which has poor performance.  Consider joining all columns at once using pd.concat(axis=1) instead. To get a de-fragmented frame, use `newframe = frame.copy()`\n",
      "  df_reset.reset_index(inplace=True)\n"
     ]
    },
    {
     "name": "stdout",
     "output_type": "stream",
     "text": [
      "i: 3 j: 2 row: 4610\n",
      "i: 3 j: 3 row: 40\n"
     ]
    },
    {
     "name": "stderr",
     "output_type": "stream",
     "text": [
      "/tmp/ipykernel_574292/2525672288.py:9: FutureWarning: The behavior of DataFrame concatenation with empty or all-NA entries is deprecated. In a future version, this will no longer exclude empty or all-NA columns when determining the result dtypes. To retain the old behavior, exclude the relevant entries before the concat operation.\n",
      "  joined_green_space = pd.concat(joined_green_space_list, ignore_index=True)\n",
      "/tmp/ipykernel_574292/2525672288.py:9: FutureWarning: The behavior of DataFrame concatenation with empty or all-NA entries is deprecated. In a future version, this will no longer exclude empty or all-NA columns when determining the result dtypes. To retain the old behavior, exclude the relevant entries before the concat operation.\n",
      "  joined_green_space = pd.concat(joined_green_space_list, ignore_index=True)\n",
      "/tmp/ipykernel_574292/2525672288.py:9: FutureWarning: The behavior of DataFrame concatenation with empty or all-NA entries is deprecated. In a future version, this will no longer exclude empty or all-NA columns when determining the result dtypes. To retain the old behavior, exclude the relevant entries before the concat operation.\n",
      "  joined_green_space = pd.concat(joined_green_space_list, ignore_index=True)\n",
      "/tmp/ipykernel_574292/2525672288.py:9: FutureWarning: The behavior of DataFrame concatenation with empty or all-NA entries is deprecated. In a future version, this will no longer exclude empty or all-NA columns when determining the result dtypes. To retain the old behavior, exclude the relevant entries before the concat operation.\n",
      "  joined_green_space = pd.concat(joined_green_space_list, ignore_index=True)\n"
     ]
    }
   ],
   "source": [
    "# gdf_list = [green_landuse_area, green_leisure_area_new, green_natural_area, green_campsite_area]\n",
    "joined_green_space_list = []\n",
    "for i in range(len(gdf_list)):\n",
    "    for j in range(len(gdf_list)):\n",
    "        # right contain left or not\n",
    "        temp_gdf = gdf_list[i].sjoin(gdf_list[j], how='right', predicate='within')\n",
    "        print('i:', i, 'j:', j, 'row:', temp_gdf.shape[0])\n",
    "        joined_green_space_list.append(temp_gdf)\n",
    "joined_green_space = pd.concat(joined_green_space_list, ignore_index=True)"
   ]
  },
  {
   "cell_type": "code",
   "execution_count": 219,
   "metadata": {},
   "outputs": [],
   "source": [
    "joined_green_space['id_left'] = joined_green_space['id_left'].fillna(-999)\n",
    "joined_green_space['id_left'] = joined_green_space['id_left'].astype(int).astype(str)\n",
    "joined_green_space['id_right'] = joined_green_space['id_right'].astype(str)"
   ]
  },
  {
   "cell_type": "code",
   "execution_count": 220,
   "metadata": {},
   "outputs": [
    {
     "data": {
      "text/plain": [
       "90907"
      ]
     },
     "execution_count": 220,
     "metadata": {},
     "output_type": "execute_result"
    }
   ],
   "source": [
    "joined_green_space.shape[0]"
   ]
  },
  {
   "cell_type": "markdown",
   "metadata": {},
   "source": [
    "## Clean data"
   ]
  },
  {
   "cell_type": "code",
   "execution_count": 224,
   "metadata": {},
   "outputs": [],
   "source": [
    "# remove itself within itself row\n",
    "joined_green_space = joined_green_space[joined_green_space['id_left'] != joined_green_space['id_right']]"
   ]
  },
  {
   "cell_type": "code",
   "execution_count": 225,
   "metadata": {},
   "outputs": [
    {
     "data": {
      "text/plain": [
       "68412"
      ]
     },
     "execution_count": 225,
     "metadata": {},
     "output_type": "execute_result"
    }
   ],
   "source": [
    "joined_green_space.shape[0]"
   ]
  },
  {
   "cell_type": "code",
   "execution_count": 233,
   "metadata": {},
   "outputs": [],
   "source": [
    "# comment this line out since now we aim to keep the small polygon and see whether meringing them is making sense or not\n",
    "#\n",
    "# clean_joined_green_space = joined_green_space[~joined_green_space['id_right'].isin(joined_green_space['id_left'])]"
   ]
  },
  {
   "cell_type": "code",
   "execution_count": 234,
   "metadata": {},
   "outputs": [],
   "source": [
    "clean_joined_green_space = joined_green_space.drop_duplicates(subset=['id_right', 'id_left'])"
   ]
  },
  {
   "cell_type": "code",
   "execution_count": 235,
   "metadata": {},
   "outputs": [
    {
     "data": {
      "text/plain": [
       "24242"
      ]
     },
     "execution_count": 235,
     "metadata": {},
     "output_type": "execute_result"
    }
   ],
   "source": [
    "clean_joined_green_space.shape[0]"
   ]
  },
  {
   "cell_type": "code",
   "execution_count": 236,
   "metadata": {},
   "outputs": [
    {
     "data": {
      "text/html": [
       "<div>\n",
       "<style scoped>\n",
       "    .dataframe tbody tr th:only-of-type {\n",
       "        vertical-align: middle;\n",
       "    }\n",
       "\n",
       "    .dataframe tbody tr th {\n",
       "        vertical-align: top;\n",
       "    }\n",
       "\n",
       "    .dataframe thead th {\n",
       "        text-align: right;\n",
       "    }\n",
       "</style>\n",
       "<table border=\"1\" class=\"dataframe\">\n",
       "  <thead>\n",
       "    <tr style=\"text-align: right;\">\n",
       "      <th></th>\n",
       "      <th>id_left</th>\n",
       "      <th>id_right</th>\n",
       "      <th>area_left</th>\n",
       "      <th>area_right</th>\n",
       "    </tr>\n",
       "  </thead>\n",
       "  <tbody>\n",
       "    <tr>\n",
       "      <th>14734</th>\n",
       "      <td>157942</td>\n",
       "      <td>365345</td>\n",
       "      <td>94969.782463</td>\n",
       "      <td>1.517605e+06</td>\n",
       "    </tr>\n",
       "    <tr>\n",
       "      <th>14735</th>\n",
       "      <td>157943</td>\n",
       "      <td>365345</td>\n",
       "      <td>100603.258852</td>\n",
       "      <td>1.517605e+06</td>\n",
       "    </tr>\n",
       "    <tr>\n",
       "      <th>14736</th>\n",
       "      <td>157944</td>\n",
       "      <td>365345</td>\n",
       "      <td>285535.962086</td>\n",
       "      <td>1.517605e+06</td>\n",
       "    </tr>\n",
       "    <tr>\n",
       "      <th>14737</th>\n",
       "      <td>396375</td>\n",
       "      <td>365345</td>\n",
       "      <td>1493.478101</td>\n",
       "      <td>1.517605e+06</td>\n",
       "    </tr>\n",
       "    <tr>\n",
       "      <th>14738</th>\n",
       "      <td>421481</td>\n",
       "      <td>365345</td>\n",
       "      <td>181451.349952</td>\n",
       "      <td>1.517605e+06</td>\n",
       "    </tr>\n",
       "    <tr>\n",
       "      <th>...</th>\n",
       "      <td>...</td>\n",
       "      <td>...</td>\n",
       "      <td>...</td>\n",
       "      <td>...</td>\n",
       "    </tr>\n",
       "    <tr>\n",
       "      <th>60602</th>\n",
       "      <td>28889290</td>\n",
       "      <td>365345</td>\n",
       "      <td>150.398311</td>\n",
       "      <td>1.517605e+06</td>\n",
       "    </tr>\n",
       "    <tr>\n",
       "      <th>60603</th>\n",
       "      <td>28889293</td>\n",
       "      <td>365345</td>\n",
       "      <td>49.059637</td>\n",
       "      <td>1.517605e+06</td>\n",
       "    </tr>\n",
       "    <tr>\n",
       "      <th>60604</th>\n",
       "      <td>28889296</td>\n",
       "      <td>365345</td>\n",
       "      <td>381.918061</td>\n",
       "      <td>1.517605e+06</td>\n",
       "    </tr>\n",
       "    <tr>\n",
       "      <th>60605</th>\n",
       "      <td>28889298</td>\n",
       "      <td>365345</td>\n",
       "      <td>71.053700</td>\n",
       "      <td>1.517605e+06</td>\n",
       "    </tr>\n",
       "    <tr>\n",
       "      <th>83093</th>\n",
       "      <td>-999</td>\n",
       "      <td>365345</td>\n",
       "      <td>NaN</td>\n",
       "      <td>1.517605e+06</td>\n",
       "    </tr>\n",
       "  </tbody>\n",
       "</table>\n",
       "<p>88 rows × 4 columns</p>\n",
       "</div>"
      ],
      "text/plain": [
       "        id_left id_right      area_left    area_right\n",
       "14734    157942   365345   94969.782463  1.517605e+06\n",
       "14735    157943   365345  100603.258852  1.517605e+06\n",
       "14736    157944   365345  285535.962086  1.517605e+06\n",
       "14737    396375   365345    1493.478101  1.517605e+06\n",
       "14738    421481   365345  181451.349952  1.517605e+06\n",
       "...         ...      ...            ...           ...\n",
       "60602  28889290   365345     150.398311  1.517605e+06\n",
       "60603  28889293   365345      49.059637  1.517605e+06\n",
       "60604  28889296   365345     381.918061  1.517605e+06\n",
       "60605  28889298   365345      71.053700  1.517605e+06\n",
       "83093      -999   365345            NaN  1.517605e+06\n",
       "\n",
       "[88 rows x 4 columns]"
      ]
     },
     "execution_count": 236,
     "metadata": {},
     "output_type": "execute_result"
    }
   ],
   "source": [
    "joined_green_space[joined_green_space['id_right'] == '365345'][['id_left', 'id_right', 'area_left', 'area_right']]"
   ]
  },
  {
   "cell_type": "code",
   "execution_count": 237,
   "metadata": {},
   "outputs": [
    {
     "data": {
      "text/html": [
       "<div>\n",
       "<style scoped>\n",
       "    .dataframe tbody tr th:only-of-type {\n",
       "        vertical-align: middle;\n",
       "    }\n",
       "\n",
       "    .dataframe tbody tr th {\n",
       "        vertical-align: top;\n",
       "    }\n",
       "\n",
       "    .dataframe thead th {\n",
       "        text-align: right;\n",
       "    }\n",
       "</style>\n",
       "<table border=\"1\" class=\"dataframe\">\n",
       "  <thead>\n",
       "    <tr style=\"text-align: right;\">\n",
       "      <th></th>\n",
       "      <th>id_left</th>\n",
       "      <th>id_right</th>\n",
       "      <th>area_left</th>\n",
       "      <th>area_right</th>\n",
       "      <th>name_right</th>\n",
       "      <th>element_right</th>\n",
       "    </tr>\n",
       "  </thead>\n",
       "  <tbody>\n",
       "    <tr>\n",
       "      <th>36638</th>\n",
       "      <td>3645255648</td>\n",
       "      <td>1340028517</td>\n",
       "      <td>0.000000</td>\n",
       "      <td>8049.696317</td>\n",
       "      <td>None</td>\n",
       "      <td>way</td>\n",
       "    </tr>\n",
       "    <tr>\n",
       "      <th>36639</th>\n",
       "      <td>359896413</td>\n",
       "      <td>1340028517</td>\n",
       "      <td>216.456693</td>\n",
       "      <td>8049.696317</td>\n",
       "      <td>None</td>\n",
       "      <td>way</td>\n",
       "    </tr>\n",
       "    <tr>\n",
       "      <th>59652</th>\n",
       "      <td>-999</td>\n",
       "      <td>1340028517</td>\n",
       "      <td>NaN</td>\n",
       "      <td>8049.696317</td>\n",
       "      <td>None</td>\n",
       "      <td>way</td>\n",
       "    </tr>\n",
       "  </tbody>\n",
       "</table>\n",
       "</div>"
      ],
      "text/plain": [
       "          id_left    id_right   area_left   area_right name_right  \\\n",
       "36638  3645255648  1340028517    0.000000  8049.696317       None   \n",
       "36639   359896413  1340028517  216.456693  8049.696317       None   \n",
       "59652        -999  1340028517         NaN  8049.696317       None   \n",
       "\n",
       "      element_right  \n",
       "36638           way  \n",
       "36639           way  \n",
       "59652           way  "
      ]
     },
     "execution_count": 237,
     "metadata": {},
     "output_type": "execute_result"
    }
   ],
   "source": [
    "clean_joined_green_space[(clean_joined_green_space['id_right'] == '1340028517')][['id_left', 'id_right', 'area_left', 'area_right', 'name_right', 'element_right']]"
   ]
  },
  {
   "cell_type": "code",
   "execution_count": 238,
   "metadata": {},
   "outputs": [
    {
     "data": {
      "text/html": [
       "<div>\n",
       "<style scoped>\n",
       "    .dataframe tbody tr th:only-of-type {\n",
       "        vertical-align: middle;\n",
       "    }\n",
       "\n",
       "    .dataframe tbody tr th {\n",
       "        vertical-align: top;\n",
       "    }\n",
       "\n",
       "    .dataframe thead th {\n",
       "        text-align: right;\n",
       "    }\n",
       "</style>\n",
       "<table border=\"1\" class=\"dataframe\">\n",
       "  <thead>\n",
       "    <tr style=\"text-align: right;\">\n",
       "      <th></th>\n",
       "      <th>id_left</th>\n",
       "      <th>id_right</th>\n",
       "      <th>area_left</th>\n",
       "      <th>area_right</th>\n",
       "      <th>name_right</th>\n",
       "      <th>element_right</th>\n",
       "    </tr>\n",
       "  </thead>\n",
       "  <tbody>\n",
       "    <tr>\n",
       "      <th>14199</th>\n",
       "      <td>-999</td>\n",
       "      <td>3645255648</td>\n",
       "      <td>NaN</td>\n",
       "      <td>0.0</td>\n",
       "      <td>None</td>\n",
       "      <td>node</td>\n",
       "    </tr>\n",
       "  </tbody>\n",
       "</table>\n",
       "</div>"
      ],
      "text/plain": [
       "      id_left    id_right  area_left  area_right name_right element_right\n",
       "14199    -999  3645255648        NaN         0.0       None          node"
      ]
     },
     "execution_count": 238,
     "metadata": {},
     "output_type": "execute_result"
    }
   ],
   "source": [
    "clean_joined_green_space[(clean_joined_green_space['id_right'] == '3645255648')][['id_left', 'id_right', 'area_left', 'area_right', 'name_right', 'element_right']]"
   ]
  },
  {
   "cell_type": "code",
   "execution_count": 245,
   "metadata": {},
   "outputs": [
    {
     "name": "stdout",
     "output_type": "stream",
     "text": [
      "before filter surface: 24242\n",
      "after filter surface: 23677\n"
     ]
    }
   ],
   "source": [
    "print(\"before filter surface:\", clean_joined_green_space.shape[0])\n",
    "new_clean_joined_green_space = clean_joined_green_space[~((clean_joined_green_space['surface_right']!='grass')&(~clean_joined_green_space['surface_right'].isna()))]\n",
    "print(\"after filter surface:\", new_clean_joined_green_space.shape[0])"
   ]
  },
  {
   "cell_type": "markdown",
   "metadata": {},
   "source": [
    "## Explore after merge"
   ]
  },
  {
   "cell_type": "code",
   "execution_count": 248,
   "metadata": {},
   "outputs": [
    {
     "name": "stdout",
     "output_type": "stream",
     "text": [
      "check conflict of the access tag between small and large polygon\n",
      "small polygon and large polygon that have access tag: 32\n"
     ]
    }
   ],
   "source": [
    "print(\"check conflict of the access tag between small and large polygon\")\n",
    "print(\"small polygon and large polygon that have access tag:\", clean_joined_green_space[(~clean_joined_green_space['access_left'].isna())&(~clean_joined_green_space['access_right'].isna())][['access_left', 'access_right', 'element_left', 'element_right', 'geometry']].shape[0])"
   ]
  },
  {
   "cell_type": "code",
   "execution_count": 246,
   "metadata": {},
   "outputs": [
    {
     "data": {
      "text/html": [
       "<div>\n",
       "<style scoped>\n",
       "    .dataframe tbody tr th:only-of-type {\n",
       "        vertical-align: middle;\n",
       "    }\n",
       "\n",
       "    .dataframe tbody tr th {\n",
       "        vertical-align: top;\n",
       "    }\n",
       "\n",
       "    .dataframe thead th {\n",
       "        text-align: right;\n",
       "    }\n",
       "</style>\n",
       "<table border=\"1\" class=\"dataframe\">\n",
       "  <thead>\n",
       "    <tr style=\"text-align: right;\">\n",
       "      <th></th>\n",
       "      <th>access_left</th>\n",
       "      <th>access_right</th>\n",
       "      <th>element_left</th>\n",
       "      <th>element_right</th>\n",
       "      <th>geometry</th>\n",
       "    </tr>\n",
       "  </thead>\n",
       "  <tbody>\n",
       "    <tr>\n",
       "      <th>24029</th>\n",
       "      <td>yes</td>\n",
       "      <td>yes</td>\n",
       "      <td>way</td>\n",
       "      <td>way</td>\n",
       "      <td>POLYGON ((408770.511 5656024.606, 408758.787 5...</td>\n",
       "    </tr>\n",
       "    <tr>\n",
       "      <th>29131</th>\n",
       "      <td>private</td>\n",
       "      <td>private</td>\n",
       "      <td>node</td>\n",
       "      <td>way</td>\n",
       "      <td>POLYGON ((404943.7 5651777.935, 404942.329 565...</td>\n",
       "    </tr>\n",
       "    <tr>\n",
       "      <th>30446</th>\n",
       "      <td>private</td>\n",
       "      <td>private</td>\n",
       "      <td>node</td>\n",
       "      <td>way</td>\n",
       "      <td>POLYGON ((407994.853 5654986.764, 408005.88 56...</td>\n",
       "    </tr>\n",
       "    <tr>\n",
       "      <th>30447</th>\n",
       "      <td>private</td>\n",
       "      <td>private</td>\n",
       "      <td>node</td>\n",
       "      <td>way</td>\n",
       "      <td>POLYGON ((407976.826 5655068.798, 407983.383 5...</td>\n",
       "    </tr>\n",
       "    <tr>\n",
       "      <th>37609</th>\n",
       "      <td>private</td>\n",
       "      <td>private</td>\n",
       "      <td>way</td>\n",
       "      <td>relation</td>\n",
       "      <td>POLYGON ((411168.668 5659687.749, 411156.693 5...</td>\n",
       "    </tr>\n",
       "    <tr>\n",
       "      <th>37788</th>\n",
       "      <td>yes</td>\n",
       "      <td>yes</td>\n",
       "      <td>node</td>\n",
       "      <td>way</td>\n",
       "      <td>POLYGON ((415732.56 5655709.506, 415741.359 56...</td>\n",
       "    </tr>\n",
       "    <tr>\n",
       "      <th>37789</th>\n",
       "      <td>yes</td>\n",
       "      <td>yes</td>\n",
       "      <td>node</td>\n",
       "      <td>way</td>\n",
       "      <td>POLYGON ((415732.56 5655709.506, 415741.359 56...</td>\n",
       "    </tr>\n",
       "    <tr>\n",
       "      <th>37820</th>\n",
       "      <td>yes</td>\n",
       "      <td>yes</td>\n",
       "      <td>node</td>\n",
       "      <td>way</td>\n",
       "      <td>POLYGON ((408908.377 5654964.766, 408915.736 5...</td>\n",
       "    </tr>\n",
       "    <tr>\n",
       "      <th>37894</th>\n",
       "      <td>private</td>\n",
       "      <td>private</td>\n",
       "      <td>way</td>\n",
       "      <td>way</td>\n",
       "      <td>POLYGON ((413884.249 5656446.789, 413887.46 56...</td>\n",
       "    </tr>\n",
       "    <tr>\n",
       "      <th>38564</th>\n",
       "      <td>yes</td>\n",
       "      <td>yes</td>\n",
       "      <td>node</td>\n",
       "      <td>way</td>\n",
       "      <td>POLYGON ((409256.384 5655642.846, 409257.143 5...</td>\n",
       "    </tr>\n",
       "    <tr>\n",
       "      <th>38566</th>\n",
       "      <td>yes</td>\n",
       "      <td>yes</td>\n",
       "      <td>way</td>\n",
       "      <td>way</td>\n",
       "      <td>POLYGON ((409256.384 5655642.846, 409257.143 5...</td>\n",
       "    </tr>\n",
       "    <tr>\n",
       "      <th>38591</th>\n",
       "      <td>private</td>\n",
       "      <td>permissive</td>\n",
       "      <td>way</td>\n",
       "      <td>way</td>\n",
       "      <td>POLYGON ((411040.316 5654740.116, 411008.577 5...</td>\n",
       "    </tr>\n",
       "    <tr>\n",
       "      <th>38939</th>\n",
       "      <td>yes</td>\n",
       "      <td>yes</td>\n",
       "      <td>node</td>\n",
       "      <td>way</td>\n",
       "      <td>POLYGON ((411836.116 5658318.775, 411857.863 5...</td>\n",
       "    </tr>\n",
       "    <tr>\n",
       "      <th>39657</th>\n",
       "      <td>permissive</td>\n",
       "      <td>permissive</td>\n",
       "      <td>way</td>\n",
       "      <td>way</td>\n",
       "      <td>POLYGON ((405938.307 5651424.863, 405989.841 5...</td>\n",
       "    </tr>\n",
       "    <tr>\n",
       "      <th>39876</th>\n",
       "      <td>yes</td>\n",
       "      <td>yes</td>\n",
       "      <td>way</td>\n",
       "      <td>way</td>\n",
       "      <td>POLYGON ((411796.053 5653359.146, 411812.867 5...</td>\n",
       "    </tr>\n",
       "    <tr>\n",
       "      <th>39877</th>\n",
       "      <td>yes</td>\n",
       "      <td>yes</td>\n",
       "      <td>node</td>\n",
       "      <td>way</td>\n",
       "      <td>POLYGON ((411865.74 5653401.203, 411881.589 56...</td>\n",
       "    </tr>\n",
       "    <tr>\n",
       "      <th>40086</th>\n",
       "      <td>yes</td>\n",
       "      <td>yes</td>\n",
       "      <td>way</td>\n",
       "      <td>way</td>\n",
       "      <td>POLYGON ((413329.581 5656898.703, 413346.08 56...</td>\n",
       "    </tr>\n",
       "    <tr>\n",
       "      <th>40195</th>\n",
       "      <td>customers</td>\n",
       "      <td>yes</td>\n",
       "      <td>way</td>\n",
       "      <td>way</td>\n",
       "      <td>POLYGON ((414666.326 5656958.798, 414686.265 5...</td>\n",
       "    </tr>\n",
       "    <tr>\n",
       "      <th>40201</th>\n",
       "      <td>yes</td>\n",
       "      <td>yes</td>\n",
       "      <td>way</td>\n",
       "      <td>way</td>\n",
       "      <td>POLYGON ((408339.576 5655703.709, 408340.277 5...</td>\n",
       "    </tr>\n",
       "    <tr>\n",
       "      <th>40450</th>\n",
       "      <td>yes</td>\n",
       "      <td>yes</td>\n",
       "      <td>node</td>\n",
       "      <td>way</td>\n",
       "      <td>POLYGON ((418271.149 5650896.674, 418276.437 5...</td>\n",
       "    </tr>\n",
       "    <tr>\n",
       "      <th>40452</th>\n",
       "      <td>yes</td>\n",
       "      <td>yes</td>\n",
       "      <td>way</td>\n",
       "      <td>way</td>\n",
       "      <td>POLYGON ((418271.149 5650896.674, 418276.437 5...</td>\n",
       "    </tr>\n",
       "    <tr>\n",
       "      <th>40756</th>\n",
       "      <td>yes</td>\n",
       "      <td>yes</td>\n",
       "      <td>way</td>\n",
       "      <td>way</td>\n",
       "      <td>POLYGON ((418763.74 5664291.618, 418717.731 56...</td>\n",
       "    </tr>\n",
       "    <tr>\n",
       "      <th>40991</th>\n",
       "      <td>yes</td>\n",
       "      <td>yes</td>\n",
       "      <td>node</td>\n",
       "      <td>way</td>\n",
       "      <td>POLYGON ((426578.607 5661096.642, 426592.304 5...</td>\n",
       "    </tr>\n",
       "    <tr>\n",
       "      <th>41073</th>\n",
       "      <td>customers</td>\n",
       "      <td>private</td>\n",
       "      <td>node</td>\n",
       "      <td>way</td>\n",
       "      <td>POLYGON ((410541.938 5660184.649, 410531.127 5...</td>\n",
       "    </tr>\n",
       "    <tr>\n",
       "      <th>45809</th>\n",
       "      <td>customers</td>\n",
       "      <td>customers</td>\n",
       "      <td>way</td>\n",
       "      <td>way</td>\n",
       "      <td>POLYGON ((424564.074 5648378.872, 424530.048 5...</td>\n",
       "    </tr>\n",
       "    <tr>\n",
       "      <th>45824</th>\n",
       "      <td>customers</td>\n",
       "      <td>customers</td>\n",
       "      <td>node</td>\n",
       "      <td>way</td>\n",
       "      <td>POLYGON ((412989.907 5654429.922, 412969.359 5...</td>\n",
       "    </tr>\n",
       "    <tr>\n",
       "      <th>45825</th>\n",
       "      <td>customers</td>\n",
       "      <td>customers</td>\n",
       "      <td>way</td>\n",
       "      <td>way</td>\n",
       "      <td>POLYGON ((412989.907 5654429.922, 412969.359 5...</td>\n",
       "    </tr>\n",
       "    <tr>\n",
       "      <th>45827</th>\n",
       "      <td>customers</td>\n",
       "      <td>customers</td>\n",
       "      <td>way</td>\n",
       "      <td>way</td>\n",
       "      <td>POLYGON ((412989.907 5654429.922, 412969.359 5...</td>\n",
       "    </tr>\n",
       "    <tr>\n",
       "      <th>45829</th>\n",
       "      <td>customers</td>\n",
       "      <td>customers</td>\n",
       "      <td>way</td>\n",
       "      <td>way</td>\n",
       "      <td>POLYGON ((412989.907 5654429.922, 412969.359 5...</td>\n",
       "    </tr>\n",
       "    <tr>\n",
       "      <th>45830</th>\n",
       "      <td>customers</td>\n",
       "      <td>customers</td>\n",
       "      <td>way</td>\n",
       "      <td>way</td>\n",
       "      <td>POLYGON ((412989.907 5654429.922, 412969.359 5...</td>\n",
       "    </tr>\n",
       "    <tr>\n",
       "      <th>45831</th>\n",
       "      <td>customers</td>\n",
       "      <td>customers</td>\n",
       "      <td>way</td>\n",
       "      <td>way</td>\n",
       "      <td>POLYGON ((412989.907 5654429.922, 412969.359 5...</td>\n",
       "    </tr>\n",
       "    <tr>\n",
       "      <th>45832</th>\n",
       "      <td>customers</td>\n",
       "      <td>customers</td>\n",
       "      <td>way</td>\n",
       "      <td>way</td>\n",
       "      <td>POLYGON ((412989.907 5654429.922, 412969.359 5...</td>\n",
       "    </tr>\n",
       "  </tbody>\n",
       "</table>\n",
       "</div>"
      ],
      "text/plain": [
       "      access_left access_right element_left element_right  \\\n",
       "24029         yes          yes          way           way   \n",
       "29131     private      private         node           way   \n",
       "30446     private      private         node           way   \n",
       "30447     private      private         node           way   \n",
       "37609     private      private          way      relation   \n",
       "37788         yes          yes         node           way   \n",
       "37789         yes          yes         node           way   \n",
       "37820         yes          yes         node           way   \n",
       "37894     private      private          way           way   \n",
       "38564         yes          yes         node           way   \n",
       "38566         yes          yes          way           way   \n",
       "38591     private   permissive          way           way   \n",
       "38939         yes          yes         node           way   \n",
       "39657  permissive   permissive          way           way   \n",
       "39876         yes          yes          way           way   \n",
       "39877         yes          yes         node           way   \n",
       "40086         yes          yes          way           way   \n",
       "40195   customers          yes          way           way   \n",
       "40201         yes          yes          way           way   \n",
       "40450         yes          yes         node           way   \n",
       "40452         yes          yes          way           way   \n",
       "40756         yes          yes          way           way   \n",
       "40991         yes          yes         node           way   \n",
       "41073   customers      private         node           way   \n",
       "45809   customers    customers          way           way   \n",
       "45824   customers    customers         node           way   \n",
       "45825   customers    customers          way           way   \n",
       "45827   customers    customers          way           way   \n",
       "45829   customers    customers          way           way   \n",
       "45830   customers    customers          way           way   \n",
       "45831   customers    customers          way           way   \n",
       "45832   customers    customers          way           way   \n",
       "\n",
       "                                                geometry  \n",
       "24029  POLYGON ((408770.511 5656024.606, 408758.787 5...  \n",
       "29131  POLYGON ((404943.7 5651777.935, 404942.329 565...  \n",
       "30446  POLYGON ((407994.853 5654986.764, 408005.88 56...  \n",
       "30447  POLYGON ((407976.826 5655068.798, 407983.383 5...  \n",
       "37609  POLYGON ((411168.668 5659687.749, 411156.693 5...  \n",
       "37788  POLYGON ((415732.56 5655709.506, 415741.359 56...  \n",
       "37789  POLYGON ((415732.56 5655709.506, 415741.359 56...  \n",
       "37820  POLYGON ((408908.377 5654964.766, 408915.736 5...  \n",
       "37894  POLYGON ((413884.249 5656446.789, 413887.46 56...  \n",
       "38564  POLYGON ((409256.384 5655642.846, 409257.143 5...  \n",
       "38566  POLYGON ((409256.384 5655642.846, 409257.143 5...  \n",
       "38591  POLYGON ((411040.316 5654740.116, 411008.577 5...  \n",
       "38939  POLYGON ((411836.116 5658318.775, 411857.863 5...  \n",
       "39657  POLYGON ((405938.307 5651424.863, 405989.841 5...  \n",
       "39876  POLYGON ((411796.053 5653359.146, 411812.867 5...  \n",
       "39877  POLYGON ((411865.74 5653401.203, 411881.589 56...  \n",
       "40086  POLYGON ((413329.581 5656898.703, 413346.08 56...  \n",
       "40195  POLYGON ((414666.326 5656958.798, 414686.265 5...  \n",
       "40201  POLYGON ((408339.576 5655703.709, 408340.277 5...  \n",
       "40450  POLYGON ((418271.149 5650896.674, 418276.437 5...  \n",
       "40452  POLYGON ((418271.149 5650896.674, 418276.437 5...  \n",
       "40756  POLYGON ((418763.74 5664291.618, 418717.731 56...  \n",
       "40991  POLYGON ((426578.607 5661096.642, 426592.304 5...  \n",
       "41073  POLYGON ((410541.938 5660184.649, 410531.127 5...  \n",
       "45809  POLYGON ((424564.074 5648378.872, 424530.048 5...  \n",
       "45824  POLYGON ((412989.907 5654429.922, 412969.359 5...  \n",
       "45825  POLYGON ((412989.907 5654429.922, 412969.359 5...  \n",
       "45827  POLYGON ((412989.907 5654429.922, 412969.359 5...  \n",
       "45829  POLYGON ((412989.907 5654429.922, 412969.359 5...  \n",
       "45830  POLYGON ((412989.907 5654429.922, 412969.359 5...  \n",
       "45831  POLYGON ((412989.907 5654429.922, 412969.359 5...  \n",
       "45832  POLYGON ((412989.907 5654429.922, 412969.359 5...  "
      ]
     },
     "execution_count": 246,
     "metadata": {},
     "output_type": "execute_result"
    }
   ],
   "source": [
    "clean_joined_green_space[(~clean_joined_green_space['access_left'].isna())&(~clean_joined_green_space['access_right'].isna())][['access_left', 'access_right', 'element_left', 'element_right', 'geometry']]"
   ]
  },
  {
   "cell_type": "code",
   "execution_count": 243,
   "metadata": {},
   "outputs": [
    {
     "data": {
      "text/html": [
       "<div style=\"width:100%;\"><div style=\"position:relative;width:100%;height:0;padding-bottom:60%;\"><span style=\"color:#565656\">Make this Notebook Trusted to load map: File -> Trust Notebook</span><iframe srcdoc=\"&lt;!DOCTYPE html&gt;\n",
       "&lt;html&gt;\n",
       "&lt;head&gt;\n",
       "    \n",
       "    &lt;meta http-equiv=&quot;content-type&quot; content=&quot;text/html; charset=UTF-8&quot; /&gt;\n",
       "    \n",
       "        &lt;script&gt;\n",
       "            L_NO_TOUCH = false;\n",
       "            L_DISABLE_3D = false;\n",
       "        &lt;/script&gt;\n",
       "    \n",
       "    &lt;style&gt;html, body {width: 100%;height: 100%;margin: 0;padding: 0;}&lt;/style&gt;\n",
       "    &lt;style&gt;#map {position:absolute;top:0;bottom:0;right:0;left:0;}&lt;/style&gt;\n",
       "    &lt;script src=&quot;https://cdn.jsdelivr.net/npm/leaflet@1.9.3/dist/leaflet.js&quot;&gt;&lt;/script&gt;\n",
       "    &lt;script src=&quot;https://code.jquery.com/jquery-3.7.1.min.js&quot;&gt;&lt;/script&gt;\n",
       "    &lt;script src=&quot;https://cdn.jsdelivr.net/npm/bootstrap@5.2.2/dist/js/bootstrap.bundle.min.js&quot;&gt;&lt;/script&gt;\n",
       "    &lt;script src=&quot;https://cdnjs.cloudflare.com/ajax/libs/Leaflet.awesome-markers/2.0.2/leaflet.awesome-markers.js&quot;&gt;&lt;/script&gt;\n",
       "    &lt;link rel=&quot;stylesheet&quot; href=&quot;https://cdn.jsdelivr.net/npm/leaflet@1.9.3/dist/leaflet.css&quot;/&gt;\n",
       "    &lt;link rel=&quot;stylesheet&quot; href=&quot;https://cdn.jsdelivr.net/npm/bootstrap@5.2.2/dist/css/bootstrap.min.css&quot;/&gt;\n",
       "    &lt;link rel=&quot;stylesheet&quot; href=&quot;https://netdna.bootstrapcdn.com/bootstrap/3.0.0/css/bootstrap-glyphicons.css&quot;/&gt;\n",
       "    &lt;link rel=&quot;stylesheet&quot; href=&quot;https://cdn.jsdelivr.net/npm/@fortawesome/fontawesome-free@6.2.0/css/all.min.css&quot;/&gt;\n",
       "    &lt;link rel=&quot;stylesheet&quot; href=&quot;https://cdnjs.cloudflare.com/ajax/libs/Leaflet.awesome-markers/2.0.2/leaflet.awesome-markers.css&quot;/&gt;\n",
       "    &lt;link rel=&quot;stylesheet&quot; href=&quot;https://cdn.jsdelivr.net/gh/python-visualization/folium/folium/templates/leaflet.awesome.rotate.min.css&quot;/&gt;\n",
       "    \n",
       "            &lt;meta name=&quot;viewport&quot; content=&quot;width=device-width,\n",
       "                initial-scale=1.0, maximum-scale=1.0, user-scalable=no&quot; /&gt;\n",
       "            &lt;style&gt;\n",
       "                #map_4bab1794988776bb44afa72275936f8e {\n",
       "                    position: relative;\n",
       "                    width: 100.0%;\n",
       "                    height: 100.0%;\n",
       "                    left: 0.0%;\n",
       "                    top: 0.0%;\n",
       "                }\n",
       "                .leaflet-container { font-size: 1rem; }\n",
       "            &lt;/style&gt;\n",
       "        \n",
       "    \n",
       "                    &lt;style&gt;\n",
       "                        .foliumtooltip {\n",
       "                            \n",
       "                        }\n",
       "                       .foliumtooltip table{\n",
       "                            margin: auto;\n",
       "                        }\n",
       "                        .foliumtooltip tr{\n",
       "                            text-align: left;\n",
       "                        }\n",
       "                        .foliumtooltip th{\n",
       "                            padding: 2px; padding-right: 8px;\n",
       "                        }\n",
       "                    &lt;/style&gt;\n",
       "            \n",
       "&lt;/head&gt;\n",
       "&lt;body&gt;\n",
       "    \n",
       "    \n",
       "            &lt;div class=&quot;folium-map&quot; id=&quot;map_4bab1794988776bb44afa72275936f8e&quot; &gt;&lt;/div&gt;\n",
       "        \n",
       "&lt;/body&gt;\n",
       "&lt;script&gt;\n",
       "    \n",
       "    \n",
       "            var map_4bab1794988776bb44afa72275936f8e = L.map(\n",
       "                &quot;map_4bab1794988776bb44afa72275936f8e&quot;,\n",
       "                {\n",
       "                    center: [51.05265250000001, 13.79833515],\n",
       "                    crs: L.CRS.EPSG3857,\n",
       "                    ...{\n",
       "  &quot;zoom&quot;: 10,\n",
       "  &quot;zoomControl&quot;: true,\n",
       "  &quot;preferCanvas&quot;: false,\n",
       "}\n",
       "\n",
       "                }\n",
       "            );\n",
       "            L.control.scale().addTo(map_4bab1794988776bb44afa72275936f8e);\n",
       "\n",
       "            \n",
       "\n",
       "        \n",
       "    \n",
       "            var tile_layer_3158e964c452d14685916699e8f52b03 = L.tileLayer(\n",
       "                &quot;https://tile.openstreetmap.org/{z}/{x}/{y}.png&quot;,\n",
       "                {\n",
       "  &quot;minZoom&quot;: 0,\n",
       "  &quot;maxZoom&quot;: 19,\n",
       "  &quot;maxNativeZoom&quot;: 19,\n",
       "  &quot;noWrap&quot;: false,\n",
       "  &quot;attribution&quot;: &quot;\\u0026copy; \\u003ca href=\\&quot;https://www.openstreetmap.org/copyright\\&quot;\\u003eOpenStreetMap\\u003c/a\\u003e contributors&quot;,\n",
       "  &quot;subdomains&quot;: &quot;abc&quot;,\n",
       "  &quot;detectRetina&quot;: false,\n",
       "  &quot;tms&quot;: false,\n",
       "  &quot;opacity&quot;: 1,\n",
       "}\n",
       "\n",
       "            );\n",
       "        \n",
       "    \n",
       "            tile_layer_3158e964c452d14685916699e8f52b03.addTo(map_4bab1794988776bb44afa72275936f8e);\n",
       "        \n",
       "    \n",
       "            map_4bab1794988776bb44afa72275936f8e.fitBounds(\n",
       "                [[50.9809758, 13.645009800000002], [51.124329200000005, 13.9516605]],\n",
       "                {}\n",
       "            );\n",
       "        \n",
       "    \n",
       "        function geo_json_38a9410b9d47ccd126ea15aff2e1046b_styler(feature) {\n",
       "            switch(feature.id) {\n",
       "                default:\n",
       "                    return {&quot;fillOpacity&quot;: 0.5, &quot;weight&quot;: 2};\n",
       "            }\n",
       "        }\n",
       "        function geo_json_38a9410b9d47ccd126ea15aff2e1046b_highlighter(feature) {\n",
       "            switch(feature.id) {\n",
       "                default:\n",
       "                    return {&quot;fillOpacity&quot;: 0.75};\n",
       "            }\n",
       "        }\n",
       "        function geo_json_38a9410b9d47ccd126ea15aff2e1046b_pointToLayer(feature, latlng) {\n",
       "            var opts = {&quot;bubblingMouseEvents&quot;: true, &quot;color&quot;: &quot;#3388ff&quot;, &quot;dashArray&quot;: null, &quot;dashOffset&quot;: null, &quot;fill&quot;: true, &quot;fillColor&quot;: &quot;#3388ff&quot;, &quot;fillOpacity&quot;: 0.2, &quot;fillRule&quot;: &quot;evenodd&quot;, &quot;lineCap&quot;: &quot;round&quot;, &quot;lineJoin&quot;: &quot;round&quot;, &quot;opacity&quot;: 1.0, &quot;radius&quot;: 2, &quot;stroke&quot;: true, &quot;weight&quot;: 3};\n",
       "            \n",
       "            let style = geo_json_38a9410b9d47ccd126ea15aff2e1046b_styler(feature)\n",
       "            Object.assign(opts, style)\n",
       "            \n",
       "            return new L.CircleMarker(latlng, opts)\n",
       "        }\n",
       "\n",
       "        function geo_json_38a9410b9d47ccd126ea15aff2e1046b_onEachFeature(feature, layer) {\n",
       "            layer.on({\n",
       "                mouseout: function(e) {\n",
       "                    if(typeof e.target.setStyle === &quot;function&quot;){\n",
       "                            geo_json_38a9410b9d47ccd126ea15aff2e1046b.resetStyle(e.target);\n",
       "                    }\n",
       "                },\n",
       "                mouseover: function(e) {\n",
       "                    if(typeof e.target.setStyle === &quot;function&quot;){\n",
       "                        const highlightStyle = geo_json_38a9410b9d47ccd126ea15aff2e1046b_highlighter(e.target.feature)\n",
       "                        e.target.setStyle(highlightStyle);\n",
       "                    }\n",
       "                },\n",
       "            });\n",
       "        };\n",
       "        var geo_json_38a9410b9d47ccd126ea15aff2e1046b = L.geoJson(null, {\n",
       "                onEachFeature: geo_json_38a9410b9d47ccd126ea15aff2e1046b_onEachFeature,\n",
       "            \n",
       "                style: geo_json_38a9410b9d47ccd126ea15aff2e1046b_styler,\n",
       "                pointToLayer: geo_json_38a9410b9d47ccd126ea15aff2e1046b_pointToLayer,\n",
       "            ...{\n",
       "}\n",
       "        });\n",
       "\n",
       "        function geo_json_38a9410b9d47ccd126ea15aff2e1046b_add (data) {\n",
       "            geo_json_38a9410b9d47ccd126ea15aff2e1046b\n",
       "                .addData(data);\n",
       "        }\n",
       "            geo_json_38a9410b9d47ccd126ea15aff2e1046b_add({&quot;bbox&quot;: [13.645009800000002, 50.9809758, 13.9516605, 51.124329200000005], &quot;features&quot;: [{&quot;bbox&quot;: [13.6975826, 51.048280799999986, 13.6984908, 51.0487943], &quot;geometry&quot;: {&quot;coordinates&quot;: [[[13.6984908, 51.048503999999994], [13.6983287, 51.04831999999999], [13.6982902, 51.0482932], [13.6982435, 51.0482833], [13.698195800000002, 51.048280799999986], [13.6981454, 51.0482952], [13.6975826, 51.04876279999999], [13.697648800000001, 51.0487943], [13.6984908, 51.048503999999994]]], &quot;type&quot;: &quot;Polygon&quot;}, &quot;id&quot;: &quot;24029&quot;, &quot;properties&quot;: {&quot;access_left&quot;: &quot;yes&quot;, &quot;access_right&quot;: &quot;yes&quot;, &quot;element_left&quot;: &quot;way&quot;, &quot;element_right&quot;: &quot;way&quot;}, &quot;type&quot;: &quot;Feature&quot;}, {&quot;bbox&quot;: [13.645009800000002, 51.009540900000005, 13.6459551, 51.009706099999995], &quot;geometry&quot;: {&quot;coordinates&quot;: [[[13.6450261, 51.009706099999995], [13.645009800000002, 51.00959459999999], [13.6453635, 51.009574099999995], [13.6459388, 51.009540900000005], [13.6459551, 51.0096524], [13.6450261, 51.009706099999995]]], &quot;type&quot;: &quot;Polygon&quot;}, &quot;id&quot;: &quot;29131&quot;, &quot;properties&quot;: {&quot;access_left&quot;: &quot;private&quot;, &quot;access_right&quot;: &quot;private&quot;, &quot;element_left&quot;: &quot;node&quot;, &quot;element_right&quot;: &quot;way&quot;}, &quot;type&quot;: &quot;Feature&quot;}, {&quot;bbox&quot;: [13.6876918, 51.0385114, 13.6885237, 51.0391391], &quot;geometry&quot;: {&quot;coordinates&quot;: [[[13.6876918, 51.03905], [13.6878643, 51.0385114], [13.6885237, 51.0385928], [13.6883758, 51.0391391], [13.6876918, 51.03905]]], &quot;type&quot;: &quot;Polygon&quot;}, &quot;id&quot;: &quot;30446&quot;, &quot;properties&quot;: {&quot;access_left&quot;: &quot;private&quot;, &quot;access_right&quot;: &quot;private&quot;, &quot;element_left&quot;: &quot;node&quot;, &quot;element_right&quot;: &quot;way&quot;}, &quot;type&quot;: &quot;Feature&quot;}, {&quot;bbox&quot;: [13.687413900000001, 51.0394814, 13.6883252, 51.040208199999995], &quot;geometry&quot;: {&quot;coordinates&quot;: [[[13.687413900000001, 51.03978459999999], [13.687516, 51.0394814], [13.6883252, 51.03958229999999], [13.6881481, 51.0401908], [13.688043, 51.040208199999995], [13.687413900000001, 51.03978459999999]]], &quot;type&quot;: &quot;Polygon&quot;}, &quot;id&quot;: &quot;30447&quot;, &quot;properties&quot;: {&quot;access_left&quot;: &quot;private&quot;, &quot;access_right&quot;: &quot;private&quot;, &quot;element_left&quot;: &quot;node&quot;, &quot;element_right&quot;: &quot;way&quot;}, &quot;type&quot;: &quot;Feature&quot;}, {&quot;bbox&quot;: [13.7313782, 51.08059170000001, 13.7331588, 51.08215139999999], &quot;geometry&quot;: {&quot;coordinates&quot;: [[[13.7317949, 51.081812299999996], [13.731622, 51.08188330000001], [13.7314368, 51.08170539999998], [13.7314228, 51.0817166], [13.7319083, 51.0821454], [13.7319259, 51.08215139999999], [13.7319473, 51.0821455], [13.731961900000002, 51.0821336], [13.7319585, 51.082117999999994], [13.7319269, 51.0821332], [13.73172, 51.081965], [13.731734300000001, 51.08195800000001], [13.7316682, 51.0819061], [13.731724600000002, 51.08188169999998], [13.7317848, 51.081933199999995], [13.7318829, 51.08188499999999], [13.7320907, 51.08205429999999], [13.7321297, 51.0820882], [13.7321591, 51.0821117], [13.7321626, 51.0821149], [13.73223, 51.0820829], [13.7325385, 51.0819363], [13.7328349, 51.0817955], [13.7329424, 51.0817444], [13.7329369, 51.081714000000005], [13.7331588, 51.08162659999999], [13.7330895, 51.08153479999999], [13.733021, 51.08144389999999], [13.732957700000002, 51.08135999999999], [13.7329044, 51.081288399999984], [13.7328366, 51.08119719999999], [13.7327582, 51.08109159999999], [13.7327112, 51.0810158], [13.7326594, 51.0809323], [13.7326003, 51.080836999999995], [13.7325466, 51.080759199999996], [13.7324887, 51.08067539999999], [13.7324408, 51.08060619999999], [13.7321953, 51.080674399999985], [13.732177900000002, 51.0806465], [13.732113500000002, 51.0806592], [13.7320411, 51.080666799999996], [13.73197, 51.08066759999999], [13.7319083, 51.08066339999999], [13.7318587, 51.080657499999994], [13.7316963, 51.08062419999999], [13.7317096, 51.08059819999999], [13.7316774, 51.08059170000001], [13.731637300000001, 51.080669799999995], [13.7318009, 51.0807031], [13.7317064, 51.08088639999999], [13.731539900000001, 51.08085249999999], [13.731498900000002, 51.080938399999994], [13.7316626, 51.080971700000006], [13.7315681, 51.0811549], [13.7314027, 51.08112129999999], [13.7313782, 51.081162299999995], [13.7316652, 51.081222200000006], [13.7316509, 51.081254099999995], [13.7315556, 51.08143940000001], [13.731645600000002, 51.0815203], [13.7316977, 51.0815666], [13.7315864, 51.08161369999999], [13.7316098, 51.081634300000005], [13.7317949, 51.081812299999996]], [[13.7320059, 51.08088300000001], [13.731934, 51.0808788], [13.7318625, 51.0808727], [13.7319202, 51.0807605], [13.7319688, 51.08076510000001], [13.7320233, 51.08076719999998], [13.732082, 51.080763999999995], [13.7321201, 51.0807583], [13.7321937, 51.0808657], [13.7321299, 51.08087469999999], [13.7320563, 51.080881600000005], [13.7320059, 51.08088300000001]], [[13.7318813, 51.0809827], [13.731787600000002, 51.0809734], [13.7317943, 51.080943899999994], [13.7318882, 51.08095239999999], [13.7319671, 51.0809575], [13.732046, 51.08095519999999], [13.7321182, 51.0809517], [13.7321917, 51.0809432], [13.7322512, 51.08093490000001], [13.732271, 51.0809604], [13.732198, 51.0809734], [13.7321256, 51.0809802], [13.732048700000002, 51.0809862], [13.731971400000003, 51.0809869], [13.7318813, 51.0809827]], [[13.731781, 51.0810607], [13.731866, 51.081068099999996], [13.7319483, 51.0810751], [13.7320392, 51.081076499999995], [13.7321315, 51.08107059999999], [13.7322245, 51.081061999999996], [13.7322817, 51.08105059999999], [13.7323118, 51.081045499999995], [13.7323719, 51.08115219999999], [13.7323332, 51.08115979999999], [13.7322819, 51.08116929999999], [13.7322388, 51.081175], [13.7321502, 51.08118519999999], [13.7320691, 51.081188600000004], [13.7320256, 51.08119], [13.7319377, 51.08118919999999], [13.7318605, 51.081187299999996], [13.7318138, 51.08118429999998], [13.7317517, 51.0811788], [13.7316946, 51.0811697], [13.7317482, 51.08105489999999], [13.731781, 51.0810607]], [[13.7322959, 51.0812532], [13.7321872, 51.081265800000004], [13.7320746, 51.08127259999999], [13.7320706, 51.0812447], [13.7321752, 51.08123630000001], [13.7322892, 51.0812228], [13.7323698, 51.08121109999999], [13.7324555, 51.08119339999999], [13.7324716, 51.0812212], [13.7323832, 51.081239800000006], [13.7322959, 51.0812532]], [[13.731874800000002, 51.0812692], [13.7317863, 51.081265], [13.731691000000001, 51.08125319999999], [13.7316991, 51.0812254], [13.7317917, 51.0812356], [13.731876100000001, 51.0812397], [13.731947, 51.0812423], [13.7320195, 51.0812441], [13.7320184, 51.0812735], [13.7319432, 51.0812717], [13.731874800000002, 51.0812692]], [[13.7320896, 51.081611099999996], [13.7320082, 51.081649899999995], [13.7320206, 51.081660199999995], [13.7319821, 51.0816786], [13.7319545, 51.08165559999999], [13.7319686, 51.08164889999999], [13.7318658, 51.081563599999996], [13.7318517, 51.0815704], [13.7318235, 51.08154739999999], [13.7318628, 51.0815285], [13.7318767, 51.08153989999999], [13.7320123, 51.081474499999985], [13.7319997, 51.08146419999999], [13.7320381, 51.0814458], [13.7320659, 51.0814686], [13.7321479, 51.0814295], [13.7321206, 51.081406999999984], [13.7321599, 51.0813881], [13.7321738, 51.0813995], [13.7323094, 51.0813341], [13.732296800000002, 51.0813238], [13.7323351, 51.0813053], [13.732363000000001, 51.08132819999998], [13.7323489, 51.081335], [13.7324526, 51.0814209], [13.7324668, 51.081414200000005], [13.7324947, 51.08143729999999], [13.7324552, 51.0814561], [13.7324414, 51.0814446], [13.732368, 51.0814795], [13.7323052, 51.08150950000001], [13.7323177, 51.08151980000001], [13.7322792, 51.0815382], [13.7322518, 51.0815155], [13.7321697, 51.0815546], [13.7321976, 51.08157769999999], [13.7321582, 51.081596499999996], [13.7321444, 51.08158509999999], [13.7320896, 51.081611099999996]], [[13.7323963, 51.08064110000001], [13.7324321, 51.08069439999999], [13.732487, 51.080776], [13.7325156, 51.08081860000001], [13.7323252, 51.0808691], [13.7322059, 51.080691599999994], [13.7323963, 51.08064110000001]], [[13.7325623, 51.0808979], [13.732599, 51.08094869999999], [13.7326534, 51.0810324], [13.7326815, 51.08107530000001], [13.7324912, 51.0811258], [13.7323719, 51.0809484], [13.7325623, 51.0808979]], [[13.7326192, 51.0812986], [13.7325553, 51.0812049], [13.7326416, 51.08118160000001], [13.732637, 51.0811749], [13.7327427, 51.08114639999999], [13.7327473, 51.08115320000001], [13.7327876, 51.081211399999994], [13.732849800000002, 51.0813035], [13.7328855, 51.081355900000005], [13.7327798, 51.0813843], [13.7327754, 51.0813779], [13.7326891, 51.0814011], [13.7326256, 51.081308099999994], [13.7326405, 51.081304], [13.7326341, 51.08129459999999], [13.7326192, 51.0812986]], [[13.7328144, 51.0815522], [13.7327998, 51.0815567], [13.7327291, 51.0814649], [13.7328136, 51.0814392], [13.7328085, 51.081432599999985], [13.7329159, 51.0813987], [13.7329637, 51.08145979999998], [13.733036, 51.081553199999995], [13.7330767, 51.0816046], [13.7329666, 51.0816376], [13.7329618, 51.08163139999999], [13.7328772, 51.081657099999994], [13.732806900000002, 51.081565899999994], [13.7328216, 51.0815615], [13.7328144, 51.0815522]], [[13.7324357, 51.0818521], [13.7323739, 51.081881599999996], [13.7322995, 51.081916899999996], [13.7323119, 51.08192719999999], [13.7322734, 51.08194559999999], [13.7322458, 51.08192259999999], [13.7322599, 51.0819159], [13.7321571, 51.0818306], [13.732143, 51.08183739999999], [13.7321148, 51.08181439999999], [13.7321541, 51.0817955], [13.732168000000001, 51.081806900000004], [13.7323036, 51.0817415], [13.732291, 51.0817312], [13.7323294, 51.0817128], [13.7323572, 51.081735599999995], [13.7324392, 51.08169649999999], [13.7324119, 51.081673999999985], [13.7324512, 51.08165509999999], [13.7324651, 51.0816665], [13.732600700000003, 51.0816011], [13.7325881, 51.081590799999994], [13.7326264, 51.08157229999999], [13.7326543, 51.08159519999999], [13.7326402, 51.081602], [13.7327439, 51.0816879], [13.7327581, 51.0816812], [13.732786, 51.08170429999999], [13.7327465, 51.0817231], [13.7327327, 51.08171159999999], [13.7326585, 51.08174699999999], [13.7325965, 51.0817765], [13.732609, 51.0817868], [13.7325705, 51.0818052], [13.7325431, 51.081782499999996], [13.732461, 51.081821600000005], [13.7324889, 51.08184469999999], [13.732449500000001, 51.08186349999999], [13.7324357, 51.0818521]]], &quot;type&quot;: &quot;Polygon&quot;}, &quot;id&quot;: &quot;37609&quot;, &quot;properties&quot;: {&quot;access_left&quot;: &quot;private&quot;, &quot;access_right&quot;: &quot;private&quot;, &quot;element_left&quot;: &quot;way&quot;, &quot;element_right&quot;: &quot;relation&quot;}, &quot;type&quot;: &quot;Feature&quot;}, {&quot;bbox&quot;: [13.7974452, 51.0467348, 13.7981439, 51.0474076], &quot;geometry&quot;: {&quot;coordinates&quot;: [[[13.7978626, 51.0467348], [13.797985, 51.0468558], [13.7978228, 51.046920699999994], [13.7978358, 51.04694760000001], [13.797824500000003, 51.0469864], [13.7977982, 51.04701550000001], [13.7977627, 51.04703259999999], [13.7978451, 51.04711399999999], [13.797901300000001, 51.04709410000001], [13.7981439, 51.047338799999984], [13.7979694, 51.0474076], [13.7977214, 51.0471625], [13.7977747, 51.0471412], [13.7976924, 51.04705979999999], [13.7976383, 51.0470814], [13.7974452, 51.0468957], [13.7974936, 51.0468757], [13.7975118, 51.04686859999999], [13.7976866, 51.046800399999995], [13.7978626, 51.0467348]]], &quot;type&quot;: &quot;Polygon&quot;}, &quot;id&quot;: &quot;37788&quot;, &quot;properties&quot;: {&quot;access_left&quot;: &quot;yes&quot;, &quot;access_right&quot;: &quot;yes&quot;, &quot;element_left&quot;: &quot;node&quot;, &quot;element_right&quot;: &quot;way&quot;}, &quot;type&quot;: &quot;Feature&quot;}, {&quot;bbox&quot;: [13.7974452, 51.0467348, 13.7981439, 51.0474076], &quot;geometry&quot;: {&quot;coordinates&quot;: [[[13.7978626, 51.0467348], [13.797985, 51.0468558], [13.7978228, 51.046920699999994], [13.7978358, 51.04694760000001], [13.797824500000003, 51.0469864], [13.7977982, 51.04701550000001], [13.7977627, 51.04703259999999], [13.7978451, 51.04711399999999], [13.797901300000001, 51.04709410000001], [13.7981439, 51.047338799999984], [13.7979694, 51.0474076], [13.7977214, 51.0471625], [13.7977747, 51.0471412], [13.7976924, 51.04705979999999], [13.7976383, 51.0470814], [13.7974452, 51.0468957], [13.7974936, 51.0468757], [13.7975118, 51.04686859999999], [13.7976866, 51.046800399999995], [13.7978626, 51.0467348]]], &quot;type&quot;: &quot;Polygon&quot;}, &quot;id&quot;: &quot;37789&quot;, &quot;properties&quot;: {&quot;access_left&quot;: &quot;yes&quot;, &quot;access_right&quot;: &quot;yes&quot;, &quot;element_left&quot;: &quot;node&quot;, &quot;element_right&quot;: &quot;way&quot;}, &quot;type&quot;: &quot;Feature&quot;}, {&quot;bbox&quot;: [13.7007237, 51.0384196, 13.7012967, 51.0389978], &quot;geometry&quot;: {&quot;coordinates&quot;: [[[13.7007237, 51.0389978], [13.7008297, 51.03896079999999], [13.7008477, 51.038922299999996], [13.7009071, 51.038863500000005], [13.701083400000002, 51.03882499999999], [13.7011842, 51.0388556], [13.7012698, 51.03883179999999], [13.7012315, 51.038773799999994], [13.7012297, 51.0386742], [13.7012967, 51.038617999999985], [13.7012135, 51.03855430000001], [13.7011217, 51.0385701], [13.7009903, 51.0385418], [13.7009273, 51.03849089999999], [13.7009075, 51.03842749999999], [13.700815400000002, 51.0384196], [13.7007237, 51.0389978]]], &quot;type&quot;: &quot;Polygon&quot;}, &quot;id&quot;: &quot;37820&quot;, &quot;properties&quot;: {&quot;access_left&quot;: &quot;yes&quot;, &quot;access_right&quot;: &quot;yes&quot;, &quot;element_left&quot;: &quot;node&quot;, &quot;element_right&quot;: &quot;way&quot;}, &quot;type&quot;: &quot;Feature&quot;}, {&quot;bbox&quot;: [13.7703355, 51.0527144, 13.7713774, 51.053089099999994], &quot;geometry&quot;: {&quot;coordinates&quot;: [[[13.771326100000001, 51.053089099999994], [13.7713774, 51.052882], [13.7710565, 51.0528453], [13.7710128, 51.05281260000001], [13.7709982, 51.052811199999994], [13.7709989, 51.05280749999999], [13.770911, 51.0527991], [13.7709109, 51.0528019], [13.7708968, 51.052801], [13.7708976, 51.052795], [13.7708941, 51.05279489999999], [13.7708959, 51.052786999999995], [13.7708731, 51.05276869999999], [13.7708618, 51.0527678], [13.7708626, 51.0527643], [13.770856100000001, 51.0527639], [13.7708582, 51.052756499999994], [13.7708649, 51.052757299999996], [13.7708709, 51.0527345], [13.770813, 51.05272869999999], [13.7708111, 51.052734900000004], [13.7707965, 51.0527339], [13.7707982, 51.052727100000006], [13.7707392, 51.05272089999999], [13.770737500000001, 51.052726799999995], [13.7707222, 51.052725599999995], [13.7707235, 51.05271909999999], [13.7706658, 51.0527144], [13.770660800000002, 51.052736100000004], [13.770649900000002, 51.0527359], [13.770639800000001, 51.052741499999996], [13.7706386, 51.052745599999994], [13.7706348, 51.05274509999999], [13.7706335, 51.05274759999999], [13.7706034, 51.052744], [13.770604100000002, 51.05274109999999], [13.7705971, 51.05274039999999], [13.7705982, 51.0527382], [13.7705915, 51.05272999999998], [13.7705836, 51.0527293], [13.7705724, 51.0527538], [13.7704722, 51.052735899999995], [13.7704155, 51.0528158], [13.7703355, 51.052890999999995], [13.7705893, 51.05294219999999], [13.771326100000001, 51.053089099999994]]], &quot;type&quot;: &quot;Polygon&quot;}, &quot;id&quot;: &quot;37894&quot;, &quot;properties&quot;: {&quot;access_left&quot;: &quot;private&quot;, &quot;access_right&quot;: &quot;private&quot;, &quot;element_left&quot;: &quot;way&quot;, &quot;element_right&quot;: &quot;way&quot;}, &quot;type&quot;: &quot;Feature&quot;}, {&quot;bbox&quot;: [13.704991400000003, 51.045121, 13.705539200000002, 51.04569670000001], &quot;geometry&quot;: {&quot;coordinates&quot;: [[[13.7055162, 51.045148899999994], [13.7055252, 51.045214699999995], [13.705532, 51.0452815], [13.705539200000002, 51.04539799999999], [13.7055301, 51.04550679999999], [13.705518, 51.0456256], [13.7055107, 51.04569670000001], [13.704991400000003, 51.045647299999985], [13.7050122, 51.045521199999996], [13.705078200000003, 51.045121], [13.7055162, 51.045148899999994]]], &quot;type&quot;: &quot;Polygon&quot;}, &quot;id&quot;: &quot;38564&quot;, &quot;properties&quot;: {&quot;access_left&quot;: &quot;yes&quot;, &quot;access_right&quot;: &quot;yes&quot;, &quot;element_left&quot;: &quot;node&quot;, &quot;element_right&quot;: &quot;way&quot;}, &quot;type&quot;: &quot;Feature&quot;}, {&quot;bbox&quot;: [13.704991400000003, 51.045121, 13.705539200000002, 51.04569670000001], &quot;geometry&quot;: {&quot;coordinates&quot;: [[[13.7055162, 51.045148899999994], [13.7055252, 51.045214699999995], [13.705532, 51.0452815], [13.705539200000002, 51.04539799999999], [13.7055301, 51.04550679999999], [13.705518, 51.0456256], [13.7055107, 51.04569670000001], [13.704991400000003, 51.045647299999985], [13.7050122, 51.045521199999996], [13.705078200000003, 51.045121], [13.7055162, 51.045148899999994]]], &quot;type&quot;: &quot;Polygon&quot;}, &quot;id&quot;: &quot;38566&quot;, &quot;properties&quot;: {&quot;access_left&quot;: &quot;yes&quot;, &quot;access_right&quot;: &quot;yes&quot;, &quot;element_left&quot;: &quot;way&quot;, &quot;element_right&quot;: &quot;way&quot;}, &quot;type&quot;: &quot;Feature&quot;}, {&quot;bbox&quot;: [13.7301967, 51.036415299999994, 13.7311795, 51.037429899999985], &quot;geometry&quot;: {&quot;coordinates&quot;: [[[13.7311795, 51.0373122], [13.7307513, 51.036415299999994], [13.7301967, 51.0365112], [13.7304902, 51.037429899999985], [13.7311795, 51.0373122]]], &quot;type&quot;: &quot;Polygon&quot;}, &quot;id&quot;: &quot;38591&quot;, &quot;properties&quot;: {&quot;access_left&quot;: &quot;private&quot;, &quot;access_right&quot;: &quot;permissive&quot;, &quot;element_left&quot;: &quot;way&quot;, &quot;element_right&quot;: &quot;way&quot;}, &quot;type&quot;: &quot;Feature&quot;}, {&quot;bbox&quot;: [13.7416158, 51.069607899999994, 13.742002500000002, 51.0703162], &quot;geometry&quot;: {&quot;coordinates&quot;: [[[13.741655200000002, 51.069607899999994], [13.7419654, 51.069615000000006], [13.742002500000002, 51.069615799999994], [13.7419997, 51.069645699999995], [13.7419979, 51.0696743], [13.7419927, 51.069783199999996], [13.7419906, 51.069826000000006], [13.7419888, 51.06986899999998], [13.7419878, 51.06988499999999], [13.7419878, 51.06988919999999], [13.7419733, 51.070189499999984], [13.7419723, 51.07020030000001], [13.7419724, 51.0702142], [13.7419711, 51.070242199999996], [13.7419693, 51.0702801], [13.7419685, 51.0703162], [13.7418893, 51.07031529999999], [13.7418906, 51.0702715], [13.741817, 51.0702722], [13.741792, 51.07027159999999], [13.741730600000002, 51.07026989999999], [13.7416295, 51.07026769999999], [13.7416158, 51.070266999999994], [13.7416331, 51.0699614], [13.7416352, 51.06992439999999], [13.7416361, 51.0699092], [13.7416509, 51.0699092], [13.7416689, 51.0699093], [13.7416759, 51.069798899999995], [13.741677300000001, 51.069777300000005], [13.7416405, 51.06977619999999], [13.7416433, 51.06968349999998], [13.7416519, 51.0696772], [13.7416525, 51.0696654], [13.7416536, 51.06964569999999], [13.741655200000002, 51.069607899999994]]], &quot;type&quot;: &quot;Polygon&quot;}, &quot;id&quot;: &quot;38939&quot;, &quot;properties&quot;: {&quot;access_left&quot;: &quot;yes&quot;, &quot;access_right&quot;: &quot;yes&quot;, &quot;element_left&quot;: &quot;node&quot;, &quot;element_right&quot;: &quot;way&quot;}, &quot;type&quot;: &quot;Feature&quot;}, {&quot;bbox&quot;: [13.6589802, 51.00669549999999, 13.6604413, 51.007679199999984], &quot;geometry&quot;: {&quot;coordinates&quot;: [[[13.659291, 51.00669549999999], [13.6600182, 51.00695139999999], [13.6603819, 51.007087299999995], [13.6603455, 51.00714729999999], [13.6604413, 51.007211899999994], [13.6602748, 51.0073799], [13.6600991, 51.0075281], [13.6598734, 51.007679199999984], [13.6596247, 51.00746419999999], [13.6597823, 51.0073896], [13.6593009, 51.006952199999986], [13.6591339, 51.00701480000001], [13.6589802, 51.00684129999999], [13.659291, 51.00669549999999]]], &quot;type&quot;: &quot;Polygon&quot;}, &quot;id&quot;: &quot;39657&quot;, &quot;properties&quot;: {&quot;access_left&quot;: &quot;permissive&quot;, &quot;access_right&quot;: &quot;permissive&quot;, &quot;element_left&quot;: &quot;way&quot;, &quot;element_right&quot;: &quot;way&quot;}, &quot;type&quot;: &quot;Feature&quot;}, {&quot;bbox&quot;: [13.7422918, 51.024982400000006, 13.7425656, 51.02511560000001], &quot;geometry&quot;: {&quot;coordinates&quot;: [[[13.7422918, 51.025013399999985], [13.742532400000002, 51.024982400000006], [13.7425656, 51.02508459999999], [13.7423251, 51.02511560000001], [13.7422918, 51.025013399999985]]], &quot;type&quot;: &quot;Polygon&quot;}, &quot;id&quot;: &quot;39876&quot;, &quot;properties&quot;: {&quot;access_left&quot;: &quot;yes&quot;, &quot;access_right&quot;: &quot;yes&quot;, &quot;element_left&quot;: &quot;way&quot;, &quot;element_right&quot;: &quot;way&quot;}, &quot;type&quot;: &quot;Feature&quot;}, {&quot;bbox&quot;: [13.743275, 51.0253725, 13.743538, 51.02551119999999], &quot;geometry&quot;: {&quot;coordinates&quot;: [[[13.743275, 51.025402199999995], [13.7435018, 51.0253725], [13.743538, 51.0254815], [13.7433111, 51.02551119999999], [13.743275, 51.025402199999995]]], &quot;type&quot;: &quot;Polygon&quot;}, &quot;id&quot;: &quot;39877&quot;, &quot;properties&quot;: {&quot;access_left&quot;: &quot;yes&quot;, &quot;access_right&quot;: &quot;yes&quot;, &quot;element_left&quot;: &quot;node&quot;, &quot;element_right&quot;: &quot;way&quot;}, &quot;type&quot;: &quot;Feature&quot;}, {&quot;bbox&quot;: [13.763306, 51.0565603, 13.7650966, 51.0575527], &quot;geometry&quot;: {&quot;coordinates&quot;: [[[13.763306, 51.05706849999999], [13.7635427, 51.0570209], [13.7641269, 51.0565603], [13.7644886, 51.0567616], [13.7645125, 51.0567784], [13.7648699, 51.0569782], [13.7646305, 51.057338699999995], [13.7650966, 51.0574741], [13.765040100000002, 51.0575527], [13.763306, 51.05706849999999]]], &quot;type&quot;: &quot;Polygon&quot;}, &quot;id&quot;: &quot;40086&quot;, &quot;properties&quot;: {&quot;access_left&quot;: &quot;yes&quot;, &quot;access_right&quot;: &quot;yes&quot;, &quot;element_left&quot;: &quot;way&quot;, &quot;element_right&quot;: &quot;way&quot;}, &quot;type&quot;: &quot;Feature&quot;}, {&quot;bbox&quot;: [13.7822668, 51.05780899999999, 13.782767, 51.058227699999996], &quot;geometry&quot;: {&quot;coordinates&quot;: [[[13.7823611, 51.05780899999999], [13.7826453, 51.05782119999999], [13.7827261, 51.0578839], [13.7827135, 51.058033799999976], [13.782767, 51.05803509999999], [13.7827564, 51.058158], [13.7826386, 51.058227699999996], [13.782316100000001, 51.05821349999999], [13.7823237, 51.05814109999999], [13.782268, 51.058139000000004], [13.7822786, 51.058041499999995], [13.7822668, 51.058027200000005], [13.78228, 51.05790249999999], [13.7823138, 51.057883299999986], [13.7823189, 51.05783189999999], [13.7823611, 51.05780899999999]]], &quot;type&quot;: &quot;Polygon&quot;}, &quot;id&quot;: &quot;40195&quot;, &quot;properties&quot;: {&quot;access_left&quot;: &quot;customers&quot;, &quot;access_right&quot;: &quot;yes&quot;, &quot;element_left&quot;: &quot;way&quot;, &quot;element_right&quot;: &quot;way&quot;}, &quot;type&quot;: &quot;Feature&quot;}, {&quot;bbox&quot;: [13.6924259, 51.0454944, 13.6925933, 51.0455995], &quot;geometry&quot;: {&quot;coordinates&quot;: [[[13.6924259, 51.0455505], [13.6924353, 51.0455718], [13.6924576, 51.0455887], [13.692489, 51.0455985], [13.6925239, 51.0455995], [13.6925565, 51.04559139999999], [13.6925811, 51.04557569999999], [13.6925933, 51.045555099999994], [13.692591100000001, 51.0455331], [13.6925749, 51.045513599999985], [13.692547500000002, 51.045499899999996], [13.6925136, 51.0454944], [13.6924791, 51.045498], [13.692449900000002, 51.045510199999995], [13.6924311, 51.0455288], [13.6924259, 51.0455505]]], &quot;type&quot;: &quot;Polygon&quot;}, &quot;id&quot;: &quot;40201&quot;, &quot;properties&quot;: {&quot;access_left&quot;: &quot;yes&quot;, &quot;access_right&quot;: &quot;yes&quot;, &quot;element_left&quot;: &quot;way&quot;, &quot;element_right&quot;: &quot;way&quot;}, &quot;type&quot;: &quot;Feature&quot;}, {&quot;bbox&quot;: [13.834640100000001, 51.003325800000006, 13.8352309, 51.0038314], &quot;geometry&quot;: {&quot;coordinates&quot;: [[[13.8351544, 51.0038314], [13.8352309, 51.0037862], [13.8349745, 51.003674], [13.8350041, 51.0036497], [13.8349854, 51.0036413], [13.8349592, 51.0036301], [13.835181000000002, 51.00343219999999], [13.8349744, 51.00333769999999], [13.8349491, 51.003325800000006], [13.834640100000001, 51.003602799999996], [13.8351544, 51.0038314]]], &quot;type&quot;: &quot;Polygon&quot;}, &quot;id&quot;: &quot;40450&quot;, &quot;properties&quot;: {&quot;access_left&quot;: &quot;yes&quot;, &quot;access_right&quot;: &quot;yes&quot;, &quot;element_left&quot;: &quot;node&quot;, &quot;element_right&quot;: &quot;way&quot;}, &quot;type&quot;: &quot;Feature&quot;}, {&quot;bbox&quot;: [13.834640100000001, 51.003325800000006, 13.8352309, 51.0038314], &quot;geometry&quot;: {&quot;coordinates&quot;: [[[13.8351544, 51.0038314], [13.8352309, 51.0037862], [13.8349745, 51.003674], [13.8350041, 51.0036497], [13.8349854, 51.0036413], [13.8349592, 51.0036301], [13.835181000000002, 51.00343219999999], [13.8349744, 51.00333769999999], [13.8349491, 51.003325800000006], [13.834640100000001, 51.003602799999996], [13.8351544, 51.0038314]]], &quot;type&quot;: &quot;Polygon&quot;}, &quot;id&quot;: &quot;40452&quot;, &quot;properties&quot;: {&quot;access_left&quot;: &quot;yes&quot;, &quot;access_right&quot;: &quot;yes&quot;, &quot;element_left&quot;: &quot;way&quot;, &quot;element_right&quot;: &quot;way&quot;}, &quot;type&quot;: &quot;Feature&quot;}, {&quot;bbox&quot;: [13.8385085, 51.1235384, 13.8393912, 51.124329200000005], &quot;geometry&quot;: {&quot;coordinates&quot;: [[[13.8391651, 51.124329200000005], [13.8385085, 51.1242945], [13.8386193, 51.1239431], [13.8386936, 51.1239536], [13.8388297, 51.1235714], [13.8389106, 51.1235384], [13.8393912, 51.1236522], [13.8391651, 51.124329200000005]]], &quot;type&quot;: &quot;Polygon&quot;}, &quot;id&quot;: &quot;40756&quot;, &quot;properties&quot;: {&quot;access_left&quot;: &quot;yes&quot;, &quot;access_right&quot;: &quot;yes&quot;, &quot;element_left&quot;: &quot;way&quot;, &quot;element_right&quot;: &quot;way&quot;}, &quot;type&quot;: &quot;Feature&quot;}, {&quot;bbox&quot;: [13.951349, 51.09665879999999, 13.9516605, 51.096834499999986], &quot;geometry&quot;: {&quot;coordinates&quot;: [[[13.9514657, 51.09665879999999], [13.9516605, 51.09669519999999], [13.9516281, 51.0967573], [13.9515694, 51.096834499999986], [13.951349, 51.09678869999999], [13.9514088, 51.0967267], [13.9514273, 51.09670460000001], [13.9514657, 51.09665879999999]]], &quot;type&quot;: &quot;Polygon&quot;}, &quot;id&quot;: &quot;40991&quot;, &quot;properties&quot;: {&quot;access_left&quot;: &quot;yes&quot;, &quot;access_right&quot;: &quot;yes&quot;, &quot;element_left&quot;: &quot;node&quot;, &quot;element_right&quot;: &quot;way&quot;}, &quot;type&quot;: &quot;Feature&quot;}, {&quot;bbox&quot;: [13.722343000000002, 51.086049399999986, 13.7239919, 51.087588800000006], &quot;geometry&quot;: {&quot;coordinates&quot;: [[[13.7227267, 51.0861821], [13.7225683, 51.08632839999999], [13.7225528, 51.08632219999999], [13.7224135, 51.086453399999996], [13.7224708, 51.086562499999985], [13.722343000000002, 51.086589999999994], [13.7224571, 51.086789], [13.7224315, 51.0867943], [13.7227333, 51.0873752], [13.7227577, 51.087370099999994], [13.7228554, 51.08755519999999], [13.7229081, 51.0875447], [13.7229325, 51.087588800000006], [13.7229446, 51.0875676], [13.7229211, 51.0875271], [13.7228778, 51.08753589999999], [13.722766400000001, 51.08732090000001], [13.7229327, 51.087286899999995], [13.7230441, 51.08750189999999], [13.7229957, 51.0875118], [13.723026800000001, 51.0875693], [13.7231599, 51.0875414], [13.7231289, 51.0874815], [13.7231681, 51.0874725], [13.7231754, 51.0874847], [13.7232332, 51.087469999999996], [13.7232492, 51.0874657], [13.7232308, 51.0874356], [13.7231513, 51.08730679999999], [13.7233667, 51.0872543], [13.7234463, 51.08738309999999], [13.72336, 51.087404199999995], [13.7233723, 51.0874261], [13.7234724, 51.087401199999995], [13.7235031, 51.087385199999986], [13.7235135, 51.0873638], [13.7234242, 51.0872096], [13.7233671, 51.08716629999999], [13.7231031, 51.086724999999994], [13.7227858, 51.0868045], [13.7227506, 51.0867528], [13.7226879, 51.0866581], [13.7233793, 51.08647740000001], [13.7234427, 51.086573200000004], [13.723344, 51.086599], [13.7233849, 51.08665499999999], [13.7231509, 51.0867134], [13.723403, 51.0871286], [13.723470100000002, 51.08719399999999], [13.723565, 51.08735239999999], [13.7235963, 51.087363], [13.7236247, 51.087365899999995], [13.7236732, 51.087371], [13.7237019, 51.087378799999996], [13.7239919, 51.087307700000004], [13.7238579, 51.0870791], [13.7233232, 51.0862264], [13.7228835, 51.086049399999986], [13.7228297, 51.0860993], [13.7230014, 51.0863814], [13.722851, 51.08641209999998], [13.7228327, 51.0863776], [13.7227534, 51.08639229999999], [13.7226823, 51.086254399999994], [13.7227539, 51.08623949999999], [13.7227267, 51.0861821]]], &quot;type&quot;: &quot;Polygon&quot;}, &quot;id&quot;: &quot;41073&quot;, &quot;properties&quot;: {&quot;access_left&quot;: &quot;customers&quot;, &quot;access_right&quot;: &quot;private&quot;, &quot;element_left&quot;: &quot;node&quot;, &quot;element_right&quot;: &quot;way&quot;}, &quot;type&quot;: &quot;Feature&quot;}, {&quot;bbox&quot;: [13.9205908, 50.9809758, 13.9253501, 50.9834185], &quot;geometry&quot;: {&quot;coordinates&quot;: [[[13.9253501, 50.982053699999994], [13.9248576, 50.9823894], [13.9248542, 50.9825879], [13.924738, 50.9827226], [13.9244828, 50.9827906], [13.9242256, 50.98272969999999], [13.9241195, 50.98271079999999], [13.924018100000001, 50.9827413], [13.9240265, 50.98279899999999], [13.923845100000001, 50.9828864], [13.9236768, 50.98299819999999], [13.9234385, 50.9831755], [13.9230618, 50.983167400000006], [13.9230191, 50.98313929999999], [13.9228489, 50.982799699999994], [13.921963, 50.9834185], [13.9210213, 50.98298699999999], [13.9209348, 50.98283909999999], [13.9209176, 50.982607], [13.9207438, 50.98204839999999], [13.9205908, 50.9815497], [13.920684, 50.9815205], [13.9209653, 50.9814325], [13.9208675, 50.981296799999996], [13.9217516, 50.981018], [13.9217825, 50.981008499999994], [13.9218606, 50.98111939999999], [13.9218933, 50.9812106], [13.922392800000003, 50.9817857], [13.9224401, 50.9817888], [13.9226055, 50.98179989999999], [13.9228574, 50.9817078], [13.9233452, 50.9815294], [13.923358200000001, 50.9815107], [13.923448, 50.98146879999999], [13.9234951, 50.9814629], [13.923524200000001, 50.98145919999999], [13.9237204, 50.9813543], [13.9241742, 50.9811843], [13.924256000000002, 50.981190999999995], [13.9243138, 50.98122029999999], [13.9243302, 50.981228699999996], [13.9249639, 50.9809758], [13.9249856, 50.980998099999994], [13.9251339, 50.9811507], [13.9249116, 50.9812648], [13.9249899, 50.98132259999999], [13.9248882, 50.9813768], [13.924927300000002, 50.981444], [13.9250414, 50.98152919999999], [13.9251361, 50.981561100000015], [13.92525, 50.981641700000004], [13.9251316, 50.98170950000001], [13.925085, 50.9817358], [13.925024600000002, 50.98177090000001], [13.9249792, 50.9817969], [13.925186, 50.9819401], [13.9253501, 50.982053699999994]]], &quot;type&quot;: &quot;Polygon&quot;}, &quot;id&quot;: &quot;45809&quot;, &quot;properties&quot;: {&quot;access_left&quot;: &quot;customers&quot;, &quot;access_right&quot;: &quot;customers&quot;, &quot;element_left&quot;: &quot;way&quot;, &quot;element_right&quot;: &quot;way&quot;}, &quot;type&quot;: &quot;Feature&quot;}, {&quot;bbox&quot;: [13.7507415, 51.0345591, 13.7590537, 51.0394444], &quot;geometry&quot;: {&quot;coordinates&quot;: [[[13.7590537, 51.034822], [13.7587635, 51.034714599999994], [13.7585929, 51.0345591], [13.757804900000002, 51.0348749], [13.753479, 51.03658349999999], [13.753489, 51.0366014], [13.753016, 51.0367915], [13.753039100000002, 51.0368158], [13.752941900000001, 51.036855800000005], [13.7528963, 51.036874600000004], [13.752878, 51.0369261], [13.7527281, 51.037072900000005], [13.7527106, 51.03709899999999], [13.7526503, 51.037126], [13.752623500000002, 51.037109099999995], [13.7525765, 51.037106599999994], [13.7525457, 51.03712350000001], [13.7525282, 51.037146199999995], [13.7525457, 51.037166499999984], [13.7523928, 51.03722799999999], [13.7523472, 51.037197699999986], [13.752289500000002, 51.03719769999999], [13.7522461, 51.037208699999994], [13.7521997, 51.0372204], [13.7522144, 51.037230599999994], [13.7519247, 51.03731319999999], [13.7518671, 51.0372635], [13.7514431, 51.0374346], [13.7512293, 51.03760249999999], [13.7509329, 51.037885599999996], [13.7507415, 51.0382016], [13.7509839, 51.03857439999999], [13.751100400000002, 51.038732599999996], [13.7519385, 51.03933979999999], [13.7523087, 51.0394368], [13.7527499, 51.0394444], [13.753108, 51.03931869999999], [13.7533118, 51.0392977], [13.7534956, 51.03928329999999], [13.7538602, 51.039047999999994], [13.754230500000002, 51.0388026], [13.7545161, 51.038651599999994], [13.7547043, 51.03853979999999], [13.7548556, 51.038455299999995], [13.7548973, 51.038428999999994], [13.7553912, 51.03815329999999], [13.755887, 51.037902599999995], [13.7565008, 51.037555399999995], [13.7566443, 51.03748150000001], [13.7567767, 51.037409], [13.7572209, 51.0371149], [13.7574272, 51.0369068], [13.7580623, 51.03607649999999], [13.7583826, 51.03569669999999], [13.758645, 51.035364799999996], [13.7588372, 51.03513569999999], [13.7590537, 51.034822]]], &quot;type&quot;: &quot;Polygon&quot;}, &quot;id&quot;: &quot;45824&quot;, &quot;properties&quot;: {&quot;access_left&quot;: &quot;customers&quot;, &quot;access_right&quot;: &quot;customers&quot;, &quot;element_left&quot;: &quot;node&quot;, &quot;element_right&quot;: &quot;way&quot;}, &quot;type&quot;: &quot;Feature&quot;}, {&quot;bbox&quot;: [13.7507415, 51.0345591, 13.7590537, 51.0394444], &quot;geometry&quot;: {&quot;coordinates&quot;: [[[13.7590537, 51.034822], [13.7587635, 51.034714599999994], [13.7585929, 51.0345591], [13.757804900000002, 51.0348749], [13.753479, 51.03658349999999], [13.753489, 51.0366014], [13.753016, 51.0367915], [13.753039100000002, 51.0368158], [13.752941900000001, 51.036855800000005], [13.7528963, 51.036874600000004], [13.752878, 51.0369261], [13.7527281, 51.037072900000005], [13.7527106, 51.03709899999999], [13.7526503, 51.037126], [13.752623500000002, 51.037109099999995], [13.7525765, 51.037106599999994], [13.7525457, 51.03712350000001], [13.7525282, 51.037146199999995], [13.7525457, 51.037166499999984], [13.7523928, 51.03722799999999], [13.7523472, 51.037197699999986], [13.752289500000002, 51.03719769999999], [13.7522461, 51.037208699999994], [13.7521997, 51.0372204], [13.7522144, 51.037230599999994], [13.7519247, 51.03731319999999], [13.7518671, 51.0372635], [13.7514431, 51.0374346], [13.7512293, 51.03760249999999], [13.7509329, 51.037885599999996], [13.7507415, 51.0382016], [13.7509839, 51.03857439999999], [13.751100400000002, 51.038732599999996], [13.7519385, 51.03933979999999], [13.7523087, 51.0394368], [13.7527499, 51.0394444], [13.753108, 51.03931869999999], [13.7533118, 51.0392977], [13.7534956, 51.03928329999999], [13.7538602, 51.039047999999994], [13.754230500000002, 51.0388026], [13.7545161, 51.038651599999994], [13.7547043, 51.03853979999999], [13.7548556, 51.038455299999995], [13.7548973, 51.038428999999994], [13.7553912, 51.03815329999999], [13.755887, 51.037902599999995], [13.7565008, 51.037555399999995], [13.7566443, 51.03748150000001], [13.7567767, 51.037409], [13.7572209, 51.0371149], [13.7574272, 51.0369068], [13.7580623, 51.03607649999999], [13.7583826, 51.03569669999999], [13.758645, 51.035364799999996], [13.7588372, 51.03513569999999], [13.7590537, 51.034822]]], &quot;type&quot;: &quot;Polygon&quot;}, &quot;id&quot;: &quot;45825&quot;, &quot;properties&quot;: {&quot;access_left&quot;: &quot;customers&quot;, &quot;access_right&quot;: &quot;customers&quot;, &quot;element_left&quot;: &quot;way&quot;, &quot;element_right&quot;: &quot;way&quot;}, &quot;type&quot;: &quot;Feature&quot;}, {&quot;bbox&quot;: [13.7507415, 51.0345591, 13.7590537, 51.0394444], &quot;geometry&quot;: {&quot;coordinates&quot;: [[[13.7590537, 51.034822], [13.7587635, 51.034714599999994], [13.7585929, 51.0345591], [13.757804900000002, 51.0348749], [13.753479, 51.03658349999999], [13.753489, 51.0366014], [13.753016, 51.0367915], [13.753039100000002, 51.0368158], [13.752941900000001, 51.036855800000005], [13.7528963, 51.036874600000004], [13.752878, 51.0369261], [13.7527281, 51.037072900000005], [13.7527106, 51.03709899999999], [13.7526503, 51.037126], [13.752623500000002, 51.037109099999995], [13.7525765, 51.037106599999994], [13.7525457, 51.03712350000001], [13.7525282, 51.037146199999995], [13.7525457, 51.037166499999984], [13.7523928, 51.03722799999999], [13.7523472, 51.037197699999986], [13.752289500000002, 51.03719769999999], [13.7522461, 51.037208699999994], [13.7521997, 51.0372204], [13.7522144, 51.037230599999994], [13.7519247, 51.03731319999999], [13.7518671, 51.0372635], [13.7514431, 51.0374346], [13.7512293, 51.03760249999999], [13.7509329, 51.037885599999996], [13.7507415, 51.0382016], [13.7509839, 51.03857439999999], [13.751100400000002, 51.038732599999996], [13.7519385, 51.03933979999999], [13.7523087, 51.0394368], [13.7527499, 51.0394444], [13.753108, 51.03931869999999], [13.7533118, 51.0392977], [13.7534956, 51.03928329999999], [13.7538602, 51.039047999999994], [13.754230500000002, 51.0388026], [13.7545161, 51.038651599999994], [13.7547043, 51.03853979999999], [13.7548556, 51.038455299999995], [13.7548973, 51.038428999999994], [13.7553912, 51.03815329999999], [13.755887, 51.037902599999995], [13.7565008, 51.037555399999995], [13.7566443, 51.03748150000001], [13.7567767, 51.037409], [13.7572209, 51.0371149], [13.7574272, 51.0369068], [13.7580623, 51.03607649999999], [13.7583826, 51.03569669999999], [13.758645, 51.035364799999996], [13.7588372, 51.03513569999999], [13.7590537, 51.034822]]], &quot;type&quot;: &quot;Polygon&quot;}, &quot;id&quot;: &quot;45827&quot;, &quot;properties&quot;: {&quot;access_left&quot;: &quot;customers&quot;, &quot;access_right&quot;: &quot;customers&quot;, &quot;element_left&quot;: &quot;way&quot;, &quot;element_right&quot;: &quot;way&quot;}, &quot;type&quot;: &quot;Feature&quot;}, {&quot;bbox&quot;: [13.7507415, 51.0345591, 13.7590537, 51.0394444], &quot;geometry&quot;: {&quot;coordinates&quot;: [[[13.7590537, 51.034822], [13.7587635, 51.034714599999994], [13.7585929, 51.0345591], [13.757804900000002, 51.0348749], [13.753479, 51.03658349999999], [13.753489, 51.0366014], [13.753016, 51.0367915], [13.753039100000002, 51.0368158], [13.752941900000001, 51.036855800000005], [13.7528963, 51.036874600000004], [13.752878, 51.0369261], [13.7527281, 51.037072900000005], [13.7527106, 51.03709899999999], [13.7526503, 51.037126], [13.752623500000002, 51.037109099999995], [13.7525765, 51.037106599999994], [13.7525457, 51.03712350000001], [13.7525282, 51.037146199999995], [13.7525457, 51.037166499999984], [13.7523928, 51.03722799999999], [13.7523472, 51.037197699999986], [13.752289500000002, 51.03719769999999], [13.7522461, 51.037208699999994], [13.7521997, 51.0372204], [13.7522144, 51.037230599999994], [13.7519247, 51.03731319999999], [13.7518671, 51.0372635], [13.7514431, 51.0374346], [13.7512293, 51.03760249999999], [13.7509329, 51.037885599999996], [13.7507415, 51.0382016], [13.7509839, 51.03857439999999], [13.751100400000002, 51.038732599999996], [13.7519385, 51.03933979999999], [13.7523087, 51.0394368], [13.7527499, 51.0394444], [13.753108, 51.03931869999999], [13.7533118, 51.0392977], [13.7534956, 51.03928329999999], [13.7538602, 51.039047999999994], [13.754230500000002, 51.0388026], [13.7545161, 51.038651599999994], [13.7547043, 51.03853979999999], [13.7548556, 51.038455299999995], [13.7548973, 51.038428999999994], [13.7553912, 51.03815329999999], [13.755887, 51.037902599999995], [13.7565008, 51.037555399999995], [13.7566443, 51.03748150000001], [13.7567767, 51.037409], [13.7572209, 51.0371149], [13.7574272, 51.0369068], [13.7580623, 51.03607649999999], [13.7583826, 51.03569669999999], [13.758645, 51.035364799999996], [13.7588372, 51.03513569999999], [13.7590537, 51.034822]]], &quot;type&quot;: &quot;Polygon&quot;}, &quot;id&quot;: &quot;45829&quot;, &quot;properties&quot;: {&quot;access_left&quot;: &quot;customers&quot;, &quot;access_right&quot;: &quot;customers&quot;, &quot;element_left&quot;: &quot;way&quot;, &quot;element_right&quot;: &quot;way&quot;}, &quot;type&quot;: &quot;Feature&quot;}, {&quot;bbox&quot;: [13.7507415, 51.0345591, 13.7590537, 51.0394444], &quot;geometry&quot;: {&quot;coordinates&quot;: [[[13.7590537, 51.034822], [13.7587635, 51.034714599999994], [13.7585929, 51.0345591], [13.757804900000002, 51.0348749], [13.753479, 51.03658349999999], [13.753489, 51.0366014], [13.753016, 51.0367915], [13.753039100000002, 51.0368158], [13.752941900000001, 51.036855800000005], [13.7528963, 51.036874600000004], [13.752878, 51.0369261], [13.7527281, 51.037072900000005], [13.7527106, 51.03709899999999], [13.7526503, 51.037126], [13.752623500000002, 51.037109099999995], [13.7525765, 51.037106599999994], [13.7525457, 51.03712350000001], [13.7525282, 51.037146199999995], [13.7525457, 51.037166499999984], [13.7523928, 51.03722799999999], [13.7523472, 51.037197699999986], [13.752289500000002, 51.03719769999999], [13.7522461, 51.037208699999994], [13.7521997, 51.0372204], [13.7522144, 51.037230599999994], [13.7519247, 51.03731319999999], [13.7518671, 51.0372635], [13.7514431, 51.0374346], [13.7512293, 51.03760249999999], [13.7509329, 51.037885599999996], [13.7507415, 51.0382016], [13.7509839, 51.03857439999999], [13.751100400000002, 51.038732599999996], [13.7519385, 51.03933979999999], [13.7523087, 51.0394368], [13.7527499, 51.0394444], [13.753108, 51.03931869999999], [13.7533118, 51.0392977], [13.7534956, 51.03928329999999], [13.7538602, 51.039047999999994], [13.754230500000002, 51.0388026], [13.7545161, 51.038651599999994], [13.7547043, 51.03853979999999], [13.7548556, 51.038455299999995], [13.7548973, 51.038428999999994], [13.7553912, 51.03815329999999], [13.755887, 51.037902599999995], [13.7565008, 51.037555399999995], [13.7566443, 51.03748150000001], [13.7567767, 51.037409], [13.7572209, 51.0371149], [13.7574272, 51.0369068], [13.7580623, 51.03607649999999], [13.7583826, 51.03569669999999], [13.758645, 51.035364799999996], [13.7588372, 51.03513569999999], [13.7590537, 51.034822]]], &quot;type&quot;: &quot;Polygon&quot;}, &quot;id&quot;: &quot;45830&quot;, &quot;properties&quot;: {&quot;access_left&quot;: &quot;customers&quot;, &quot;access_right&quot;: &quot;customers&quot;, &quot;element_left&quot;: &quot;way&quot;, &quot;element_right&quot;: &quot;way&quot;}, &quot;type&quot;: &quot;Feature&quot;}, {&quot;bbox&quot;: [13.7507415, 51.0345591, 13.7590537, 51.0394444], &quot;geometry&quot;: {&quot;coordinates&quot;: [[[13.7590537, 51.034822], [13.7587635, 51.034714599999994], [13.7585929, 51.0345591], [13.757804900000002, 51.0348749], [13.753479, 51.03658349999999], [13.753489, 51.0366014], [13.753016, 51.0367915], [13.753039100000002, 51.0368158], [13.752941900000001, 51.036855800000005], [13.7528963, 51.036874600000004], [13.752878, 51.0369261], [13.7527281, 51.037072900000005], [13.7527106, 51.03709899999999], [13.7526503, 51.037126], [13.752623500000002, 51.037109099999995], [13.7525765, 51.037106599999994], [13.7525457, 51.03712350000001], [13.7525282, 51.037146199999995], [13.7525457, 51.037166499999984], [13.7523928, 51.03722799999999], [13.7523472, 51.037197699999986], [13.752289500000002, 51.03719769999999], [13.7522461, 51.037208699999994], [13.7521997, 51.0372204], [13.7522144, 51.037230599999994], [13.7519247, 51.03731319999999], [13.7518671, 51.0372635], [13.7514431, 51.0374346], [13.7512293, 51.03760249999999], [13.7509329, 51.037885599999996], [13.7507415, 51.0382016], [13.7509839, 51.03857439999999], [13.751100400000002, 51.038732599999996], [13.7519385, 51.03933979999999], [13.7523087, 51.0394368], [13.7527499, 51.0394444], [13.753108, 51.03931869999999], [13.7533118, 51.0392977], [13.7534956, 51.03928329999999], [13.7538602, 51.039047999999994], [13.754230500000002, 51.0388026], [13.7545161, 51.038651599999994], [13.7547043, 51.03853979999999], [13.7548556, 51.038455299999995], [13.7548973, 51.038428999999994], [13.7553912, 51.03815329999999], [13.755887, 51.037902599999995], [13.7565008, 51.037555399999995], [13.7566443, 51.03748150000001], [13.7567767, 51.037409], [13.7572209, 51.0371149], [13.7574272, 51.0369068], [13.7580623, 51.03607649999999], [13.7583826, 51.03569669999999], [13.758645, 51.035364799999996], [13.7588372, 51.03513569999999], [13.7590537, 51.034822]]], &quot;type&quot;: &quot;Polygon&quot;}, &quot;id&quot;: &quot;45831&quot;, &quot;properties&quot;: {&quot;access_left&quot;: &quot;customers&quot;, &quot;access_right&quot;: &quot;customers&quot;, &quot;element_left&quot;: &quot;way&quot;, &quot;element_right&quot;: &quot;way&quot;}, &quot;type&quot;: &quot;Feature&quot;}, {&quot;bbox&quot;: [13.7507415, 51.0345591, 13.7590537, 51.0394444], &quot;geometry&quot;: {&quot;coordinates&quot;: [[[13.7590537, 51.034822], [13.7587635, 51.034714599999994], [13.7585929, 51.0345591], [13.757804900000002, 51.0348749], [13.753479, 51.03658349999999], [13.753489, 51.0366014], [13.753016, 51.0367915], [13.753039100000002, 51.0368158], [13.752941900000001, 51.036855800000005], [13.7528963, 51.036874600000004], [13.752878, 51.0369261], [13.7527281, 51.037072900000005], [13.7527106, 51.03709899999999], [13.7526503, 51.037126], [13.752623500000002, 51.037109099999995], [13.7525765, 51.037106599999994], [13.7525457, 51.03712350000001], [13.7525282, 51.037146199999995], [13.7525457, 51.037166499999984], [13.7523928, 51.03722799999999], [13.7523472, 51.037197699999986], [13.752289500000002, 51.03719769999999], [13.7522461, 51.037208699999994], [13.7521997, 51.0372204], [13.7522144, 51.037230599999994], [13.7519247, 51.03731319999999], [13.7518671, 51.0372635], [13.7514431, 51.0374346], [13.7512293, 51.03760249999999], [13.7509329, 51.037885599999996], [13.7507415, 51.0382016], [13.7509839, 51.03857439999999], [13.751100400000002, 51.038732599999996], [13.7519385, 51.03933979999999], [13.7523087, 51.0394368], [13.7527499, 51.0394444], [13.753108, 51.03931869999999], [13.7533118, 51.0392977], [13.7534956, 51.03928329999999], [13.7538602, 51.039047999999994], [13.754230500000002, 51.0388026], [13.7545161, 51.038651599999994], [13.7547043, 51.03853979999999], [13.7548556, 51.038455299999995], [13.7548973, 51.038428999999994], [13.7553912, 51.03815329999999], [13.755887, 51.037902599999995], [13.7565008, 51.037555399999995], [13.7566443, 51.03748150000001], [13.7567767, 51.037409], [13.7572209, 51.0371149], [13.7574272, 51.0369068], [13.7580623, 51.03607649999999], [13.7583826, 51.03569669999999], [13.758645, 51.035364799999996], [13.7588372, 51.03513569999999], [13.7590537, 51.034822]]], &quot;type&quot;: &quot;Polygon&quot;}, &quot;id&quot;: &quot;45832&quot;, &quot;properties&quot;: {&quot;access_left&quot;: &quot;customers&quot;, &quot;access_right&quot;: &quot;customers&quot;, &quot;element_left&quot;: &quot;way&quot;, &quot;element_right&quot;: &quot;way&quot;}, &quot;type&quot;: &quot;Feature&quot;}], &quot;type&quot;: &quot;FeatureCollection&quot;});\n",
       "\n",
       "        \n",
       "    \n",
       "    geo_json_38a9410b9d47ccd126ea15aff2e1046b.bindTooltip(\n",
       "    function(layer){\n",
       "    let div = L.DomUtil.create(&#x27;div&#x27;);\n",
       "    \n",
       "    let handleObject = feature=&gt;typeof(feature)==&#x27;object&#x27; ? JSON.stringify(feature) : feature;\n",
       "    let fields = [&quot;access_left&quot;, &quot;access_right&quot;, &quot;element_left&quot;, &quot;element_right&quot;];\n",
       "    let aliases = [&quot;access_left&quot;, &quot;access_right&quot;, &quot;element_left&quot;, &quot;element_right&quot;];\n",
       "    let table = &#x27;&lt;table&gt;&#x27; +\n",
       "        String(\n",
       "        fields.map(\n",
       "        (v,i)=&gt;\n",
       "        `&lt;tr&gt;\n",
       "            &lt;th&gt;${aliases[i]}&lt;/th&gt;\n",
       "            \n",
       "            &lt;td&gt;${handleObject(layer.feature.properties[v])}&lt;/td&gt;\n",
       "        &lt;/tr&gt;`).join(&#x27;&#x27;))\n",
       "    +&#x27;&lt;/table&gt;&#x27;;\n",
       "    div.innerHTML=table;\n",
       "    \n",
       "    return div\n",
       "    }\n",
       "    ,{\n",
       "  &quot;sticky&quot;: true,\n",
       "  &quot;className&quot;: &quot;foliumtooltip&quot;,\n",
       "});\n",
       "                     \n",
       "    \n",
       "            geo_json_38a9410b9d47ccd126ea15aff2e1046b.addTo(map_4bab1794988776bb44afa72275936f8e);\n",
       "        \n",
       "&lt;/script&gt;\n",
       "&lt;/html&gt;\" style=\"position:absolute;width:100%;height:100%;left:0;top:0;border:none !important;\" allowfullscreen webkitallowfullscreen mozallowfullscreen></iframe></div></div>"
      ],
      "text/plain": [
       "<folium.folium.Map at 0x7f4f515bfe00>"
      ]
     },
     "execution_count": 243,
     "metadata": {},
     "output_type": "execute_result"
    }
   ],
   "source": [
    "clean_joined_green_space[(~clean_joined_green_space['access_left'].isna())&(~clean_joined_green_space['access_right'].isna())][['access_left', 'access_right', 'element_left', 'element_right', 'geometry']].explore()"
   ]
  },
  {
   "cell_type": "code",
   "execution_count": null,
   "metadata": {},
   "outputs": [],
   "source": []
  }
 ],
 "metadata": {
  "kernelspec": {
   "display_name": "pugs-detection-new",
   "language": "python",
   "name": "python3"
  },
  "language_info": {
   "codemirror_mode": {
    "name": "ipython",
    "version": 3
   },
   "file_extension": ".py",
   "mimetype": "text/x-python",
   "name": "python",
   "nbconvert_exporter": "python",
   "pygments_lexer": "ipython3",
   "version": "3.12.8"
  }
 },
 "nbformat": 4,
 "nbformat_minor": 2
}
